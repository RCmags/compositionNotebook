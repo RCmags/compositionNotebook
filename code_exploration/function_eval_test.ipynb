{
 "cells": [
  {
   "cell_type": "markdown",
   "id": "headed-clinic",
   "metadata": {},
   "source": [
    "<h3>1 - Object compilation example</h3>"
   ]
  },
  {
   "cell_type": "markdown",
   "id": "instrumental-arizona",
   "metadata": {},
   "source": [
    "This is a modification of the example shown by Evan Pattern in this youtube video: [~ 36 min]  \n",
    "https://www.youtube.com/watch?v=7dmrDYQh4rc\n",
    "\n",
    "The Slides of his talk are available here:  \n",
    "https://www.epatters.org/assets/slides/2020-catlab/mit-iap-2020.slides#/6\n",
    "\n",
    "This part of the workbook expands his example to illustrate how it can be used to generate numerical outputs."
   ]
  },
  {
   "cell_type": "markdown",
   "id": "advance-termination",
   "metadata": {},
   "source": [
    "<h4> Code: </h4>"
   ]
  },
  {
   "cell_type": "code",
   "execution_count": 1,
   "id": "bridal-rehabilitation",
   "metadata": {},
   "outputs": [],
   "source": [
    "#Include Packages and modules\n",
    "\n",
    "using Catlab\n",
    "using Catlab.Theories\n",
    "using Catlab.Graphics\n",
    "using Catlab.Graphics.Graphviz\n",
    "using Catlab.WiringDiagrams\n",
    "using Catlab.LinearAlgebra\n",
    "using Catlab.Programs\n",
    "using Plots"
   ]
  },
  {
   "cell_type": "code",
   "execution_count": 2,
   "id": "chief-discovery",
   "metadata": {},
   "outputs": [],
   "source": [
    "# Define MACRO with desired elements or functions\n",
    "\n",
    "@present TrigFunctions(FreeCartesianCategory) begin\n",
    "    R::Ob                     # Object of Real numbers\n",
    "    sin::Hom(R,R)             # Sine function, Transform R into R\n",
    "    cos::Hom(R,R)             # Cosine function, Transform R into R\n",
    "    \n",
    "    # Operations between functions\n",
    "    (+)::Hom(otimes(R,R),R)   # Addition, operates on R and R, and outputs R\n",
    "    (*)::Hom(otimes(R,R),R)   # Multiplication, operates on R and R, and outputs R\n",
    "end;"
   ]
  },
  {
   "cell_type": "markdown",
   "id": "blank-problem",
   "metadata": {},
   "source": [
    "With the above macro, one can make instances of different objets using the \"generator\" function."
   ]
  },
  {
   "cell_type": "code",
   "execution_count": 3,
   "id": "biological-warning",
   "metadata": {},
   "outputs": [
    {
     "data": {
      "text/latex": [
       "$\\mathrm{cos} : R \\to R$"
      ],
      "text/plain": [
       "cos"
      ]
     },
     "metadata": {},
     "output_type": "display_data"
    },
    {
     "data": {
      "text/latex": [
       "$\\mathrm{sin} : R \\to R$"
      ],
      "text/plain": [
       "sin"
      ]
     },
     "metadata": {},
     "output_type": "display_data"
    }
   ],
   "source": [
    "# Instances of Function objects:\n",
    "\n",
    "display( generator(TrigFunctions, :cos) )\n",
    "display( generator(TrigFunctions, :sin) )"
   ]
  },
  {
   "cell_type": "code",
   "execution_count": 4,
   "id": "geological-worry",
   "metadata": {},
   "outputs": [
    {
     "data": {
      "text/latex": [
       "$+ : R \\otimes R \\to R$"
      ],
      "text/plain": [
       "+"
      ]
     },
     "metadata": {},
     "output_type": "display_data"
    },
    {
     "data": {
      "text/latex": [
       "$* : R \\otimes R \\to R$"
      ],
      "text/plain": [
       "*"
      ]
     },
     "metadata": {},
     "output_type": "display_data"
    }
   ],
   "source": [
    "# Instances of relationships between functions:\n",
    "\n",
    "display( generator(TrigFunctions, :+) )\n",
    "display( generator(TrigFunctions, :*) )"
   ]
  },
  {
   "cell_type": "markdown",
   "id": "working-sessions",
   "metadata": {},
   "source": [
    "One can use the returned objects to generate Compositions or other relationships"
   ]
  },
  {
   "cell_type": "code",
   "execution_count": 5,
   "id": "opponent-cooper",
   "metadata": {},
   "outputs": [],
   "source": [
    "# General function that selects speficic objects from MACRO. \n",
    "\n",
    "genFunc( input::Symbol ) = generator( TrigFunctions, input );"
   ]
  },
  {
   "cell_type": "code",
   "execution_count": 6,
   "id": "biological-douglas",
   "metadata": {},
   "outputs": [],
   "source": [
    "# Compose functions with specified operator\n",
    "\n",
    "comp_sum = compose( mcopy( genFunc(:R) ),                    # Define input domain\n",
    "                    otimes( genFunc(:cos), genFunc(:sin) ),  # Functions to compose\n",
    "                    genFunc(:+) );                           # Apply operator between functions\n",
    "\n",
    "comp_mul = compose( mcopy( genFunc(:R) ),                   \n",
    "                    otimes( genFunc(:cos), genFunc(:sin) ), \n",
    "                    genFunc(:*) );                           # Apply Multiplication"
   ]
  },
  {
   "cell_type": "code",
   "execution_count": 9,
   "id": "banner-textbook",
   "metadata": {},
   "outputs": [
    {
     "data": {
      "text/latex": [
       "$\\Delta_{R} \\cdot \\left(\\mathrm{cos} \\otimes \\mathrm{sin}\\right) \\cdot + : R \\to R$"
      ],
      "text/plain": [
       "compose(mcopy(R),otimes(cos,sin),+)"
      ]
     },
     "metadata": {},
     "output_type": "display_data"
    },
    {
     "data": {
      "text/latex": [
       "$\\Delta_{R} \\cdot \\left(\\mathrm{cos} \\otimes \\mathrm{sin}\\right) \\cdot * : R \\to R$"
      ],
      "text/plain": [
       "compose(mcopy(R),otimes(cos,sin),*)"
      ]
     },
     "metadata": {},
     "output_type": "display_data"
    }
   ],
   "source": [
    "# Diplay compositions\n",
    "display( comp_sum )\n",
    "display( comp_mul )"
   ]
  },
  {
   "cell_type": "markdown",
   "id": "polar-timing",
   "metadata": {},
   "source": [
    "These objects can be transformed to uncompiled Julia code.  \n",
    "\n",
    "See this link for more information on how to use \"Expr\" data type.  \n",
    "https://syl1.gitbook.io/julia-language-a-concise-tutorial/language-core/metaprogramming"
   ]
  },
  {
   "cell_type": "code",
   "execution_count": 10,
   "id": "respiratory-disco",
   "metadata": {},
   "outputs": [
    {
     "data": {
      "text/plain": [
       ":(function (x,)\n",
       "      v1 = cos(x)\n",
       "      return v1\n",
       "  end)"
      ]
     },
     "execution_count": 10,
     "metadata": {},
     "output_type": "execute_result"
    }
   ],
   "source": [
    "# Transform objects into Code snippets\n",
    "\n",
    "expr_cos = compile_expr( genFunc(:cos), args = [:x] )"
   ]
  },
  {
   "cell_type": "code",
   "execution_count": 12,
   "id": "technological-thinking",
   "metadata": {},
   "outputs": [
    {
     "data": {
      "text/plain": [
       ":(function (x,)\n",
       "      v1 = sin(x)\n",
       "      return v1\n",
       "  end)"
      ]
     },
     "execution_count": 12,
     "metadata": {},
     "output_type": "execute_result"
    }
   ],
   "source": [
    "expr_sin = compile_expr( genFunc(:sin), args = [:x] )"
   ]
  },
  {
   "cell_type": "code",
   "execution_count": 13,
   "id": "framed-lebanon",
   "metadata": {},
   "outputs": [
    {
     "data": {
      "text/plain": [
       ":(function (x,)\n",
       "      v1 = cos(x)\n",
       "      v2 = sin(x)\n",
       "      v3 = v1 + v2\n",
       "      return v3\n",
       "  end)"
      ]
     },
     "execution_count": 13,
     "metadata": {},
     "output_type": "execute_result"
    }
   ],
   "source": [
    "expr_sum = compile_expr( comp_sum, args = [:x] )"
   ]
  },
  {
   "cell_type": "code",
   "execution_count": 14,
   "id": "secret-dependence",
   "metadata": {},
   "outputs": [
    {
     "data": {
      "text/plain": [
       ":(function (x,)\n",
       "      v1 = cos(x)\n",
       "      v2 = sin(x)\n",
       "      v3 = v1 * v2\n",
       "      return v3\n",
       "  end)"
      ]
     },
     "execution_count": 14,
     "metadata": {},
     "output_type": "execute_result"
    }
   ],
   "source": [
    "expr_mul = compile_expr( comp_mul, args = [:x] )"
   ]
  },
  {
   "cell_type": "code",
   "execution_count": 15,
   "id": "swedish-bankruptcy",
   "metadata": {},
   "outputs": [
    {
     "data": {
      "text/plain": [
       "#9 (generic function with 1 method)"
      ]
     },
     "execution_count": 15,
     "metadata": {},
     "output_type": "execute_result"
    }
   ],
   "source": [
    "# Transform \"Expr\" types into functions that can be evaluated:\n",
    "\n",
    "funcCos = eval( expr_cos );\n",
    "funcSin = eval( expr_sin );\n",
    "funcSum = eval( expr_sum );\n",
    "funcMul = eval( expr_mul )"
   ]
  },
  {
   "cell_type": "markdown",
   "id": "digital-opening",
   "metadata": {},
   "source": [
    "Once compiled, this code can be used like any other function in the program. They are essentially anonymous functions generated from the inital MACRO."
   ]
  },
  {
   "cell_type": "code",
   "execution_count": 16,
   "id": "streaming-literacy",
   "metadata": {},
   "outputs": [
    {
     "data": {
      "image/svg+xml": [
       "<?xml version=\"1.0\" encoding=\"utf-8\"?>\n",
       "<svg xmlns=\"http://www.w3.org/2000/svg\" xmlns:xlink=\"http://www.w3.org/1999/xlink\" width=\"600\" height=\"400\" viewBox=\"0 0 2400 1600\">\n",
       "<defs>\n",
       "  <clipPath id=\"clip020\">\n",
       "    <rect x=\"0\" y=\"0\" width=\"2400\" height=\"1600\"/>\n",
       "  </clipPath>\n",
       "</defs>\n",
       "<path clip-path=\"url(#clip020)\" d=\"\n",
       "M0 1600 L2400 1600 L2400 0 L0 0  Z\n",
       "  \" fill=\"#ffffff\" fill-rule=\"evenodd\" fill-opacity=\"1\"/>\n",
       "<defs>\n",
       "  <clipPath id=\"clip021\">\n",
       "    <rect x=\"480\" y=\"0\" width=\"1681\" height=\"1600\"/>\n",
       "  </clipPath>\n",
       "</defs>\n",
       "<path clip-path=\"url(#clip020)\" d=\"\n",
       "M179.654 1486.45 L2352.76 1486.45 L2352.76 47.2441 L179.654 47.2441  Z\n",
       "  \" fill=\"#ffffff\" fill-rule=\"evenodd\" fill-opacity=\"1\"/>\n",
       "<defs>\n",
       "  <clipPath id=\"clip022\">\n",
       "    <rect x=\"179\" y=\"47\" width=\"2174\" height=\"1440\"/>\n",
       "  </clipPath>\n",
       "</defs>\n",
       "<polyline clip-path=\"url(#clip022)\" style=\"stroke:#000000; stroke-width:2; stroke-opacity:0.1; fill:none\" points=\"\n",
       "  241.157,1486.45 241.157,47.2441 \n",
       "  \"/>\n",
       "<polyline clip-path=\"url(#clip022)\" style=\"stroke:#000000; stroke-width:2; stroke-opacity:0.1; fill:none\" points=\"\n",
       "  893.723,1486.45 893.723,47.2441 \n",
       "  \"/>\n",
       "<polyline clip-path=\"url(#clip022)\" style=\"stroke:#000000; stroke-width:2; stroke-opacity:0.1; fill:none\" points=\"\n",
       "  1546.29,1486.45 1546.29,47.2441 \n",
       "  \"/>\n",
       "<polyline clip-path=\"url(#clip022)\" style=\"stroke:#000000; stroke-width:2; stroke-opacity:0.1; fill:none\" points=\"\n",
       "  2198.85,1486.45 2198.85,47.2441 \n",
       "  \"/>\n",
       "<polyline clip-path=\"url(#clip020)\" style=\"stroke:#000000; stroke-width:4; stroke-opacity:1; fill:none\" points=\"\n",
       "  179.654,1486.45 2352.76,1486.45 \n",
       "  \"/>\n",
       "<polyline clip-path=\"url(#clip020)\" style=\"stroke:#000000; stroke-width:4; stroke-opacity:1; fill:none\" points=\"\n",
       "  241.157,1486.45 241.157,1469.18 \n",
       "  \"/>\n",
       "<polyline clip-path=\"url(#clip020)\" style=\"stroke:#000000; stroke-width:4; stroke-opacity:1; fill:none\" points=\"\n",
       "  893.723,1486.45 893.723,1469.18 \n",
       "  \"/>\n",
       "<polyline clip-path=\"url(#clip020)\" style=\"stroke:#000000; stroke-width:4; stroke-opacity:1; fill:none\" points=\"\n",
       "  1546.29,1486.45 1546.29,1469.18 \n",
       "  \"/>\n",
       "<polyline clip-path=\"url(#clip020)\" style=\"stroke:#000000; stroke-width:4; stroke-opacity:1; fill:none\" points=\"\n",
       "  2198.85,1486.45 2198.85,1469.18 \n",
       "  \"/>\n",
       "<path clip-path=\"url(#clip020)\" d=\"M 0 0 M241.157 1515.64 Q237.545 1515.64 235.717 1519.2 Q233.911 1522.75 233.911 1529.87 Q233.911 1536.98 235.717 1540.55 Q237.545 1544.09 241.157 1544.09 Q244.791 1544.09 246.596 1540.55 Q248.425 1536.98 248.425 1529.87 Q248.425 1522.75 246.596 1519.2 Q244.791 1515.64 241.157 1515.64 M241.157 1511.93 Q246.967 1511.93 250.022 1516.54 Q253.101 1521.12 253.101 1529.87 Q253.101 1538.6 250.022 1543.21 Q246.967 1547.79 241.157 1547.79 Q235.346 1547.79 232.268 1543.21 Q229.212 1538.6 229.212 1529.87 Q229.212 1521.12 232.268 1516.54 Q235.346 1511.93 241.157 1511.93 Z\" fill=\"#000000\" fill-rule=\"evenodd\" fill-opacity=\"1\" /><path clip-path=\"url(#clip020)\" d=\"M 0 0 M884.105 1543.18 L891.743 1543.18 L891.743 1516.82 L883.433 1518.49 L883.433 1514.23 L891.697 1512.56 L896.373 1512.56 L896.373 1543.18 L904.012 1543.18 L904.012 1547.12 L884.105 1547.12 L884.105 1543.18 Z\" fill=\"#000000\" fill-rule=\"evenodd\" fill-opacity=\"1\" /><path clip-path=\"url(#clip020)\" d=\"M 0 0 M1540.94 1543.18 L1557.26 1543.18 L1557.26 1547.12 L1535.32 1547.12 L1535.32 1543.18 Q1537.98 1540.43 1542.56 1535.8 Q1547.17 1531.15 1548.35 1529.81 Q1550.59 1527.28 1551.47 1525.55 Q1552.38 1523.79 1552.38 1522.1 Q1552.38 1519.34 1550.43 1517.61 Q1548.51 1515.87 1545.41 1515.87 Q1543.21 1515.87 1540.76 1516.63 Q1538.33 1517.4 1535.55 1518.95 L1535.55 1514.23 Q1538.37 1513.09 1540.83 1512.51 Q1543.28 1511.93 1545.32 1511.93 Q1550.69 1511.93 1553.88 1514.62 Q1557.08 1517.31 1557.08 1521.8 Q1557.08 1523.93 1556.27 1525.85 Q1555.48 1527.74 1553.37 1530.34 Q1552.79 1531.01 1549.69 1534.23 Q1546.59 1537.42 1540.94 1543.18 Z\" fill=\"#000000\" fill-rule=\"evenodd\" fill-opacity=\"1\" /><path clip-path=\"url(#clip020)\" d=\"M 0 0 M2203.1 1528.49 Q2206.46 1529.2 2208.33 1531.47 Q2210.23 1533.74 2210.23 1537.07 Q2210.23 1542.19 2206.71 1544.99 Q2203.19 1547.79 2196.71 1547.79 Q2194.54 1547.79 2192.22 1547.35 Q2189.93 1546.93 2187.48 1546.08 L2187.48 1541.56 Q2189.42 1542.7 2191.74 1543.28 Q2194.05 1543.86 2196.57 1543.86 Q2200.97 1543.86 2203.26 1542.12 Q2205.58 1540.38 2205.58 1537.07 Q2205.58 1534.02 2203.43 1532.31 Q2201.3 1530.57 2197.48 1530.57 L2193.45 1530.57 L2193.45 1526.73 L2197.66 1526.73 Q2201.11 1526.73 2202.94 1525.36 Q2204.77 1523.97 2204.77 1521.38 Q2204.77 1518.72 2202.87 1517.31 Q2201 1515.87 2197.48 1515.87 Q2195.56 1515.87 2193.36 1516.29 Q2191.16 1516.7 2188.52 1517.58 L2188.52 1513.42 Q2191.18 1512.68 2193.5 1512.31 Q2195.83 1511.93 2197.89 1511.93 Q2203.22 1511.93 2206.32 1514.37 Q2209.42 1516.77 2209.42 1520.89 Q2209.42 1523.76 2207.78 1525.75 Q2206.13 1527.72 2203.1 1528.49 Z\" fill=\"#000000\" fill-rule=\"evenodd\" fill-opacity=\"1\" /><polyline clip-path=\"url(#clip022)\" style=\"stroke:#000000; stroke-width:2; stroke-opacity:0.1; fill:none\" points=\"\n",
       "  179.654,1445.72 2352.76,1445.72 \n",
       "  \"/>\n",
       "<polyline clip-path=\"url(#clip022)\" style=\"stroke:#000000; stroke-width:2; stroke-opacity:0.1; fill:none\" points=\"\n",
       "  179.654,1164.52 2352.76,1164.52 \n",
       "  \"/>\n",
       "<polyline clip-path=\"url(#clip022)\" style=\"stroke:#000000; stroke-width:2; stroke-opacity:0.1; fill:none\" points=\"\n",
       "  179.654,883.322 2352.76,883.322 \n",
       "  \"/>\n",
       "<polyline clip-path=\"url(#clip022)\" style=\"stroke:#000000; stroke-width:2; stroke-opacity:0.1; fill:none\" points=\"\n",
       "  179.654,602.125 2352.76,602.125 \n",
       "  \"/>\n",
       "<polyline clip-path=\"url(#clip022)\" style=\"stroke:#000000; stroke-width:2; stroke-opacity:0.1; fill:none\" points=\"\n",
       "  179.654,320.928 2352.76,320.928 \n",
       "  \"/>\n",
       "<polyline clip-path=\"url(#clip020)\" style=\"stroke:#000000; stroke-width:4; stroke-opacity:1; fill:none\" points=\"\n",
       "  179.654,1486.45 179.654,47.2441 \n",
       "  \"/>\n",
       "<polyline clip-path=\"url(#clip020)\" style=\"stroke:#000000; stroke-width:4; stroke-opacity:1; fill:none\" points=\"\n",
       "  179.654,1445.72 205.731,1445.72 \n",
       "  \"/>\n",
       "<polyline clip-path=\"url(#clip020)\" style=\"stroke:#000000; stroke-width:4; stroke-opacity:1; fill:none\" points=\"\n",
       "  179.654,1164.52 205.731,1164.52 \n",
       "  \"/>\n",
       "<polyline clip-path=\"url(#clip020)\" style=\"stroke:#000000; stroke-width:4; stroke-opacity:1; fill:none\" points=\"\n",
       "  179.654,883.322 205.731,883.322 \n",
       "  \"/>\n",
       "<polyline clip-path=\"url(#clip020)\" style=\"stroke:#000000; stroke-width:4; stroke-opacity:1; fill:none\" points=\"\n",
       "  179.654,602.125 205.731,602.125 \n",
       "  \"/>\n",
       "<polyline clip-path=\"url(#clip020)\" style=\"stroke:#000000; stroke-width:4; stroke-opacity:1; fill:none\" points=\"\n",
       "  179.654,320.928 205.731,320.928 \n",
       "  \"/>\n",
       "<path clip-path=\"url(#clip020)\" d=\"M 0 0 M51.2236 1446.17 L80.8994 1446.17 L80.8994 1450.1 L51.2236 1450.1 L51.2236 1446.17 Z\" fill=\"#000000\" fill-rule=\"evenodd\" fill-opacity=\"1\" /><path clip-path=\"url(#clip020)\" d=\"M 0 0 M86.779 1459.06 L94.4178 1459.06 L94.4178 1432.69 L86.1077 1434.36 L86.1077 1430.1 L94.3715 1428.44 L99.0474 1428.44 L99.0474 1459.06 L106.686 1459.06 L106.686 1463 L86.779 1463 L86.779 1459.06 Z\" fill=\"#000000\" fill-rule=\"evenodd\" fill-opacity=\"1\" /><path clip-path=\"url(#clip020)\" d=\"M 0 0 M111.756 1457.12 L116.64 1457.12 L116.64 1463 L111.756 1463 L111.756 1457.12 Z\" fill=\"#000000\" fill-rule=\"evenodd\" fill-opacity=\"1\" /><path clip-path=\"url(#clip020)\" d=\"M 0 0 M131.709 1431.51 Q128.098 1431.51 126.27 1435.08 Q124.464 1438.62 124.464 1445.75 Q124.464 1452.86 126.27 1456.42 Q128.098 1459.96 131.709 1459.96 Q135.344 1459.96 137.149 1456.42 Q138.978 1452.86 138.978 1445.75 Q138.978 1438.62 137.149 1435.08 Q135.344 1431.51 131.709 1431.51 M131.709 1427.81 Q137.519 1427.81 140.575 1432.42 Q143.654 1437 143.654 1445.75 Q143.654 1454.48 140.575 1459.08 Q137.519 1463.67 131.709 1463.67 Q125.899 1463.67 122.82 1459.08 Q119.765 1454.48 119.765 1445.75 Q119.765 1437 122.82 1432.42 Q125.899 1427.81 131.709 1427.81 Z\" fill=\"#000000\" fill-rule=\"evenodd\" fill-opacity=\"1\" /><path clip-path=\"url(#clip020)\" d=\"M 0 0 M50.9921 1164.97 L80.6679 1164.97 L80.6679 1168.91 L50.9921 1168.91 L50.9921 1164.97 Z\" fill=\"#000000\" fill-rule=\"evenodd\" fill-opacity=\"1\" /><path clip-path=\"url(#clip020)\" d=\"M 0 0 M95.7373 1150.32 Q92.1262 1150.32 90.2975 1153.88 Q88.4919 1157.42 88.4919 1164.55 Q88.4919 1171.66 90.2975 1175.22 Q92.1262 1178.77 95.7373 1178.77 Q99.3715 1178.77 101.177 1175.22 Q103.006 1171.66 103.006 1164.55 Q103.006 1157.42 101.177 1153.88 Q99.3715 1150.32 95.7373 1150.32 M95.7373 1146.61 Q101.547 1146.61 104.603 1151.22 Q107.682 1155.8 107.682 1164.55 Q107.682 1173.28 104.603 1177.89 Q101.547 1182.47 95.7373 1182.47 Q89.9271 1182.47 86.8484 1177.89 Q83.7929 1173.28 83.7929 1164.55 Q83.7929 1155.8 86.8484 1151.22 Q89.9271 1146.61 95.7373 1146.61 Z\" fill=\"#000000\" fill-rule=\"evenodd\" fill-opacity=\"1\" /><path clip-path=\"url(#clip020)\" d=\"M 0 0 M112.751 1175.92 L117.635 1175.92 L117.635 1181.8 L112.751 1181.8 L112.751 1175.92 Z\" fill=\"#000000\" fill-rule=\"evenodd\" fill-opacity=\"1\" /><path clip-path=\"url(#clip020)\" d=\"M 0 0 M122.751 1147.24 L141.107 1147.24 L141.107 1151.17 L127.033 1151.17 L127.033 1159.65 Q128.052 1159.3 129.07 1159.14 Q130.089 1158.95 131.107 1158.95 Q136.894 1158.95 140.274 1162.12 Q143.654 1165.29 143.654 1170.71 Q143.654 1176.29 140.181 1179.39 Q136.709 1182.47 130.39 1182.47 Q128.214 1182.47 125.945 1182.1 Q123.7 1181.73 121.293 1180.99 L121.293 1176.29 Q123.376 1177.42 125.598 1177.98 Q127.82 1178.53 130.297 1178.53 Q134.302 1178.53 136.64 1176.43 Q138.978 1174.32 138.978 1170.71 Q138.978 1167.1 136.64 1164.99 Q134.302 1162.89 130.297 1162.89 Q128.422 1162.89 126.547 1163.3 Q124.695 1163.72 122.751 1164.6 L122.751 1147.24 Z\" fill=\"#000000\" fill-rule=\"evenodd\" fill-opacity=\"1\" /><path clip-path=\"url(#clip020)\" d=\"M 0 0 M94.7419 869.12 Q91.1308 869.12 89.3021 872.685 Q87.4966 876.227 87.4966 883.356 Q87.4966 890.463 89.3021 894.028 Q91.1308 897.569 94.7419 897.569 Q98.3761 897.569 100.182 894.028 Q102.01 890.463 102.01 883.356 Q102.01 876.227 100.182 872.685 Q98.3761 869.12 94.7419 869.12 M94.7419 865.417 Q100.552 865.417 103.608 870.023 Q106.686 874.606 106.686 883.356 Q106.686 892.083 103.608 896.69 Q100.552 901.273 94.7419 901.273 Q88.9317 901.273 85.8531 896.69 Q82.7975 892.083 82.7975 883.356 Q82.7975 874.606 85.8531 870.023 Q88.9317 865.417 94.7419 865.417 Z\" fill=\"#000000\" fill-rule=\"evenodd\" fill-opacity=\"1\" /><path clip-path=\"url(#clip020)\" d=\"M 0 0 M111.756 894.722 L116.64 894.722 L116.64 900.602 L111.756 900.602 L111.756 894.722 Z\" fill=\"#000000\" fill-rule=\"evenodd\" fill-opacity=\"1\" /><path clip-path=\"url(#clip020)\" d=\"M 0 0 M131.709 869.12 Q128.098 869.12 126.27 872.685 Q124.464 876.227 124.464 883.356 Q124.464 890.463 126.27 894.028 Q128.098 897.569 131.709 897.569 Q135.344 897.569 137.149 894.028 Q138.978 890.463 138.978 883.356 Q138.978 876.227 137.149 872.685 Q135.344 869.12 131.709 869.12 M131.709 865.417 Q137.519 865.417 140.575 870.023 Q143.654 874.606 143.654 883.356 Q143.654 892.083 140.575 896.69 Q137.519 901.273 131.709 901.273 Q125.899 901.273 122.82 896.69 Q119.765 892.083 119.765 883.356 Q119.765 874.606 122.82 870.023 Q125.899 865.417 131.709 865.417 Z\" fill=\"#000000\" fill-rule=\"evenodd\" fill-opacity=\"1\" /><path clip-path=\"url(#clip020)\" d=\"M 0 0 M95.7373 587.923 Q92.1262 587.923 90.2975 591.488 Q88.4919 595.03 88.4919 602.159 Q88.4919 609.266 90.2975 612.831 Q92.1262 616.372 95.7373 616.372 Q99.3715 616.372 101.177 612.831 Q103.006 609.266 103.006 602.159 Q103.006 595.03 101.177 591.488 Q99.3715 587.923 95.7373 587.923 M95.7373 584.22 Q101.547 584.22 104.603 588.826 Q107.682 593.409 107.682 602.159 Q107.682 610.886 104.603 615.493 Q101.547 620.076 95.7373 620.076 Q89.9271 620.076 86.8484 615.493 Q83.7929 610.886 83.7929 602.159 Q83.7929 593.409 86.8484 588.826 Q89.9271 584.22 95.7373 584.22 Z\" fill=\"#000000\" fill-rule=\"evenodd\" fill-opacity=\"1\" /><path clip-path=\"url(#clip020)\" d=\"M 0 0 M112.751 613.525 L117.635 613.525 L117.635 619.405 L112.751 619.405 L112.751 613.525 Z\" fill=\"#000000\" fill-rule=\"evenodd\" fill-opacity=\"1\" /><path clip-path=\"url(#clip020)\" d=\"M 0 0 M122.751 584.845 L141.107 584.845 L141.107 588.78 L127.033 588.78 L127.033 597.252 Q128.052 596.905 129.07 596.743 Q130.089 596.557 131.107 596.557 Q136.894 596.557 140.274 599.729 Q143.654 602.9 143.654 608.317 Q143.654 613.895 140.181 616.997 Q136.709 620.076 130.39 620.076 Q128.214 620.076 125.945 619.705 Q123.7 619.335 121.293 618.594 L121.293 613.895 Q123.376 615.03 125.598 615.585 Q127.82 616.141 130.297 616.141 Q134.302 616.141 136.64 614.034 Q138.978 611.928 138.978 608.317 Q138.978 604.706 136.64 602.599 Q134.302 600.493 130.297 600.493 Q128.422 600.493 126.547 600.909 Q124.695 601.326 122.751 602.206 L122.751 584.845 Z\" fill=\"#000000\" fill-rule=\"evenodd\" fill-opacity=\"1\" /><path clip-path=\"url(#clip020)\" d=\"M 0 0 M86.779 334.272 L94.4178 334.272 L94.4178 307.907 L86.1077 309.573 L86.1077 305.314 L94.3715 303.648 L99.0474 303.648 L99.0474 334.272 L106.686 334.272 L106.686 338.208 L86.779 338.208 L86.779 334.272 Z\" fill=\"#000000\" fill-rule=\"evenodd\" fill-opacity=\"1\" /><path clip-path=\"url(#clip020)\" d=\"M 0 0 M111.756 332.328 L116.64 332.328 L116.64 338.208 L111.756 338.208 L111.756 332.328 Z\" fill=\"#000000\" fill-rule=\"evenodd\" fill-opacity=\"1\" /><path clip-path=\"url(#clip020)\" d=\"M 0 0 M131.709 306.726 Q128.098 306.726 126.27 310.291 Q124.464 313.833 124.464 320.962 Q124.464 328.069 126.27 331.633 Q128.098 335.175 131.709 335.175 Q135.344 335.175 137.149 331.633 Q138.978 328.069 138.978 320.962 Q138.978 313.833 137.149 310.291 Q135.344 306.726 131.709 306.726 M131.709 303.023 Q137.519 303.023 140.575 307.629 Q143.654 312.212 143.654 320.962 Q143.654 329.689 140.575 334.296 Q137.519 338.879 131.709 338.879 Q125.899 338.879 122.82 334.296 Q119.765 329.689 119.765 320.962 Q119.765 312.212 122.82 307.629 Q125.899 303.023 131.709 303.023 Z\" fill=\"#000000\" fill-rule=\"evenodd\" fill-opacity=\"1\" /><polyline clip-path=\"url(#clip022)\" style=\"stroke:#009af9; stroke-width:4; stroke-opacity:1; fill:none\" points=\"\n",
       "  241.157,320.928 343.661,327.852 446.166,348.453 548.671,382.225 651.176,428.335 753.681,485.649 856.185,552.755 958.69,628 1061.2,709.532 1163.7,795.344 \n",
       "  1266.2,883.322 1368.71,971.299 1471.21,1057.11 1573.72,1138.64 1676.22,1213.89 1778.73,1280.99 1881.23,1338.31 1983.74,1384.42 2086.24,1418.19 2188.75,1438.79 \n",
       "  2291.25,1445.72 \n",
       "  \"/>\n",
       "<polyline clip-path=\"url(#clip022)\" style=\"stroke:#e26f46; stroke-width:4; stroke-opacity:1; fill:none\" points=\"\n",
       "  241.157,883.322 343.661,795.344 446.166,709.532 548.671,628 651.176,552.755 753.681,485.649 856.185,428.335 958.69,382.225 1061.2,348.453 1163.7,327.852 \n",
       "  1266.2,320.928 1368.71,327.852 1471.21,348.453 1573.72,382.225 1676.22,428.335 1778.73,485.649 1881.23,552.755 1983.74,628 2086.24,709.532 2188.75,795.344 \n",
       "  2291.25,883.322 \n",
       "  \"/>\n",
       "<polyline clip-path=\"url(#clip022)\" style=\"stroke:#3da44d; stroke-width:4; stroke-opacity:1; fill:none\" points=\"\n",
       "  241.157,320.928 343.661,239.874 446.166,174.664 548.671,126.903 651.176,97.7683 753.681,87.9763 856.185,97.7683 958.69,126.903 1061.2,174.664 1163.7,239.874 \n",
       "  1266.2,320.928 1368.71,415.829 1471.21,522.242 1573.72,637.546 1676.22,758.902 1778.73,883.322 1881.23,1007.74 1983.74,1129.1 2086.24,1244.4 2188.75,1350.81 \n",
       "  2291.25,1445.72 \n",
       "  \"/>\n",
       "<polyline clip-path=\"url(#clip022)\" style=\"stroke:#c271d2; stroke-width:4; stroke-opacity:1; fill:none\" points=\"\n",
       "  241.157,883.322 343.661,796.427 446.166,718.038 548.671,655.828 651.176,615.887 753.681,602.125 856.185,615.887 958.69,655.828 1061.2,718.038 1163.7,796.427 \n",
       "  1266.2,883.322 1368.71,970.216 1471.21,1048.61 1573.72,1110.81 1676.22,1150.76 1778.73,1164.52 1881.23,1150.76 1983.74,1110.81 2086.24,1048.61 2188.75,970.216 \n",
       "  2291.25,883.322 \n",
       "  \"/>\n",
       "<path clip-path=\"url(#clip020)\" d=\"\n",
       "M1951.16 397.618 L2280.32 397.618 L2280.32 95.2176 L1951.16 95.2176  Z\n",
       "  \" fill=\"#ffffff\" fill-rule=\"evenodd\" fill-opacity=\"1\"/>\n",
       "<polyline clip-path=\"url(#clip020)\" style=\"stroke:#000000; stroke-width:4; stroke-opacity:1; fill:none\" points=\"\n",
       "  1951.16,397.618 2280.32,397.618 2280.32,95.2176 1951.16,95.2176 1951.16,397.618 \n",
       "  \"/>\n",
       "<polyline clip-path=\"url(#clip020)\" style=\"stroke:#009af9; stroke-width:4; stroke-opacity:1; fill:none\" points=\"\n",
       "  1975.3,155.698 2120.17,155.698 \n",
       "  \"/>\n",
       "<path clip-path=\"url(#clip020)\" d=\"M 0 0 M2164.83 148.047 L2164.83 152.029 Q2163.02 151.033 2161.2 150.547 Q2159.39 150.038 2157.54 150.038 Q2153.39 150.038 2151.1 152.677 Q2148.81 155.292 2148.81 160.038 Q2148.81 164.783 2151.1 167.422 Q2153.39 170.038 2157.54 170.038 Q2159.39 170.038 2161.2 169.552 Q2163.02 169.042 2164.83 168.047 L2164.83 171.982 Q2163.05 172.816 2161.13 173.232 Q2159.23 173.649 2157.07 173.649 Q2151.22 173.649 2147.77 169.968 Q2144.32 166.288 2144.32 160.038 Q2144.32 153.695 2147.79 150.061 Q2151.29 146.427 2157.35 146.427 Q2159.32 146.427 2161.2 146.843 Q2163.07 147.237 2164.83 148.047 Z\" fill=\"#000000\" fill-rule=\"evenodd\" fill-opacity=\"1\" /><path clip-path=\"url(#clip020)\" d=\"M 0 0 M2179.34 150.038 Q2175.92 150.038 2173.93 152.723 Q2171.94 155.385 2171.94 160.038 Q2171.94 164.691 2173.9 167.376 Q2175.89 170.038 2179.34 170.038 Q2182.75 170.038 2184.74 167.353 Q2186.73 164.667 2186.73 160.038 Q2186.73 155.431 2184.74 152.746 Q2182.75 150.038 2179.34 150.038 M2179.34 146.427 Q2184.9 146.427 2188.07 150.038 Q2191.24 153.649 2191.24 160.038 Q2191.24 166.404 2188.07 170.038 Q2184.9 173.649 2179.34 173.649 Q2173.76 173.649 2170.59 170.038 Q2167.45 166.404 2167.45 160.038 Q2167.45 153.649 2170.59 150.038 Q2173.76 146.427 2179.34 146.427 Z\" fill=\"#000000\" fill-rule=\"evenodd\" fill-opacity=\"1\" /><path clip-path=\"url(#clip020)\" d=\"M 0 0 M2212.24 147.816 L2212.24 151.843 Q2210.43 150.917 2208.49 150.455 Q2206.54 149.992 2204.46 149.992 Q2201.29 149.992 2199.69 150.964 Q2198.12 151.936 2198.12 153.88 Q2198.12 155.362 2199.25 156.218 Q2200.38 157.052 2203.81 157.816 L2205.27 158.14 Q2209.81 159.112 2211.7 160.894 Q2213.63 162.654 2213.63 165.825 Q2213.63 169.436 2210.75 171.542 Q2207.91 173.649 2202.91 173.649 Q2200.82 173.649 2198.56 173.232 Q2196.31 172.839 2193.81 172.028 L2193.81 167.63 Q2196.17 168.857 2198.46 169.482 Q2200.76 170.084 2203 170.084 Q2206.01 170.084 2207.63 169.066 Q2209.25 168.024 2209.25 166.149 Q2209.25 164.413 2208.07 163.487 Q2206.91 162.561 2202.95 161.704 L2201.47 161.357 Q2197.51 160.524 2195.76 158.811 Q2194 157.075 2194 154.066 Q2194 150.408 2196.59 148.418 Q2199.18 146.427 2203.95 146.427 Q2206.31 146.427 2208.39 146.774 Q2210.48 147.121 2212.24 147.816 Z\" fill=\"#000000\" fill-rule=\"evenodd\" fill-opacity=\"1\" /><polyline clip-path=\"url(#clip020)\" style=\"stroke:#e26f46; stroke-width:4; stroke-opacity:1; fill:none\" points=\"\n",
       "  1975.3,216.178 2120.17,216.178 \n",
       "  \"/>\n",
       "<path clip-path=\"url(#clip020)\" d=\"M 0 0 M2162.75 208.296 L2162.75 212.323 Q2160.94 211.397 2159 210.935 Q2157.05 210.472 2154.97 210.472 Q2151.8 210.472 2150.2 211.444 Q2148.63 212.416 2148.63 214.36 Q2148.63 215.842 2149.76 216.698 Q2150.89 217.532 2154.32 218.296 L2155.78 218.62 Q2160.32 219.592 2162.21 221.374 Q2164.13 223.134 2164.13 226.305 Q2164.13 229.916 2161.26 232.022 Q2158.42 234.129 2153.42 234.129 Q2151.33 234.129 2149.07 233.712 Q2146.82 233.319 2144.32 232.508 L2144.32 228.11 Q2146.68 229.337 2148.97 229.962 Q2151.26 230.564 2153.51 230.564 Q2156.52 230.564 2158.14 229.546 Q2159.76 228.504 2159.76 226.629 Q2159.76 224.893 2158.58 223.967 Q2157.42 223.041 2153.46 222.184 L2151.98 221.837 Q2148.02 221.004 2146.26 219.291 Q2144.51 217.555 2144.51 214.546 Q2144.51 210.888 2147.1 208.898 Q2149.69 206.907 2154.46 206.907 Q2156.82 206.907 2158.9 207.254 Q2160.99 207.601 2162.75 208.296 Z\" fill=\"#000000\" fill-rule=\"evenodd\" fill-opacity=\"1\" /><path clip-path=\"url(#clip020)\" d=\"M 0 0 M2168.6 207.532 L2172.86 207.532 L2172.86 233.458 L2168.6 233.458 L2168.6 207.532 M2168.6 197.439 L2172.86 197.439 L2172.86 202.833 L2168.6 202.833 L2168.6 197.439 Z\" fill=\"#000000\" fill-rule=\"evenodd\" fill-opacity=\"1\" /><path clip-path=\"url(#clip020)\" d=\"M 0 0 M2198.88 217.809 L2198.88 233.458 L2194.62 233.458 L2194.62 217.948 Q2194.62 214.268 2193.19 212.439 Q2191.75 210.61 2188.88 210.61 Q2185.43 210.61 2183.44 212.81 Q2181.45 215.009 2181.45 218.805 L2181.45 233.458 L2177.17 233.458 L2177.17 207.532 L2181.45 207.532 L2181.45 211.56 Q2182.98 209.222 2185.04 208.064 Q2187.12 206.907 2189.83 206.907 Q2194.3 206.907 2196.59 209.685 Q2198.88 212.439 2198.88 217.809 Z\" fill=\"#000000\" fill-rule=\"evenodd\" fill-opacity=\"1\" /><polyline clip-path=\"url(#clip020)\" style=\"stroke:#3da44d; stroke-width:4; stroke-opacity:1; fill:none\" points=\"\n",
       "  1975.3,276.658 2120.17,276.658 \n",
       "  \"/>\n",
       "<path clip-path=\"url(#clip020)\" d=\"M 0 0 M2162.75 268.776 L2162.75 272.803 Q2160.94 271.877 2159 271.415 Q2157.05 270.952 2154.97 270.952 Q2151.8 270.952 2150.2 271.924 Q2148.63 272.896 2148.63 274.84 Q2148.63 276.322 2149.76 277.178 Q2150.89 278.012 2154.32 278.776 L2155.78 279.1 Q2160.32 280.072 2162.21 281.854 Q2164.13 283.614 2164.13 286.785 Q2164.13 290.396 2161.26 292.502 Q2158.42 294.609 2153.42 294.609 Q2151.33 294.609 2149.07 294.192 Q2146.82 293.799 2144.32 292.988 L2144.32 288.59 Q2146.68 289.817 2148.97 290.442 Q2151.26 291.044 2153.51 291.044 Q2156.52 291.044 2158.14 290.026 Q2159.76 288.984 2159.76 287.109 Q2159.76 285.373 2158.58 284.447 Q2157.42 283.521 2153.46 282.664 L2151.98 282.317 Q2148.02 281.484 2146.26 279.771 Q2144.51 278.035 2144.51 275.026 Q2144.51 271.368 2147.1 269.378 Q2149.69 267.387 2154.46 267.387 Q2156.82 267.387 2158.9 267.734 Q2160.99 268.081 2162.75 268.776 Z\" fill=\"#000000\" fill-rule=\"evenodd\" fill-opacity=\"1\" /><path clip-path=\"url(#clip020)\" d=\"M 0 0 M2168.16 283.706 L2168.16 268.012 L2172.42 268.012 L2172.42 283.544 Q2172.42 287.225 2173.86 289.076 Q2175.29 290.905 2178.16 290.905 Q2181.61 290.905 2183.6 288.706 Q2185.62 286.507 2185.62 282.711 L2185.62 268.012 L2189.88 268.012 L2189.88 293.938 L2185.62 293.938 L2185.62 289.956 Q2184.07 292.317 2182.01 293.475 Q2179.97 294.609 2177.26 294.609 Q2172.79 294.609 2170.48 291.831 Q2168.16 289.053 2168.16 283.706 M2178.88 267.387 L2178.88 267.387 Z\" fill=\"#000000\" fill-rule=\"evenodd\" fill-opacity=\"1\" /><path clip-path=\"url(#clip020)\" d=\"M 0 0 M2214.53 272.989 Q2216.13 270.118 2218.35 268.753 Q2220.57 267.387 2223.58 267.387 Q2227.63 267.387 2229.83 270.234 Q2232.03 273.058 2232.03 278.289 L2232.03 293.938 L2227.75 293.938 L2227.75 278.428 Q2227.75 274.702 2226.43 272.896 Q2225.11 271.09 2222.4 271.09 Q2219.09 271.09 2217.17 273.29 Q2215.25 275.489 2215.25 279.285 L2215.25 293.938 L2210.96 293.938 L2210.96 278.428 Q2210.96 274.678 2209.64 272.896 Q2208.32 271.09 2205.57 271.09 Q2202.31 271.09 2200.38 273.313 Q2198.46 275.512 2198.46 279.285 L2198.46 293.938 L2194.18 293.938 L2194.18 268.012 L2198.46 268.012 L2198.46 272.04 Q2199.92 269.655 2201.96 268.521 Q2204 267.387 2206.8 267.387 Q2209.62 267.387 2211.59 268.822 Q2213.58 270.257 2214.53 272.989 Z\" fill=\"#000000\" fill-rule=\"evenodd\" fill-opacity=\"1\" /><polyline clip-path=\"url(#clip020)\" style=\"stroke:#c271d2; stroke-width:4; stroke-opacity:1; fill:none\" points=\"\n",
       "  1975.3,337.138 2120.17,337.138 \n",
       "  \"/>\n",
       "<path clip-path=\"url(#clip020)\" d=\"M 0 0 M2164.67 333.469 Q2166.26 330.598 2168.49 329.233 Q2170.71 327.867 2173.72 327.867 Q2177.77 327.867 2179.97 330.714 Q2182.17 333.538 2182.17 338.769 L2182.17 354.418 L2177.88 354.418 L2177.88 338.908 Q2177.88 335.182 2176.57 333.376 Q2175.25 331.57 2172.54 331.57 Q2169.23 331.57 2167.31 333.77 Q2165.38 335.969 2165.38 339.765 L2165.38 354.418 L2161.1 354.418 L2161.1 338.908 Q2161.1 335.158 2159.78 333.376 Q2158.46 331.57 2155.71 331.57 Q2152.45 331.57 2150.52 333.793 Q2148.6 335.992 2148.6 339.765 L2148.6 354.418 L2144.32 354.418 L2144.32 328.492 L2148.6 328.492 L2148.6 332.52 Q2150.06 330.135 2152.1 329.001 Q2154.13 327.867 2156.94 327.867 Q2159.76 327.867 2161.73 329.302 Q2163.72 330.737 2164.67 333.469 Z\" fill=\"#000000\" fill-rule=\"evenodd\" fill-opacity=\"1\" /><path clip-path=\"url(#clip020)\" d=\"M 0 0 M2186.19 344.186 L2186.19 328.492 L2190.45 328.492 L2190.45 344.024 Q2190.45 347.705 2191.89 349.556 Q2193.32 351.385 2196.19 351.385 Q2199.64 351.385 2201.63 349.186 Q2203.65 346.987 2203.65 343.191 L2203.65 328.492 L2207.91 328.492 L2207.91 354.418 L2203.65 354.418 L2203.65 350.436 Q2202.1 352.797 2200.04 353.955 Q2198 355.089 2195.29 355.089 Q2190.82 355.089 2188.51 352.311 Q2186.19 349.533 2186.19 344.186 M2196.91 327.867 L2196.91 327.867 Z\" fill=\"#000000\" fill-rule=\"evenodd\" fill-opacity=\"1\" /><path clip-path=\"url(#clip020)\" d=\"M 0 0 M2212.38 318.399 L2216.63 318.399 L2216.63 354.418 L2212.38 354.418 L2212.38 318.399 Z\" fill=\"#000000\" fill-rule=\"evenodd\" fill-opacity=\"1\" /></svg>\n"
      ]
     },
     "execution_count": 16,
     "metadata": {},
     "output_type": "execute_result"
    }
   ],
   "source": [
    "# Test generated Functions by plotting output\n",
    "\n",
    "# Input\n",
    "n = 20;\n",
    "x = [0: pi/n: pi;];\n",
    "\n",
    "# Output\n",
    "y1 = funcCos.(x);\n",
    "y2 = funcSin.(x);\n",
    "y3 = funcSum.(x);\n",
    "y4 = funcMul.(x);\n",
    "\n",
    "# Display results\n",
    "plot( x, [y1, y2, y3, y4], labels = [\"cos\" \"sin\" \"sum\" \"mul\"] )"
   ]
  },
  {
   "cell_type": "markdown",
   "id": "congressional-monte",
   "metadata": {},
   "source": [
    "<h3>2 - Example with basic operations</h3>"
   ]
  },
  {
   "cell_type": "markdown",
   "id": "fundamental-sphere",
   "metadata": {},
   "source": [
    "In this example only basic operations for an array or a vector will be considered. The idea here is to replicate the relationships that can be formed with block-diagram algebra used in introductory control theory. "
   ]
  },
  {
   "cell_type": "markdown",
   "id": "spanish-creature",
   "metadata": {},
   "source": [
    "![Cat](https://github.com/rgCategory/composition_notebook/blob/main/images/notes_1.png?raw=true)"
   ]
  },
  {
   "cell_type": "code",
   "execution_count": 7,
   "id": "incorporated-potato",
   "metadata": {},
   "outputs": [],
   "source": [
    "@present LinearElements(FreeCartesianCategory) begin\n",
    "    R::Ob                     # Object of Real numbers\n",
    "\n",
    "    # Operations between Numbers [Implicit functions, note the same structure as sine and cosine]\n",
    "    (+)::Hom(otimes(R,R),R)   # Addition, operates on R and R, and outputs R\n",
    "    (-)::Hom(otimes(R,R),R)   # Subtraction\n",
    "    (*)::Hom(otimes(R,R),R)   # Multiplication\n",
    "    (\\)::Hom(otimes(R,R),R)   # Matrix division\n",
    "end;"
   ]
  },
  {
   "cell_type": "code",
   "execution_count": 8,
   "id": "polar-chess",
   "metadata": {},
   "outputs": [],
   "source": [
    "# Generate relationship with operators\n",
    "gen_lin( input::Symbol ) = generator( LinearElements, input );\n",
    "\n",
    "# Create code snippet\n",
    "expr_lin( input::Symbol ) = compile_expr( gen_lin(input), args = [:A, :B] );\n",
    "\n",
    "# Compile code into function\n",
    "func_lin( input::Symbol ) = eval( expr_lin(input) );"
   ]
  },
  {
   "cell_type": "code",
   "execution_count": 9,
   "id": "european-writer",
   "metadata": {},
   "outputs": [
    {
     "data": {
      "text/latex": [
       "$+ : R \\otimes R \\to R$"
      ],
      "text/plain": [
       "+"
      ]
     },
     "metadata": {},
     "output_type": "display_data"
    },
    {
     "data": {
      "text/latex": [
       "$- : R \\otimes R \\to R$"
      ],
      "text/plain": [
       "-"
      ]
     },
     "metadata": {},
     "output_type": "display_data"
    },
    {
     "data": {
      "text/latex": [
       "$* : R \\otimes R \\to R$"
      ],
      "text/plain": [
       "*"
      ]
     },
     "metadata": {},
     "output_type": "display_data"
    },
    {
     "data": {
      "text/latex": [
       "$\\ : R \\otimes R \\to R$"
      ],
      "text/plain": [
       "\\"
      ]
     },
     "metadata": {},
     "output_type": "display_data"
    }
   ],
   "source": [
    "# Display Operators\n",
    "gen_sum = gen_lin(:+);\n",
    "gen_sub = gen_lin(:-);\n",
    "gen_mul = gen_lin(:*);\n",
    "gen_div = gen_lin(:\\);\n",
    "\n",
    "display( gen_sum );\n",
    "display( gen_sub );\n",
    "display( gen_mul );\n",
    "display( gen_div );     # Division character is not shown?"
   ]
  },
  {
   "cell_type": "code",
   "execution_count": 10,
   "id": "parental-reality",
   "metadata": {},
   "outputs": [
    {
     "data": {
      "text/plain": [
       "#7 (generic function with 1 method)"
      ]
     },
     "execution_count": 10,
     "metadata": {},
     "output_type": "execute_result"
    }
   ],
   "source": [
    "# General functions based on operators - Works with matrices\n",
    " \n",
    "f_add = func_lin(:+);\n",
    "f_sub = func_lin(:-);\n",
    "f_mul = func_lin(:*);\n",
    "f_div = func_lin(:\\)"
   ]
  },
  {
   "cell_type": "code",
   "execution_count": 11,
   "id": "national-chuck",
   "metadata": {},
   "outputs": [
    {
     "name": "stdout",
     "output_type": "stream",
     "text": [
      "[10, 5, 3]\n",
      "[8, 3, 1]\n",
      "[10, 15, 11]\n",
      "[-1.5405405405405408, 1.189189189189189, 1.1621621621621623]\n"
     ]
    }
   ],
   "source": [
    "# Example Evaluations - Matrices\n",
    "\n",
    "# Input values\n",
    "A = [1 3 6; 5 3 7; 4 1 6];\n",
    "B = [9;4;2;];\n",
    "C = [1;1;1;];\n",
    "\n",
    "# Evaluate instances [Operators are two input functions]\n",
    "println( f_add(B, C) );\n",
    "println( f_sub(B, C) );\n",
    "println( f_mul(A, C) );\n",
    "println( f_div(A, B) );"
   ]
  },
  {
   "cell_type": "markdown",
   "id": "external-pressing",
   "metadata": {},
   "source": [
    "Like before one can compose basic functions. The result can be compiled to form a more complicated function."
   ]
  },
  {
   "cell_type": "code",
   "execution_count": 12,
   "id": "adapted-treaty",
   "metadata": {},
   "outputs": [
    {
     "data": {
      "text/latex": [
       "$\\left(+ \\otimes -\\right) \\cdot * : R \\otimes R \\otimes R \\otimes R \\to R$"
      ],
      "text/plain": [
       "compose(otimes(+,-),*)"
      ]
     },
     "metadata": {},
     "output_type": "display_data"
    },
    {
     "data": {
      "text/plain": [
       ":(function (x1, x2, x3, x4)\n",
       "      v1 = x1 + x2\n",
       "      v2 = x3 - x4\n",
       "      v3 = v1 * v2\n",
       "      return v3\n",
       "  end)"
      ]
     },
     "metadata": {},
     "output_type": "display_data"
    }
   ],
   "source": [
    "# Compose Relationships \n",
    "comp_t = compose( otimes(gen_sum, gen_sub), gen_mul );\n",
    "expr_t = compile_expr( comp_t );\n",
    "func_t = eval(expr_t);\n",
    "\n",
    "# Show output\n",
    "display( comp_t )\n",
    "display( expr_t )"
   ]
  },
  {
   "cell_type": "markdown",
   "id": "binding-height",
   "metadata": {},
   "source": [
    "As the function is constructed from a connection of homologies, one can construct a wire diagram from it. This allows for a direct connection between the executable function and the diagram. "
   ]
  },
  {
   "cell_type": "code",
   "execution_count": 13,
   "id": "printable-mining",
   "metadata": {},
   "outputs": [
    {
     "data": {
      "image/svg+xml": [
       "<?xml version=\"1.0\" encoding=\"UTF-8\" standalone=\"no\"?>\r\n",
       "<!DOCTYPE svg PUBLIC \"-//W3C//DTD SVG 1.1//EN\"\r\n",
       " \"http://www.w3.org/Graphics/SVG/1.1/DTD/svg11.dtd\">\r\n",
       "<!-- Generated by graphviz version 2.47.0 (20210316.0004)\r\n",
       " -->\r\n",
       "<!-- Title: G Pages: 1 -->\r\n",
       "<svg width=\"156pt\" height=\"158pt\"\r\n",
       " viewBox=\"0.00 0.00 156.00 158.00\" xmlns=\"http://www.w3.org/2000/svg\" xmlns:xlink=\"http://www.w3.org/1999/xlink\">\r\n",
       "<g id=\"graph0\" class=\"graph\" transform=\"scale(1 1) rotate(0) translate(4 154)\">\r\n",
       "<title>G</title>\r\n",
       "<polygon fill=\"white\" stroke=\"transparent\" points=\"-4,4 -4,-154 152,-154 152,4 -4,4\"/>\r\n",
       "<!-- n0in1 -->\r\n",
       "<!-- n0in2 -->\r\n",
       "<!-- n0in1&#45;&gt;n0in2 -->\r\n",
       "<!-- n1 -->\r\n",
       "<!-- + -->\r\n",
       "<g id=\"n1\" class=\"node\">\r\n",
       "<title>n1</title>\r\n",
       "<polygon fill=\"none\" stroke=\"black\" points=\"37.5,-84 37.5,-132 56.5,-132 56.5,-84 37.5,-84\"/>\r\n",
       "<text text-anchor=\"start\" x=\"42.5\" y=\"-104.3\" font-family=\"Courier,monospace\" font-size=\"14.00\">+</text>\r\n",
       "</g>\r\n",
       "<!-- n0in1&#45;&gt;n1 -->\r\n",
       "<!-- R -->\r\n",
       "<g id=\"e1\" class=\"edge\">\r\n",
       "<title>n0in1:e&#45;&gt;n1:w</title>\r\n",
       "<path fill=\"none\" stroke=\"black\" d=\"M1,-138C16.93,-138 18.85,-123.72 31.72,-120.6\"/>\r\n",
       "<polygon fill=\"black\" stroke=\"black\" points=\"32.23,-122.3 37,-120 31.83,-118.82 32.23,-122.3\"/>\r\n",
       "<text text-anchor=\"middle\" x=\"14.53\" y=\"-117.77\" font-family=\"Courier,monospace\" font-size=\"14.00\">R</text>\r\n",
       "</g>\r\n",
       "<!-- n0in3 -->\r\n",
       "<!-- n0in2&#45;&gt;n0in3 -->\r\n",
       "<!-- n0in2&#45;&gt;n1 -->\r\n",
       "<!-- R -->\r\n",
       "<g id=\"e2\" class=\"edge\">\r\n",
       "<title>n0in2:e&#45;&gt;n1:w</title>\r\n",
       "<path fill=\"none\" stroke=\"black\" d=\"M1,-96C15.12,-96 19.9,-96 31.83,-96\"/>\r\n",
       "<polygon fill=\"black\" stroke=\"black\" points=\"32,-97.75 37,-96 32,-94.25 32,-97.75\"/>\r\n",
       "<text text-anchor=\"middle\" x=\"14.4\" y=\"-84.8\" font-family=\"Courier,monospace\" font-size=\"14.00\">R</text>\r\n",
       "</g>\r\n",
       "<!-- n0in4 -->\r\n",
       "<!-- n0in3&#45;&gt;n0in4 -->\r\n",
       "<!-- n2 -->\r\n",
       "<!-- &#45; -->\r\n",
       "<g id=\"n2\" class=\"node\">\r\n",
       "<title>n2</title>\r\n",
       "<polygon fill=\"none\" stroke=\"black\" points=\"37.5,-18 37.5,-66 56.5,-66 56.5,-18 37.5,-18\"/>\r\n",
       "<text text-anchor=\"start\" x=\"42.5\" y=\"-38.3\" font-family=\"Courier,monospace\" font-size=\"14.00\">&#45;</text>\r\n",
       "</g>\r\n",
       "<!-- n0in3&#45;&gt;n2 -->\r\n",
       "<!-- R -->\r\n",
       "<g id=\"e3\" class=\"edge\">\r\n",
       "<title>n0in3:e&#45;&gt;n2:w</title>\r\n",
       "<path fill=\"none\" stroke=\"black\" d=\"M1,-54C15.12,-54 19.9,-54 31.83,-54\"/>\r\n",
       "<polygon fill=\"black\" stroke=\"black\" points=\"32,-55.75 37,-54 32,-52.25 32,-55.75\"/>\r\n",
       "<text text-anchor=\"middle\" x=\"14.4\" y=\"-42.8\" font-family=\"Courier,monospace\" font-size=\"14.00\">R</text>\r\n",
       "</g>\r\n",
       "<!-- n0in4&#45;&gt;n2 -->\r\n",
       "<!-- R -->\r\n",
       "<g id=\"e4\" class=\"edge\">\r\n",
       "<title>n0in4:e&#45;&gt;n2:w</title>\r\n",
       "<path fill=\"none\" stroke=\"black\" d=\"M1,-12C16.93,-12 18.85,-26.28 31.72,-29.4\"/>\r\n",
       "<polygon fill=\"black\" stroke=\"black\" points=\"31.83,-31.18 37,-30 32.23,-27.7 31.83,-31.18\"/>\r\n",
       "<text text-anchor=\"middle\" x=\"14.53\" y=\"-9.83\" font-family=\"Courier,monospace\" font-size=\"14.00\">R</text>\r\n",
       "</g>\r\n",
       "<!-- n0out1 -->\r\n",
       "<!-- n3 -->\r\n",
       "<!-- * -->\r\n",
       "<g id=\"n3\" class=\"node\">\r\n",
       "<title>n3</title>\r\n",
       "<polygon fill=\"none\" stroke=\"black\" points=\"92.5,-51 92.5,-99 111.5,-99 111.5,-51 92.5,-51\"/>\r\n",
       "<text text-anchor=\"start\" x=\"97.5\" y=\"-71.3\" font-family=\"Courier,monospace\" font-size=\"14.00\">*</text>\r\n",
       "</g>\r\n",
       "<!-- n1&#45;&gt;n3 -->\r\n",
       "<!-- R -->\r\n",
       "<g id=\"e6\" class=\"edge\">\r\n",
       "<title>n1:e&#45;&gt;n3:w</title>\r\n",
       "<path fill=\"none\" stroke=\"black\" d=\"M56,-108C72.64,-108 73.49,-91.05 86.92,-87.61\"/>\r\n",
       "<polygon fill=\"black\" stroke=\"black\" points=\"87.24,-89.33 92,-87 86.83,-85.85 87.24,-89.33\"/>\r\n",
       "<text text-anchor=\"middle\" x=\"69.27\" y=\"-86.57\" font-family=\"Courier,monospace\" font-size=\"14.00\">R</text>\r\n",
       "</g>\r\n",
       "<!-- n2&#45;&gt;n3 -->\r\n",
       "<!-- R -->\r\n",
       "<g id=\"e5\" class=\"edge\">\r\n",
       "<title>n2:e&#45;&gt;n3:w</title>\r\n",
       "<path fill=\"none\" stroke=\"black\" d=\"M56,-42C72.64,-42 73.49,-58.95 86.92,-62.39\"/>\r\n",
       "<polygon fill=\"black\" stroke=\"black\" points=\"86.83,-64.15 92,-63 87.24,-60.67 86.83,-64.15\"/>\r\n",
       "<text text-anchor=\"middle\" x=\"69.27\" y=\"-41.03\" font-family=\"Courier,monospace\" font-size=\"14.00\">R</text>\r\n",
       "</g>\r\n",
       "<!-- n3&#45;&gt;n0out1 -->\r\n",
       "<!-- R -->\r\n",
       "<g id=\"e7\" class=\"edge\">\r\n",
       "<title>n3:e&#45;&gt;n0out1:w</title>\r\n",
       "<path fill=\"none\" stroke=\"black\" d=\"M111,-75C125.12,-75 129.9,-75 141.83,-75\"/>\r\n",
       "<polygon fill=\"black\" stroke=\"black\" points=\"142,-76.75 147,-75 142,-73.25 142,-76.75\"/>\r\n",
       "<text text-anchor=\"middle\" x=\"124.4\" y=\"-63.8\" font-family=\"Courier,monospace\" font-size=\"14.00\">R</text>\r\n",
       "</g>\r\n",
       "</g>\r\n",
       "</svg>\r\n"
      ],
      "text/plain": [
       "Graph(\"G\", true, \"dot\", Statement[Subgraph(\"\", Statement[Node(\"n0in1\", OrderedCollections.OrderedDict{Symbol,Union{String, Catlab.Graphics.Graphviz.Html}}(:id => \"in1\")), Node(\"n0in2\", OrderedCollections.OrderedDict{Symbol,Union{String, Catlab.Graphics.Graphviz.Html}}(:id => \"in2\")), Node(\"n0in3\", OrderedCollections.OrderedDict{Symbol,Union{String, Catlab.Graphics.Graphviz.Html}}(:id => \"in3\")), Node(\"n0in4\", OrderedCollections.OrderedDict{Symbol,Union{String, Catlab.Graphics.Graphviz.Html}}(:id => \"in4\")), Edge(NodeID[NodeID(\"n0in1\", \"\", \"\"), NodeID(\"n0in2\", \"\", \"\"), NodeID(\"n0in3\", \"\", \"\"), NodeID(\"n0in4\", \"\", \"\")], OrderedCollections.OrderedDict{Symbol,Union{String, Catlab.Graphics.Graphviz.Html}}())], OrderedCollections.OrderedDict{Symbol,Union{String, Catlab.Graphics.Graphviz.Html}}(:rank => \"source\",:rankdir => \"TB\"), OrderedCollections.OrderedDict{Symbol,Union{String, Catlab.Graphics.Graphviz.Html}}(:style => \"invis\",:shape => \"none\",:label => \"\",:width => \"0\",:height => \"0.333\"), OrderedCollections.OrderedDict{Symbol,Union{String, Catlab.Graphics.Graphviz.Html}}(:style => \"invis\")), Subgraph(\"\", Statement[Node(\"n0out1\", OrderedCollections.OrderedDict{Symbol,Union{String, Catlab.Graphics.Graphviz.Html}}(:id => \"out1\"))], OrderedCollections.OrderedDict{Symbol,Union{String, Catlab.Graphics.Graphviz.Html}}(:rank => \"sink\",:rankdir => \"TB\"), OrderedCollections.OrderedDict{Symbol,Union{String, Catlab.Graphics.Graphviz.Html}}(:style => \"invis\",:shape => \"none\",:label => \"\",:width => \"0\",:height => \"0.333\"), OrderedCollections.OrderedDict{Symbol,Union{String, Catlab.Graphics.Graphviz.Html}}(:style => \"invis\")), Node(\"n1\", OrderedCollections.OrderedDict{Symbol,Union{String, Catlab.Graphics.Graphviz.Html}}(:comment => \"+\",:id => \"n1\",:label => Catlab.Graphics.Graphviz.Html(\"<TABLE BORDER=\\\"0\\\" CELLPADDING=\\\"0\\\" CELLSPACING=\\\"0\\\">\\n<TR>\\n<TD><TABLE BORDER=\\\"0\\\" CELLPADDING=\\\"0\\\" CELLSPACING=\\\"0\\\"><TR><TD HEIGHT=\\\"24\\\" WIDTH=\\\"0\\\" PORT=\\\"in1\\\"></TD></TR><TR><TD HEIGHT=\\\"24\\\" WIDTH=\\\"0\\\" PORT=\\\"in2\\\"></TD></TR></TABLE></TD>\\n<TD BORDER=\\\"1\\\" CELLPADDING=\\\"4\\\">+</TD>\\n<TD><TABLE BORDER=\\\"0\\\" CELLPADDING=\\\"0\\\" CELLSPACING=\\\"0\\\"><TR><TD HEIGHT=\\\"24\\\" WIDTH=\\\"0\\\" PORT=\\\"out1\\\"></TD></TR></TABLE></TD>\\n</TR>\\n</TABLE>\"))), Node(\"n2\", OrderedCollections.OrderedDict{Symbol,Union{String, Catlab.Graphics.Graphviz.Html}}(:comment => \"-\",:id => \"n2\",:label => Catlab.Graphics.Graphviz.Html(\"<TABLE BORDER=\\\"0\\\" CELLPADDING=\\\"0\\\" CELLSPACING=\\\"0\\\">\\n<TR>\\n<TD><TABLE BORDER=\\\"0\\\" CELLPADDING=\\\"0\\\" CELLSPACING=\\\"0\\\"><TR><TD HEIGHT=\\\"24\\\" WIDTH=\\\"0\\\" PORT=\\\"in1\\\"></TD></TR><TR><TD HEIGHT=\\\"24\\\" WIDTH=\\\"0\\\" PORT=\\\"in2\\\"></TD></TR></TABLE></TD>\\n<TD BORDER=\\\"1\\\" CELLPADDING=\\\"4\\\">-</TD>\\n<TD><TABLE BORDER=\\\"0\\\" CELLPADDING=\\\"0\\\" CELLSPACING=\\\"0\\\"><TR><TD HEIGHT=\\\"24\\\" WIDTH=\\\"0\\\" PORT=\\\"out1\\\"></TD></TR></TABLE></TD>\\n</TR>\\n</TABLE>\"))), Node(\"n3\", OrderedCollections.OrderedDict{Symbol,Union{String, Catlab.Graphics.Graphviz.Html}}(:comment => \"*\",:id => \"n3\",:label => Catlab.Graphics.Graphviz.Html(\"<TABLE BORDER=\\\"0\\\" CELLPADDING=\\\"0\\\" CELLSPACING=\\\"0\\\">\\n<TR>\\n<TD><TABLE BORDER=\\\"0\\\" CELLPADDING=\\\"0\\\" CELLSPACING=\\\"0\\\"><TR><TD HEIGHT=\\\"24\\\" WIDTH=\\\"0\\\" PORT=\\\"in1\\\"></TD></TR><TR><TD HEIGHT=\\\"24\\\" WIDTH=\\\"0\\\" PORT=\\\"in2\\\"></TD></TR></TABLE></TD>\\n<TD BORDER=\\\"1\\\" CELLPADDING=\\\"4\\\">*</TD>\\n<TD><TABLE BORDER=\\\"0\\\" CELLPADDING=\\\"0\\\" CELLSPACING=\\\"0\\\"><TR><TD HEIGHT=\\\"24\\\" WIDTH=\\\"0\\\" PORT=\\\"out1\\\"></TD></TR></TABLE></TD>\\n</TR>\\n</TABLE>\"))), Edge(NodeID[NodeID(\"n0in1\", \"e\", \"\"), NodeID(\"n1\", \"in1\", \"w\")], OrderedCollections.OrderedDict{Symbol,Union{String, Catlab.Graphics.Graphviz.Html}}(:comment => \"R\",:id => \"e1\",:xlabel => \"R\")), Edge(NodeID[NodeID(\"n0in2\", \"e\", \"\"), NodeID(\"n1\", \"in2\", \"w\")], OrderedCollections.OrderedDict{Symbol,Union{String, Catlab.Graphics.Graphviz.Html}}(:comment => \"R\",:id => \"e2\",:xlabel => \"R\")), Edge(NodeID[NodeID(\"n0in3\", \"e\", \"\"), NodeID(\"n2\", \"in1\", \"w\")], OrderedCollections.OrderedDict{Symbol,Union{String, Catlab.Graphics.Graphviz.Html}}(:comment => \"R\",:id => \"e3\",:xlabel => \"R\")), Edge(NodeID[NodeID(\"n0in4\", \"e\", \"\"), NodeID(\"n2\", \"in2\", \"w\")], OrderedCollections.OrderedDict{Symbol,Union{String, Catlab.Graphics.Graphviz.Html}}(:comment => \"R\",:id => \"e4\",:xlabel => \"R\")), Edge(NodeID[NodeID(\"n2\", \"out1\", \"e\"), NodeID(\"n3\", \"in2\", \"w\")], OrderedCollections.OrderedDict{Symbol,Union{String, Catlab.Graphics.Graphviz.Html}}(:comment => \"R\",:id => \"e5\",:xlabel => \"R\")), Edge(NodeID[NodeID(\"n1\", \"out1\", \"e\"), NodeID(\"n3\", \"in1\", \"w\")], OrderedCollections.OrderedDict{Symbol,Union{String, Catlab.Graphics.Graphviz.Html}}(:comment => \"R\",:id => \"e6\",:xlabel => \"R\")), Edge(NodeID[NodeID(\"n3\", \"out1\", \"e\"), NodeID(\"n0out1\", \"w\", \"\")], OrderedCollections.OrderedDict{Symbol,Union{String, Catlab.Graphics.Graphviz.Html}}(:comment => \"R\",:id => \"e7\",:xlabel => \"R\"))], OrderedCollections.OrderedDict{Symbol,Union{String, Catlab.Graphics.Graphviz.Html}}(:fontname => \"Serif\",:rankdir => \"LR\"), OrderedCollections.OrderedDict{Symbol,Union{String, Catlab.Graphics.Graphviz.Html}}(:fontname => \"Courier\",:shape => \"none\",:width => \"0\",:height => \"0\",:margin => \"0\"), OrderedCollections.OrderedDict{Symbol,Union{String, Catlab.Graphics.Graphviz.Html}}(:arrowsize => \"0.5\",:fontname => \"Courier\"))"
      ]
     },
     "execution_count": 13,
     "metadata": {},
     "output_type": "execute_result"
    }
   ],
   "source": [
    "# Function to display wiring diagrams\n",
    "\n",
    "show_diagram(d::WiringDiagram) = to_graphviz(d,\n",
    "  orientation=LeftToRight,\n",
    "  labels=true, label_attr=:xlabel,\n",
    "  node_attrs=Graphviz.Attributes(\n",
    "    :fontname => \"Courier\",\n",
    "  ),\n",
    "  edge_attrs=Graphviz.Attributes(\n",
    "    :fontname => \"Courier\",\n",
    "  )\n",
    ")\n",
    "\n",
    "# Convert composition to diagrams\n",
    "comp_wd = to_wiring_diagram( comp_t );\n",
    "\n",
    "# Display figure\n",
    "show_diagram( comp_wd )"
   ]
  },
  {
   "cell_type": "markdown",
   "id": "ideal-melbourne",
   "metadata": {},
   "source": [
    "As the basic operators are designed to be general, one can use the above relationship for scalar values and vectors/matrices."
   ]
  },
  {
   "cell_type": "code",
   "execution_count": 29,
   "id": "textile-bidder",
   "metadata": {},
   "outputs": [
    {
     "data": {
      "image/svg+xml": [
       "<?xml version=\"1.0\" encoding=\"utf-8\"?>\n",
       "<svg xmlns=\"http://www.w3.org/2000/svg\" xmlns:xlink=\"http://www.w3.org/1999/xlink\" width=\"600\" height=\"400\" viewBox=\"0 0 2400 1600\">\n",
       "<defs>\n",
       "  <clipPath id=\"clip060\">\n",
       "    <rect x=\"0\" y=\"0\" width=\"2400\" height=\"1600\"/>\n",
       "  </clipPath>\n",
       "</defs>\n",
       "<path clip-path=\"url(#clip060)\" d=\"\n",
       "M0 1600 L2400 1600 L2400 0 L0 0  Z\n",
       "  \" fill=\"#ffffff\" fill-rule=\"evenodd\" fill-opacity=\"1\"/>\n",
       "<defs>\n",
       "  <clipPath id=\"clip061\">\n",
       "    <rect x=\"480\" y=\"0\" width=\"1681\" height=\"1600\"/>\n",
       "  </clipPath>\n",
       "</defs>\n",
       "<path clip-path=\"url(#clip060)\" d=\"\n",
       "M179.654 1486.45 L2352.76 1486.45 L2352.76 47.2441 L179.654 47.2441  Z\n",
       "  \" fill=\"#ffffff\" fill-rule=\"evenodd\" fill-opacity=\"1\"/>\n",
       "<defs>\n",
       "  <clipPath id=\"clip062\">\n",
       "    <rect x=\"179\" y=\"47\" width=\"2174\" height=\"1440\"/>\n",
       "  </clipPath>\n",
       "</defs>\n",
       "<polyline clip-path=\"url(#clip062)\" style=\"stroke:#000000; stroke-width:2; stroke-opacity:0.1; fill:none\" points=\"\n",
       "  241.157,1486.45 241.157,47.2441 \n",
       "  \"/>\n",
       "<polyline clip-path=\"url(#clip062)\" style=\"stroke:#000000; stroke-width:2; stroke-opacity:0.1; fill:none\" points=\"\n",
       "  753.681,1486.45 753.681,47.2441 \n",
       "  \"/>\n",
       "<polyline clip-path=\"url(#clip062)\" style=\"stroke:#000000; stroke-width:2; stroke-opacity:0.1; fill:none\" points=\"\n",
       "  1266.2,1486.45 1266.2,47.2441 \n",
       "  \"/>\n",
       "<polyline clip-path=\"url(#clip062)\" style=\"stroke:#000000; stroke-width:2; stroke-opacity:0.1; fill:none\" points=\"\n",
       "  1778.73,1486.45 1778.73,47.2441 \n",
       "  \"/>\n",
       "<polyline clip-path=\"url(#clip062)\" style=\"stroke:#000000; stroke-width:2; stroke-opacity:0.1; fill:none\" points=\"\n",
       "  2291.25,1486.45 2291.25,47.2441 \n",
       "  \"/>\n",
       "<polyline clip-path=\"url(#clip060)\" style=\"stroke:#000000; stroke-width:4; stroke-opacity:1; fill:none\" points=\"\n",
       "  179.654,1486.45 2352.76,1486.45 \n",
       "  \"/>\n",
       "<polyline clip-path=\"url(#clip060)\" style=\"stroke:#000000; stroke-width:4; stroke-opacity:1; fill:none\" points=\"\n",
       "  241.157,1486.45 241.157,1469.18 \n",
       "  \"/>\n",
       "<polyline clip-path=\"url(#clip060)\" style=\"stroke:#000000; stroke-width:4; stroke-opacity:1; fill:none\" points=\"\n",
       "  753.681,1486.45 753.681,1469.18 \n",
       "  \"/>\n",
       "<polyline clip-path=\"url(#clip060)\" style=\"stroke:#000000; stroke-width:4; stroke-opacity:1; fill:none\" points=\"\n",
       "  1266.2,1486.45 1266.2,1469.18 \n",
       "  \"/>\n",
       "<polyline clip-path=\"url(#clip060)\" style=\"stroke:#000000; stroke-width:4; stroke-opacity:1; fill:none\" points=\"\n",
       "  1778.73,1486.45 1778.73,1469.18 \n",
       "  \"/>\n",
       "<polyline clip-path=\"url(#clip060)\" style=\"stroke:#000000; stroke-width:4; stroke-opacity:1; fill:none\" points=\"\n",
       "  2291.25,1486.45 2291.25,1469.18 \n",
       "  \"/>\n",
       "<path clip-path=\"url(#clip060)\" d=\"M 0 0 M194.942 1530.29 L224.617 1530.29 L224.617 1534.23 L194.942 1534.23 L194.942 1530.29 Z\" fill=\"#000000\" fill-rule=\"evenodd\" fill-opacity=\"1\" /><path clip-path=\"url(#clip060)\" d=\"M 0 0 M230.497 1543.18 L238.136 1543.18 L238.136 1516.82 L229.826 1518.49 L229.826 1514.23 L238.089 1512.56 L242.765 1512.56 L242.765 1543.18 L250.404 1543.18 L250.404 1547.12 L230.497 1547.12 L230.497 1543.18 Z\" fill=\"#000000\" fill-rule=\"evenodd\" fill-opacity=\"1\" /><path clip-path=\"url(#clip060)\" d=\"M 0 0 M255.474 1541.24 L260.358 1541.24 L260.358 1547.12 L255.474 1547.12 L255.474 1541.24 Z\" fill=\"#000000\" fill-rule=\"evenodd\" fill-opacity=\"1\" /><path clip-path=\"url(#clip060)\" d=\"M 0 0 M275.427 1515.64 Q271.816 1515.64 269.987 1519.2 Q268.182 1522.75 268.182 1529.87 Q268.182 1536.98 269.987 1540.55 Q271.816 1544.09 275.427 1544.09 Q279.061 1544.09 280.867 1540.55 Q282.696 1536.98 282.696 1529.87 Q282.696 1522.75 280.867 1519.2 Q279.061 1515.64 275.427 1515.64 M275.427 1511.93 Q281.237 1511.93 284.293 1516.54 Q287.372 1521.12 287.372 1529.87 Q287.372 1538.6 284.293 1543.21 Q281.237 1547.79 275.427 1547.79 Q269.617 1547.79 266.538 1543.21 Q263.483 1538.6 263.483 1529.87 Q263.483 1521.12 266.538 1516.54 Q269.617 1511.93 275.427 1511.93 Z\" fill=\"#000000\" fill-rule=\"evenodd\" fill-opacity=\"1\" /><path clip-path=\"url(#clip060)\" d=\"M 0 0 M707.35 1530.29 L737.026 1530.29 L737.026 1534.23 L707.35 1534.23 L707.35 1530.29 Z\" fill=\"#000000\" fill-rule=\"evenodd\" fill-opacity=\"1\" /><path clip-path=\"url(#clip060)\" d=\"M 0 0 M752.095 1515.64 Q748.484 1515.64 746.655 1519.2 Q744.85 1522.75 744.85 1529.87 Q744.85 1536.98 746.655 1540.55 Q748.484 1544.09 752.095 1544.09 Q755.729 1544.09 757.535 1540.55 Q759.364 1536.98 759.364 1529.87 Q759.364 1522.75 757.535 1519.2 Q755.729 1515.64 752.095 1515.64 M752.095 1511.93 Q757.905 1511.93 760.961 1516.54 Q764.039 1521.12 764.039 1529.87 Q764.039 1538.6 760.961 1543.21 Q757.905 1547.79 752.095 1547.79 Q746.285 1547.79 743.206 1543.21 Q740.151 1538.6 740.151 1529.87 Q740.151 1521.12 743.206 1516.54 Q746.285 1511.93 752.095 1511.93 Z\" fill=\"#000000\" fill-rule=\"evenodd\" fill-opacity=\"1\" /><path clip-path=\"url(#clip060)\" d=\"M 0 0 M769.109 1541.24 L773.993 1541.24 L773.993 1547.12 L769.109 1547.12 L769.109 1541.24 Z\" fill=\"#000000\" fill-rule=\"evenodd\" fill-opacity=\"1\" /><path clip-path=\"url(#clip060)\" d=\"M 0 0 M779.109 1512.56 L797.465 1512.56 L797.465 1516.5 L783.391 1516.5 L783.391 1524.97 Q784.41 1524.62 785.428 1524.46 Q786.447 1524.27 787.465 1524.27 Q793.252 1524.27 796.632 1527.44 Q800.011 1530.62 800.011 1536.03 Q800.011 1541.61 796.539 1544.71 Q793.067 1547.79 786.748 1547.79 Q784.572 1547.79 782.303 1547.42 Q780.058 1547.05 777.65 1546.31 L777.65 1541.61 Q779.734 1542.74 781.956 1543.3 Q784.178 1543.86 786.655 1543.86 Q790.66 1543.86 792.998 1541.75 Q795.336 1539.64 795.336 1536.03 Q795.336 1532.42 792.998 1530.31 Q790.66 1528.21 786.655 1528.21 Q784.78 1528.21 782.905 1528.62 Q781.053 1529.04 779.109 1529.92 L779.109 1512.56 Z\" fill=\"#000000\" fill-rule=\"evenodd\" fill-opacity=\"1\" /><path clip-path=\"url(#clip060)\" d=\"M 0 0 M1247.72 1515.64 Q1244.11 1515.64 1242.28 1519.2 Q1240.48 1522.75 1240.48 1529.87 Q1240.48 1536.98 1242.28 1540.55 Q1244.11 1544.09 1247.72 1544.09 Q1251.36 1544.09 1253.16 1540.55 Q1254.99 1536.98 1254.99 1529.87 Q1254.99 1522.75 1253.16 1519.2 Q1251.36 1515.64 1247.72 1515.64 M1247.72 1511.93 Q1253.53 1511.93 1256.59 1516.54 Q1259.67 1521.12 1259.67 1529.87 Q1259.67 1538.6 1256.59 1543.21 Q1253.53 1547.79 1247.72 1547.79 Q1241.91 1547.79 1238.83 1543.21 Q1235.78 1538.6 1235.78 1529.87 Q1235.78 1521.12 1238.83 1516.54 Q1241.91 1511.93 1247.72 1511.93 Z\" fill=\"#000000\" fill-rule=\"evenodd\" fill-opacity=\"1\" /><path clip-path=\"url(#clip060)\" d=\"M 0 0 M1264.73 1541.24 L1269.62 1541.24 L1269.62 1547.12 L1264.73 1547.12 L1264.73 1541.24 Z\" fill=\"#000000\" fill-rule=\"evenodd\" fill-opacity=\"1\" /><path clip-path=\"url(#clip060)\" d=\"M 0 0 M1284.69 1515.64 Q1281.08 1515.64 1279.25 1519.2 Q1277.44 1522.75 1277.44 1529.87 Q1277.44 1536.98 1279.25 1540.55 Q1281.08 1544.09 1284.69 1544.09 Q1288.32 1544.09 1290.13 1540.55 Q1291.96 1536.98 1291.96 1529.87 Q1291.96 1522.75 1290.13 1519.2 Q1288.32 1515.64 1284.69 1515.64 M1284.69 1511.93 Q1290.5 1511.93 1293.55 1516.54 Q1296.63 1521.12 1296.63 1529.87 Q1296.63 1538.6 1293.55 1543.21 Q1290.5 1547.79 1284.69 1547.79 Q1278.88 1547.79 1275.8 1543.21 Q1272.74 1538.6 1272.74 1529.87 Q1272.74 1521.12 1275.8 1516.54 Q1278.88 1511.93 1284.69 1511.93 Z\" fill=\"#000000\" fill-rule=\"evenodd\" fill-opacity=\"1\" /><path clip-path=\"url(#clip060)\" d=\"M 0 0 M1760.74 1515.64 Q1757.13 1515.64 1755.3 1519.2 Q1753.5 1522.75 1753.5 1529.87 Q1753.5 1536.98 1755.3 1540.55 Q1757.13 1544.09 1760.74 1544.09 Q1764.38 1544.09 1766.18 1540.55 Q1768.01 1536.98 1768.01 1529.87 Q1768.01 1522.75 1766.18 1519.2 Q1764.38 1515.64 1760.74 1515.64 M1760.74 1511.93 Q1766.55 1511.93 1769.61 1516.54 Q1772.69 1521.12 1772.69 1529.87 Q1772.69 1538.6 1769.61 1543.21 Q1766.55 1547.79 1760.74 1547.79 Q1754.93 1547.79 1751.85 1543.21 Q1748.8 1538.6 1748.8 1529.87 Q1748.8 1521.12 1751.85 1516.54 Q1754.93 1511.93 1760.74 1511.93 Z\" fill=\"#000000\" fill-rule=\"evenodd\" fill-opacity=\"1\" /><path clip-path=\"url(#clip060)\" d=\"M 0 0 M1777.76 1541.24 L1782.64 1541.24 L1782.64 1547.12 L1777.76 1547.12 L1777.76 1541.24 Z\" fill=\"#000000\" fill-rule=\"evenodd\" fill-opacity=\"1\" /><path clip-path=\"url(#clip060)\" d=\"M 0 0 M1787.76 1512.56 L1806.11 1512.56 L1806.11 1516.5 L1792.04 1516.5 L1792.04 1524.97 Q1793.06 1524.62 1794.08 1524.46 Q1795.09 1524.27 1796.11 1524.27 Q1801.9 1524.27 1805.28 1527.44 Q1808.66 1530.62 1808.66 1536.03 Q1808.66 1541.61 1805.19 1544.71 Q1801.71 1547.79 1795.4 1547.79 Q1793.22 1547.79 1790.95 1547.42 Q1788.71 1547.05 1786.3 1546.31 L1786.3 1541.61 Q1788.38 1542.74 1790.6 1543.3 Q1792.83 1543.86 1795.3 1543.86 Q1799.31 1543.86 1801.65 1541.75 Q1803.98 1539.64 1803.98 1536.03 Q1803.98 1532.42 1801.65 1530.31 Q1799.31 1528.21 1795.3 1528.21 Q1793.43 1528.21 1791.55 1528.62 Q1789.7 1529.04 1787.76 1529.92 L1787.76 1512.56 Z\" fill=\"#000000\" fill-rule=\"evenodd\" fill-opacity=\"1\" /><path clip-path=\"url(#clip060)\" d=\"M 0 0 M2263.15 1543.18 L2270.79 1543.18 L2270.79 1516.82 L2262.48 1518.49 L2262.48 1514.23 L2270.74 1512.56 L2275.42 1512.56 L2275.42 1543.18 L2283.06 1543.18 L2283.06 1547.12 L2263.15 1547.12 L2263.15 1543.18 Z\" fill=\"#000000\" fill-rule=\"evenodd\" fill-opacity=\"1\" /><path clip-path=\"url(#clip060)\" d=\"M 0 0 M2288.13 1541.24 L2293.01 1541.24 L2293.01 1547.12 L2288.13 1547.12 L2288.13 1541.24 Z\" fill=\"#000000\" fill-rule=\"evenodd\" fill-opacity=\"1\" /><path clip-path=\"url(#clip060)\" d=\"M 0 0 M2308.08 1515.64 Q2304.47 1515.64 2302.64 1519.2 Q2300.84 1522.75 2300.84 1529.87 Q2300.84 1536.98 2302.64 1540.55 Q2304.47 1544.09 2308.08 1544.09 Q2311.72 1544.09 2313.52 1540.55 Q2315.35 1536.98 2315.35 1529.87 Q2315.35 1522.75 2313.52 1519.2 Q2311.72 1515.64 2308.08 1515.64 M2308.08 1511.93 Q2313.89 1511.93 2316.95 1516.54 Q2320.03 1521.12 2320.03 1529.87 Q2320.03 1538.6 2316.95 1543.21 Q2313.89 1547.79 2308.08 1547.79 Q2302.27 1547.79 2299.19 1543.21 Q2296.14 1538.6 2296.14 1529.87 Q2296.14 1521.12 2299.19 1516.54 Q2302.27 1511.93 2308.08 1511.93 Z\" fill=\"#000000\" fill-rule=\"evenodd\" fill-opacity=\"1\" /><polyline clip-path=\"url(#clip062)\" style=\"stroke:#000000; stroke-width:2; stroke-opacity:0.1; fill:none\" points=\"\n",
       "  179.654,1445.72 2352.76,1445.72 \n",
       "  \"/>\n",
       "<polyline clip-path=\"url(#clip062)\" style=\"stroke:#000000; stroke-width:2; stroke-opacity:0.1; fill:none\" points=\"\n",
       "  179.654,1106.28 2352.76,1106.28 \n",
       "  \"/>\n",
       "<polyline clip-path=\"url(#clip062)\" style=\"stroke:#000000; stroke-width:2; stroke-opacity:0.1; fill:none\" points=\"\n",
       "  179.654,766.846 2352.76,766.846 \n",
       "  \"/>\n",
       "<polyline clip-path=\"url(#clip062)\" style=\"stroke:#000000; stroke-width:2; stroke-opacity:0.1; fill:none\" points=\"\n",
       "  179.654,427.411 2352.76,427.411 \n",
       "  \"/>\n",
       "<polyline clip-path=\"url(#clip062)\" style=\"stroke:#000000; stroke-width:2; stroke-opacity:0.1; fill:none\" points=\"\n",
       "  179.654,87.9763 2352.76,87.9763 \n",
       "  \"/>\n",
       "<polyline clip-path=\"url(#clip060)\" style=\"stroke:#000000; stroke-width:4; stroke-opacity:1; fill:none\" points=\"\n",
       "  179.654,1486.45 179.654,47.2441 \n",
       "  \"/>\n",
       "<polyline clip-path=\"url(#clip060)\" style=\"stroke:#000000; stroke-width:4; stroke-opacity:1; fill:none\" points=\"\n",
       "  179.654,1445.72 205.731,1445.72 \n",
       "  \"/>\n",
       "<polyline clip-path=\"url(#clip060)\" style=\"stroke:#000000; stroke-width:4; stroke-opacity:1; fill:none\" points=\"\n",
       "  179.654,1106.28 205.731,1106.28 \n",
       "  \"/>\n",
       "<polyline clip-path=\"url(#clip060)\" style=\"stroke:#000000; stroke-width:4; stroke-opacity:1; fill:none\" points=\"\n",
       "  179.654,766.846 205.731,766.846 \n",
       "  \"/>\n",
       "<polyline clip-path=\"url(#clip060)\" style=\"stroke:#000000; stroke-width:4; stroke-opacity:1; fill:none\" points=\"\n",
       "  179.654,427.411 205.731,427.411 \n",
       "  \"/>\n",
       "<polyline clip-path=\"url(#clip060)\" style=\"stroke:#000000; stroke-width:4; stroke-opacity:1; fill:none\" points=\"\n",
       "  179.654,87.9763 205.731,87.9763 \n",
       "  \"/>\n",
       "<path clip-path=\"url(#clip060)\" d=\"M 0 0 M51.2236 1446.17 L80.8994 1446.17 L80.8994 1450.1 L51.2236 1450.1 L51.2236 1446.17 Z\" fill=\"#000000\" fill-rule=\"evenodd\" fill-opacity=\"1\" /><path clip-path=\"url(#clip060)\" d=\"M 0 0 M86.779 1459.06 L94.4178 1459.06 L94.4178 1432.69 L86.1077 1434.36 L86.1077 1430.1 L94.3715 1428.44 L99.0474 1428.44 L99.0474 1459.06 L106.686 1459.06 L106.686 1463 L86.779 1463 L86.779 1459.06 Z\" fill=\"#000000\" fill-rule=\"evenodd\" fill-opacity=\"1\" /><path clip-path=\"url(#clip060)\" d=\"M 0 0 M111.756 1457.12 L116.64 1457.12 L116.64 1463 L111.756 1463 L111.756 1457.12 Z\" fill=\"#000000\" fill-rule=\"evenodd\" fill-opacity=\"1\" /><path clip-path=\"url(#clip060)\" d=\"M 0 0 M131.709 1431.51 Q128.098 1431.51 126.27 1435.08 Q124.464 1438.62 124.464 1445.75 Q124.464 1452.86 126.27 1456.42 Q128.098 1459.96 131.709 1459.96 Q135.344 1459.96 137.149 1456.42 Q138.978 1452.86 138.978 1445.75 Q138.978 1438.62 137.149 1435.08 Q135.344 1431.51 131.709 1431.51 M131.709 1427.81 Q137.519 1427.81 140.575 1432.42 Q143.654 1437 143.654 1445.75 Q143.654 1454.48 140.575 1459.08 Q137.519 1463.67 131.709 1463.67 Q125.899 1463.67 122.82 1459.08 Q119.765 1454.48 119.765 1445.75 Q119.765 1437 122.82 1432.42 Q125.899 1427.81 131.709 1427.81 Z\" fill=\"#000000\" fill-rule=\"evenodd\" fill-opacity=\"1\" /><path clip-path=\"url(#clip060)\" d=\"M 0 0 M50.9921 1106.73 L80.6679 1106.73 L80.6679 1110.67 L50.9921 1110.67 L50.9921 1106.73 Z\" fill=\"#000000\" fill-rule=\"evenodd\" fill-opacity=\"1\" /><path clip-path=\"url(#clip060)\" d=\"M 0 0 M95.7373 1092.08 Q92.1262 1092.08 90.2975 1095.64 Q88.4919 1099.19 88.4919 1106.32 Q88.4919 1113.42 90.2975 1116.99 Q92.1262 1120.53 95.7373 1120.53 Q99.3715 1120.53 101.177 1116.99 Q103.006 1113.42 103.006 1106.32 Q103.006 1099.19 101.177 1095.64 Q99.3715 1092.08 95.7373 1092.08 M95.7373 1088.38 Q101.547 1088.38 104.603 1092.98 Q107.682 1097.57 107.682 1106.32 Q107.682 1115.04 104.603 1119.65 Q101.547 1124.23 95.7373 1124.23 Q89.9271 1124.23 86.8484 1119.65 Q83.7929 1115.04 83.7929 1106.32 Q83.7929 1097.57 86.8484 1092.98 Q89.9271 1088.38 95.7373 1088.38 Z\" fill=\"#000000\" fill-rule=\"evenodd\" fill-opacity=\"1\" /><path clip-path=\"url(#clip060)\" d=\"M 0 0 M112.751 1117.68 L117.635 1117.68 L117.635 1123.56 L112.751 1123.56 L112.751 1117.68 Z\" fill=\"#000000\" fill-rule=\"evenodd\" fill-opacity=\"1\" /><path clip-path=\"url(#clip060)\" d=\"M 0 0 M122.751 1089 L141.107 1089 L141.107 1092.94 L127.033 1092.94 L127.033 1101.41 Q128.052 1101.06 129.07 1100.9 Q130.089 1100.71 131.107 1100.71 Q136.894 1100.71 140.274 1103.89 Q143.654 1107.06 143.654 1112.47 Q143.654 1118.05 140.181 1121.15 Q136.709 1124.23 130.39 1124.23 Q128.214 1124.23 125.945 1123.86 Q123.7 1123.49 121.293 1122.75 L121.293 1118.05 Q123.376 1119.19 125.598 1119.74 Q127.82 1120.3 130.297 1120.3 Q134.302 1120.3 136.64 1118.19 Q138.978 1116.08 138.978 1112.47 Q138.978 1108.86 136.64 1106.76 Q134.302 1104.65 130.297 1104.65 Q128.422 1104.65 126.547 1105.07 Q124.695 1105.48 122.751 1106.36 L122.751 1089 Z\" fill=\"#000000\" fill-rule=\"evenodd\" fill-opacity=\"1\" /><path clip-path=\"url(#clip060)\" d=\"M 0 0 M94.7419 752.645 Q91.1308 752.645 89.3021 756.209 Q87.4966 759.751 87.4966 766.881 Q87.4966 773.987 89.3021 777.552 Q91.1308 781.094 94.7419 781.094 Q98.3761 781.094 100.182 777.552 Q102.01 773.987 102.01 766.881 Q102.01 759.751 100.182 756.209 Q98.3761 752.645 94.7419 752.645 M94.7419 748.941 Q100.552 748.941 103.608 753.547 Q106.686 758.131 106.686 766.881 Q106.686 775.608 103.608 780.214 Q100.552 784.797 94.7419 784.797 Q88.9317 784.797 85.8531 780.214 Q82.7975 775.608 82.7975 766.881 Q82.7975 758.131 85.8531 753.547 Q88.9317 748.941 94.7419 748.941 Z\" fill=\"#000000\" fill-rule=\"evenodd\" fill-opacity=\"1\" /><path clip-path=\"url(#clip060)\" d=\"M 0 0 M111.756 778.246 L116.64 778.246 L116.64 784.126 L111.756 784.126 L111.756 778.246 Z\" fill=\"#000000\" fill-rule=\"evenodd\" fill-opacity=\"1\" /><path clip-path=\"url(#clip060)\" d=\"M 0 0 M131.709 752.645 Q128.098 752.645 126.27 756.209 Q124.464 759.751 124.464 766.881 Q124.464 773.987 126.27 777.552 Q128.098 781.094 131.709 781.094 Q135.344 781.094 137.149 777.552 Q138.978 773.987 138.978 766.881 Q138.978 759.751 137.149 756.209 Q135.344 752.645 131.709 752.645 M131.709 748.941 Q137.519 748.941 140.575 753.547 Q143.654 758.131 143.654 766.881 Q143.654 775.608 140.575 780.214 Q137.519 784.797 131.709 784.797 Q125.899 784.797 122.82 780.214 Q119.765 775.608 119.765 766.881 Q119.765 758.131 122.82 753.547 Q125.899 748.941 131.709 748.941 Z\" fill=\"#000000\" fill-rule=\"evenodd\" fill-opacity=\"1\" /><path clip-path=\"url(#clip060)\" d=\"M 0 0 M95.7373 413.21 Q92.1262 413.21 90.2975 416.775 Q88.4919 420.316 88.4919 427.446 Q88.4919 434.552 90.2975 438.117 Q92.1262 441.659 95.7373 441.659 Q99.3715 441.659 101.177 438.117 Q103.006 434.552 103.006 427.446 Q103.006 420.316 101.177 416.775 Q99.3715 413.21 95.7373 413.21 M95.7373 409.506 Q101.547 409.506 104.603 414.113 Q107.682 418.696 107.682 427.446 Q107.682 436.173 104.603 440.779 Q101.547 445.362 95.7373 445.362 Q89.9271 445.362 86.8484 440.779 Q83.7929 436.173 83.7929 427.446 Q83.7929 418.696 86.8484 414.113 Q89.9271 409.506 95.7373 409.506 Z\" fill=\"#000000\" fill-rule=\"evenodd\" fill-opacity=\"1\" /><path clip-path=\"url(#clip060)\" d=\"M 0 0 M112.751 438.812 L117.635 438.812 L117.635 444.691 L112.751 444.691 L112.751 438.812 Z\" fill=\"#000000\" fill-rule=\"evenodd\" fill-opacity=\"1\" /><path clip-path=\"url(#clip060)\" d=\"M 0 0 M122.751 410.131 L141.107 410.131 L141.107 414.066 L127.033 414.066 L127.033 422.538 Q128.052 422.191 129.07 422.029 Q130.089 421.844 131.107 421.844 Q136.894 421.844 140.274 425.015 Q143.654 428.187 143.654 433.603 Q143.654 439.182 140.181 442.284 Q136.709 445.362 130.39 445.362 Q128.214 445.362 125.945 444.992 Q123.7 444.622 121.293 443.881 L121.293 439.182 Q123.376 440.316 125.598 440.872 Q127.82 441.427 130.297 441.427 Q134.302 441.427 136.64 439.321 Q138.978 437.214 138.978 433.603 Q138.978 429.992 136.64 427.886 Q134.302 425.779 130.297 425.779 Q128.422 425.779 126.547 426.196 Q124.695 426.613 122.751 427.492 L122.751 410.131 Z\" fill=\"#000000\" fill-rule=\"evenodd\" fill-opacity=\"1\" /><path clip-path=\"url(#clip060)\" d=\"M 0 0 M86.779 101.321 L94.4178 101.321 L94.4178 74.9555 L86.1077 76.6222 L86.1077 72.3629 L94.3715 70.6963 L99.0474 70.6963 L99.0474 101.321 L106.686 101.321 L106.686 105.256 L86.779 105.256 L86.779 101.321 Z\" fill=\"#000000\" fill-rule=\"evenodd\" fill-opacity=\"1\" /><path clip-path=\"url(#clip060)\" d=\"M 0 0 M111.756 99.3767 L116.64 99.3767 L116.64 105.256 L111.756 105.256 L111.756 99.3767 Z\" fill=\"#000000\" fill-rule=\"evenodd\" fill-opacity=\"1\" /><path clip-path=\"url(#clip060)\" d=\"M 0 0 M131.709 73.775 Q128.098 73.775 126.27 77.3398 Q124.464 80.8814 124.464 88.011 Q124.464 95.1174 126.27 98.6822 Q128.098 102.224 131.709 102.224 Q135.344 102.224 137.149 98.6822 Q138.978 95.1174 138.978 88.011 Q138.978 80.8814 137.149 77.3398 Q135.344 73.775 131.709 73.775 M131.709 70.0713 Q137.519 70.0713 140.575 74.6777 Q143.654 79.261 143.654 88.011 Q143.654 96.7378 140.575 101.344 Q137.519 105.928 131.709 105.928 Q125.899 105.928 122.82 101.344 Q119.765 96.7378 119.765 88.011 Q119.765 79.261 122.82 74.6777 Q125.899 70.0713 131.709 70.0713 Z\" fill=\"#000000\" fill-rule=\"evenodd\" fill-opacity=\"1\" /><polyline clip-path=\"url(#clip062)\" style=\"stroke:#009af9; stroke-width:4; stroke-opacity:1; fill:none\" points=\"\n",
       "  241.157,1445.72 468.945,1294.86 696.734,1144 924.522,993.136 1152.31,842.276 1380.1,691.416 1607.89,540.556 1835.68,389.696 2063.46,238.836 2291.25,87.9763 \n",
       "  \n",
       "  \"/>\n",
       "<polyline clip-path=\"url(#clip062)\" style=\"stroke:#e26f46; stroke-width:4; stroke-opacity:1; fill:none\" points=\"\n",
       "  241.157,1106.28 468.945,1106.28 696.734,1106.28 924.522,1106.28 1152.31,1106.28 1380.1,1106.28 1607.89,1106.28 1835.68,1106.28 2063.46,1106.28 2291.25,1106.28 \n",
       "  \n",
       "  \"/>\n",
       "<polyline clip-path=\"url(#clip062)\" style=\"stroke:#3da44d; stroke-width:4; stroke-opacity:1; fill:none\" points=\"\n",
       "  241.157,87.9763 468.945,238.836 696.734,389.696 924.522,540.556 1152.31,691.416 1380.1,842.276 1607.89,993.136 1835.68,1144 2063.46,1294.86 2291.25,1445.72 \n",
       "  \n",
       "  \"/>\n",
       "<polyline clip-path=\"url(#clip062)\" style=\"stroke:#c271d2; stroke-width:4; stroke-opacity:1; fill:none\" points=\"\n",
       "  241.157,257.694 468.945,257.694 696.734,257.694 924.522,257.694 1152.31,257.694 1380.1,257.694 1607.89,257.694 1835.68,257.694 2063.46,257.694 2291.25,257.694 \n",
       "  \n",
       "  \"/>\n",
       "<polyline clip-path=\"url(#clip062)\" style=\"stroke:#ac8d18; stroke-width:4; stroke-opacity:1; fill:none\" points=\"\n",
       "  241.157,1021.42 468.945,790.942 696.734,627.51 924.522,531.127 1152.31,501.793 1380.1,539.508 1607.89,644.272 1835.68,816.085 2063.46,1054.95 2291.25,1360.86 \n",
       "  \n",
       "  \"/>\n",
       "<path clip-path=\"url(#clip060)\" d=\"\n",
       "M1597.2 458.098 L2280.32 458.098 L2280.32 95.2176 L1597.2 95.2176  Z\n",
       "  \" fill=\"#ffffff\" fill-rule=\"evenodd\" fill-opacity=\"1\"/>\n",
       "<polyline clip-path=\"url(#clip060)\" style=\"stroke:#000000; stroke-width:4; stroke-opacity:1; fill:none\" points=\"\n",
       "  1597.2,458.098 2280.32,458.098 2280.32,95.2176 1597.2,95.2176 1597.2,458.098 \n",
       "  \"/>\n",
       "<polyline clip-path=\"url(#clip060)\" style=\"stroke:#009af9; stroke-width:4; stroke-opacity:1; fill:none\" points=\"\n",
       "  1621.34,155.698 1766.22,155.698 \n",
       "  \"/>\n",
       "<path clip-path=\"url(#clip060)\" d=\"M 0 0 M1815.02 147.052 L1805.64 159.667 L1815.5 172.978 L1810.48 172.978 L1802.93 162.792 L1795.39 172.978 L1790.36 172.978 L1800.43 159.413 L1791.22 147.052 L1796.24 147.052 L1803.12 156.288 L1809.99 147.052 L1815.02 147.052 Z\" fill=\"#000000\" fill-rule=\"evenodd\" fill-opacity=\"1\" /><polyline clip-path=\"url(#clip060)\" style=\"stroke:#e26f46; stroke-width:4; stroke-opacity:1; fill:none\" points=\"\n",
       "  1621.34,216.178 1766.22,216.178 \n",
       "  \"/>\n",
       "<path clip-path=\"url(#clip060)\" d=\"M 0 0 M1815.02 207.532 L1805.64 220.147 L1815.5 233.458 L1810.48 233.458 L1802.93 223.272 L1795.39 233.458 L1790.36 233.458 L1800.43 219.893 L1791.22 207.532 L1796.24 207.532 L1803.12 216.768 L1809.99 207.532 L1815.02 207.532 Z\" fill=\"#000000\" fill-rule=\"evenodd\" fill-opacity=\"1\" /><path clip-path=\"url(#clip060)\" d=\"M 0 0 M1821.38 229.522 L1829.02 229.522 L1829.02 203.157 L1820.71 204.823 L1820.71 200.564 L1828.97 198.898 L1833.65 198.898 L1833.65 229.522 L1841.29 229.522 L1841.29 233.458 L1821.38 233.458 L1821.38 229.522 Z\" fill=\"#000000\" fill-rule=\"evenodd\" fill-opacity=\"1\" /><polyline clip-path=\"url(#clip060)\" style=\"stroke:#3da44d; stroke-width:4; stroke-opacity:1; fill:none\" points=\"\n",
       "  1621.34,276.658 1766.22,276.658 \n",
       "  \"/>\n",
       "<path clip-path=\"url(#clip060)\" d=\"M 0 0 M1815.02 268.012 L1805.64 280.627 L1815.5 293.938 L1810.48 293.938 L1802.93 283.752 L1795.39 293.938 L1790.36 293.938 L1800.43 280.373 L1791.22 268.012 L1796.24 268.012 L1803.12 277.248 L1809.99 268.012 L1815.02 268.012 Z\" fill=\"#000000\" fill-rule=\"evenodd\" fill-opacity=\"1\" /><path clip-path=\"url(#clip060)\" d=\"M 0 0 M1824.6 290.002 L1840.92 290.002 L1840.92 293.938 L1818.97 293.938 L1818.97 290.002 Q1821.64 287.248 1826.22 282.618 Q1830.83 277.965 1832.01 276.623 Q1834.25 274.1 1835.13 272.364 Q1836.03 270.604 1836.03 268.915 Q1836.03 266.16 1834.09 264.424 Q1832.17 262.688 1829.07 262.688 Q1826.87 262.688 1824.41 263.452 Q1821.98 264.215 1819.21 265.766 L1819.21 261.044 Q1822.03 259.91 1824.48 259.331 Q1826.94 258.753 1828.97 258.753 Q1834.34 258.753 1837.54 261.438 Q1840.73 264.123 1840.73 268.614 Q1840.73 270.743 1839.92 272.665 Q1839.14 274.563 1837.03 277.155 Q1836.45 277.827 1833.35 281.044 Q1830.25 284.239 1824.6 290.002 Z\" fill=\"#000000\" fill-rule=\"evenodd\" fill-opacity=\"1\" /><polyline clip-path=\"url(#clip060)\" style=\"stroke:#c271d2; stroke-width:4; stroke-opacity:1; fill:none\" points=\"\n",
       "  1621.34,337.138 1766.22,337.138 \n",
       "  \"/>\n",
       "<path clip-path=\"url(#clip060)\" d=\"M 0 0 M1815.02 328.492 L1805.64 341.107 L1815.5 354.418 L1810.48 354.418 L1802.93 344.232 L1795.39 354.418 L1790.36 354.418 L1800.43 340.853 L1791.22 328.492 L1796.24 328.492 L1803.12 337.728 L1809.99 328.492 L1815.02 328.492 Z\" fill=\"#000000\" fill-rule=\"evenodd\" fill-opacity=\"1\" /><path clip-path=\"url(#clip060)\" d=\"M 0 0 M1834.74 335.783 Q1838.09 336.501 1839.97 338.769 Q1841.87 341.038 1841.87 344.371 Q1841.87 349.487 1838.35 352.288 Q1834.83 355.089 1828.35 355.089 Q1826.17 355.089 1823.86 354.649 Q1821.57 354.232 1819.11 353.376 L1819.11 348.862 Q1821.06 349.996 1823.37 350.575 Q1825.69 351.154 1828.21 351.154 Q1832.61 351.154 1834.9 349.418 Q1837.22 347.681 1837.22 344.371 Q1837.22 341.316 1835.06 339.603 Q1832.93 337.867 1829.11 337.867 L1825.09 337.867 L1825.09 334.024 L1829.3 334.024 Q1832.75 334.024 1834.58 332.658 Q1836.41 331.27 1836.41 328.677 Q1836.41 326.015 1834.51 324.603 Q1832.63 323.168 1829.11 323.168 Q1827.19 323.168 1824.99 323.584 Q1822.79 324.001 1820.16 324.881 L1820.16 320.714 Q1822.82 319.973 1825.13 319.603 Q1827.47 319.233 1829.53 319.233 Q1834.85 319.233 1837.96 321.663 Q1841.06 324.07 1841.06 328.191 Q1841.06 331.061 1839.41 333.052 Q1837.77 335.02 1834.74 335.783 Z\" fill=\"#000000\" fill-rule=\"evenodd\" fill-opacity=\"1\" /><polyline clip-path=\"url(#clip060)\" style=\"stroke:#ac8d18; stroke-width:4; stroke-opacity:1; fill:none\" points=\"\n",
       "  1621.34,397.618 1766.22,397.618 \n",
       "  \"/>\n",
       "<path clip-path=\"url(#clip060)\" d=\"M 0 0 M1804.21 417.305 Q1802.4 421.935 1800.69 423.347 Q1798.97 424.759 1796.1 424.759 L1792.7 424.759 L1792.7 421.194 L1795.2 421.194 Q1796.96 421.194 1797.93 420.36 Q1798.91 419.527 1800.09 416.425 L1800.85 414.481 L1790.36 388.972 L1794.88 388.972 L1802.98 409.249 L1811.08 388.972 L1815.6 388.972 L1804.21 417.305 Z\" fill=\"#000000\" fill-rule=\"evenodd\" fill-opacity=\"1\" /><path clip-path=\"url(#clip060)\" d=\"M 0 0 M1835.69 393.37 L1865.36 393.37 L1865.36 397.259 L1835.69 397.259 L1835.69 393.37 M1835.69 402.814 L1865.36 402.814 L1865.36 406.749 L1835.69 406.749 L1835.69 402.814 Z\" fill=\"#000000\" fill-rule=\"evenodd\" fill-opacity=\"1\" /><path clip-path=\"url(#clip060)\" d=\"M 0 0 M1895.13 378.926 Q1892.03 384.25 1890.53 389.458 Q1889.02 394.666 1889.02 400.013 Q1889.02 405.361 1890.53 410.615 Q1892.05 415.847 1895.13 421.148 L1891.43 421.148 Q1887.96 415.708 1886.22 410.453 Q1884.51 405.199 1884.51 400.013 Q1884.51 394.851 1886.22 389.62 Q1887.93 384.388 1891.43 378.926 L1895.13 378.926 Z\" fill=\"#000000\" fill-rule=\"evenodd\" fill-opacity=\"1\" /><path clip-path=\"url(#clip060)\" d=\"M 0 0 M1921.15 388.972 L1911.78 401.587 L1921.64 414.898 L1916.61 414.898 L1909.07 404.712 L1901.52 414.898 L1896.5 414.898 L1906.57 401.333 L1897.35 388.972 L1902.38 388.972 L1909.25 398.208 L1916.13 388.972 L1921.15 388.972 Z\" fill=\"#000000\" fill-rule=\"evenodd\" fill-opacity=\"1\" /><path clip-path=\"url(#clip060)\" d=\"M 0 0 M1958.51 385.175 L1958.51 398.069 L1971.4 398.069 L1971.4 402.004 L1958.51 402.004 L1958.51 414.898 L1954.62 414.898 L1954.62 402.004 L1941.73 402.004 L1941.73 398.069 L1954.62 398.069 L1954.62 385.175 L1958.51 385.175 Z\" fill=\"#000000\" fill-rule=\"evenodd\" fill-opacity=\"1\" /><path clip-path=\"url(#clip060)\" d=\"M 0 0 M2012.49 388.972 L2003.12 401.587 L2012.98 414.898 L2007.96 414.898 L2000.41 404.712 L1992.86 414.898 L1987.84 414.898 L1997.91 401.333 L1988.7 388.972 L1993.72 388.972 L2000.59 398.208 L2007.47 388.972 L2012.49 388.972 Z\" fill=\"#000000\" fill-rule=\"evenodd\" fill-opacity=\"1\" /><path clip-path=\"url(#clip060)\" d=\"M 0 0 M2018.86 410.962 L2026.5 410.962 L2026.5 384.597 L2018.19 386.263 L2018.19 382.004 L2026.45 380.338 L2031.13 380.338 L2031.13 410.962 L2038.77 410.962 L2038.77 414.898 L2018.86 414.898 L2018.86 410.962 Z\" fill=\"#000000\" fill-rule=\"evenodd\" fill-opacity=\"1\" /><path clip-path=\"url(#clip060)\" d=\"M 0 0 M2042.56 378.926 L2046.27 378.926 Q2049.74 384.388 2051.45 389.62 Q2053.19 394.851 2053.19 400.013 Q2053.19 405.199 2051.45 410.453 Q2049.74 415.708 2046.27 421.148 L2042.56 421.148 Q2045.64 415.847 2047.14 410.615 Q2048.67 405.361 2048.67 400.013 Q2048.67 394.666 2047.14 389.458 Q2045.64 384.25 2042.56 378.926 Z\" fill=\"#000000\" fill-rule=\"evenodd\" fill-opacity=\"1\" /><path clip-path=\"url(#clip060)\" d=\"M 0 0 M2067.89 378.926 Q2064.78 384.25 2063.28 389.458 Q2061.77 394.666 2061.77 400.013 Q2061.77 405.361 2063.28 410.615 Q2064.81 415.847 2067.89 421.148 L2064.18 421.148 Q2060.71 415.708 2058.97 410.453 Q2057.26 405.199 2057.26 400.013 Q2057.26 394.851 2058.97 389.62 Q2060.69 384.388 2064.18 378.926 L2067.89 378.926 Z\" fill=\"#000000\" fill-rule=\"evenodd\" fill-opacity=\"1\" /><path clip-path=\"url(#clip060)\" d=\"M 0 0 M2093.9 388.972 L2084.53 401.587 L2094.39 414.898 L2089.37 414.898 L2081.82 404.712 L2074.27 414.898 L2069.25 414.898 L2079.32 401.333 L2070.11 388.972 L2075.13 388.972 L2082.01 398.208 L2088.88 388.972 L2093.9 388.972 Z\" fill=\"#000000\" fill-rule=\"evenodd\" fill-opacity=\"1\" /><path clip-path=\"url(#clip060)\" d=\"M 0 0 M2103.49 410.962 L2119.81 410.962 L2119.81 414.898 L2097.86 414.898 L2097.86 410.962 Q2100.52 408.208 2105.11 403.578 Q2109.71 398.925 2110.89 397.583 Q2113.14 395.06 2114.02 393.324 Q2114.92 391.564 2114.92 389.875 Q2114.92 387.12 2112.98 385.384 Q2111.06 383.648 2107.95 383.648 Q2105.76 383.648 2103.3 384.412 Q2100.87 385.175 2098.09 386.726 L2098.09 382.004 Q2100.92 380.87 2103.37 380.291 Q2105.82 379.713 2107.86 379.713 Q2113.23 379.713 2116.43 382.398 Q2119.62 385.083 2119.62 389.574 Q2119.62 391.703 2118.81 393.625 Q2118.02 395.523 2115.92 398.115 Q2115.34 398.787 2112.24 402.004 Q2109.14 405.199 2103.49 410.962 Z\" fill=\"#000000\" fill-rule=\"evenodd\" fill-opacity=\"1\" /><path clip-path=\"url(#clip060)\" d=\"M 0 0 M2137.19 400.013 L2149.67 400.013 L2149.67 403.81 L2137.19 403.81 L2137.19 400.013 Z\" fill=\"#000000\" fill-rule=\"evenodd\" fill-opacity=\"1\" /><path clip-path=\"url(#clip060)\" d=\"M 0 0 M2190.76 388.972 L2181.38 401.587 L2191.24 414.898 L2186.22 414.898 L2178.67 404.712 L2171.13 414.898 L2166.1 414.898 L2176.17 401.333 L2166.96 388.972 L2171.98 388.972 L2178.86 398.208 L2185.73 388.972 L2190.76 388.972 Z\" fill=\"#000000\" fill-rule=\"evenodd\" fill-opacity=\"1\" /><path clip-path=\"url(#clip060)\" d=\"M 0 0 M2210.48 396.263 Q2213.83 396.981 2215.71 399.249 Q2217.61 401.518 2217.61 404.851 Q2217.61 409.967 2214.09 412.768 Q2210.57 415.569 2204.09 415.569 Q2201.91 415.569 2199.6 415.129 Q2197.31 414.712 2194.85 413.856 L2194.85 409.342 Q2196.8 410.476 2199.11 411.055 Q2201.43 411.634 2203.95 411.634 Q2208.35 411.634 2210.64 409.898 Q2212.95 408.161 2212.95 404.851 Q2212.95 401.796 2210.8 400.083 Q2208.67 398.347 2204.85 398.347 L2200.82 398.347 L2200.82 394.504 L2205.04 394.504 Q2208.49 394.504 2210.32 393.138 Q2212.14 391.75 2212.14 389.157 Q2212.14 386.495 2210.25 385.083 Q2208.37 383.648 2204.85 383.648 Q2202.93 383.648 2200.73 384.064 Q2198.53 384.481 2195.89 385.361 L2195.89 381.194 Q2198.56 380.453 2200.87 380.083 Q2203.21 379.713 2205.27 379.713 Q2210.59 379.713 2213.69 382.143 Q2216.8 384.55 2216.8 388.671 Q2216.8 391.541 2215.15 393.532 Q2213.51 395.5 2210.48 396.263 Z\" fill=\"#000000\" fill-rule=\"evenodd\" fill-opacity=\"1\" /><path clip-path=\"url(#clip060)\" d=\"M 0 0 M2221.4 378.926 L2225.11 378.926 Q2228.58 384.388 2230.29 389.62 Q2232.03 394.851 2232.03 400.013 Q2232.03 405.199 2230.29 410.453 Q2228.58 415.708 2225.11 421.148 L2221.4 421.148 Q2224.48 415.847 2225.99 410.615 Q2227.51 405.361 2227.51 400.013 Q2227.51 394.666 2225.99 389.458 Q2224.48 384.25 2221.4 378.926 Z\" fill=\"#000000\" fill-rule=\"evenodd\" fill-opacity=\"1\" /></svg>\n"
      ]
     },
     "execution_count": 29,
     "metadata": {},
     "output_type": "execute_result"
    }
   ],
   "source": [
    "# Evaluate numerical function of composition:\n",
    "\n",
    "#--- Scalar Case:\n",
    "\n",
    "# Inputs\n",
    "n = 10;\n",
    "x = [-1: 2/(n-1): 1;];\n",
    "x1 = repeat([-0.5], n);\n",
    "x2 = -x;\n",
    "x3 = repeat([0.75], n);\n",
    "\n",
    "#Output: [Must be element-wise as vector multiplication is undefined]\n",
    "y = func_t.(x, x1, x2, x3);\n",
    "\n",
    "#Display result\n",
    "plot( x, [x, x1, x2, x3, y], label = [\"x\" \"x1\" \"x2\" \"x3\" \"y = (x + x1)(x2 - x3)\"] )"
   ]
  },
  {
   "cell_type": "markdown",
   "id": "electronic-offense",
   "metadata": {},
   "source": [
    "<h3>3 - Example with feedback</h3>"
   ]
  },
  {
   "cell_type": "markdown",
   "id": "unavailable-profile",
   "metadata": {},
   "source": [
    "This is an attempt to create a 1rst order system via composition. [Incomplete]"
   ]
  },
  {
   "cell_type": "code",
   "execution_count": 14,
   "id": "retired-affect",
   "metadata": {},
   "outputs": [
    {
     "data": {
      "image/svg+xml": [
       "<?xml version=\"1.0\" encoding=\"UTF-8\" standalone=\"no\"?>\r\n",
       "<!DOCTYPE svg PUBLIC \"-//W3C//DTD SVG 1.1//EN\"\r\n",
       " \"http://www.w3.org/Graphics/SVG/1.1/DTD/svg11.dtd\">\r\n",
       "<!-- Generated by graphviz version 2.47.0 (20210316.0004)\r\n",
       " -->\r\n",
       "<!-- Title: G Pages: 1 -->\r\n",
       "<svg width=\"156pt\" height=\"116pt\"\r\n",
       " viewBox=\"0.00 0.00 156.00 116.00\" xmlns=\"http://www.w3.org/2000/svg\" xmlns:xlink=\"http://www.w3.org/1999/xlink\">\r\n",
       "<g id=\"graph0\" class=\"graph\" transform=\"scale(1 1) rotate(0) translate(4 112)\">\r\n",
       "<title>G</title>\r\n",
       "<polygon fill=\"white\" stroke=\"transparent\" points=\"-4,4 -4,-112 152,-112 152,4 -4,4\"/>\r\n",
       "<!-- n0in1 -->\r\n",
       "<!-- n0in2 -->\r\n",
       "<!-- n0in1&#45;&gt;n0in2 -->\r\n",
       "<!-- n2 -->\r\n",
       "<!-- * -->\r\n",
       "<g id=\"n2\" class=\"node\">\r\n",
       "<title>n2</title>\r\n",
       "<polygon fill=\"none\" stroke=\"black\" points=\"92.5,-44 92.5,-92 111.5,-92 111.5,-44 92.5,-44\"/>\r\n",
       "<text text-anchor=\"start\" x=\"97.5\" y=\"-64.3\" font-family=\"Courier,monospace\" font-size=\"14.00\">*</text>\r\n",
       "</g>\r\n",
       "<!-- n0in1&#45;&gt;n2 -->\r\n",
       "<!-- R -->\r\n",
       "<g id=\"e1\" class=\"edge\">\r\n",
       "<title>n0in1:e&#45;&gt;n2:w</title>\r\n",
       "<path fill=\"none\" stroke=\"black\" d=\"M1,-96C40.3,-96 50.11,-81.35 86.88,-80.09\"/>\r\n",
       "<polygon fill=\"black\" stroke=\"black\" points=\"87.03,-81.83 92,-80 86.97,-78.33 87.03,-81.83\"/>\r\n",
       "<text text-anchor=\"middle\" x=\"42.07\" y=\"-76.78\" font-family=\"Courier,monospace\" font-size=\"14.00\">R</text>\r\n",
       "</g>\r\n",
       "<!-- n0in3 -->\r\n",
       "<!-- n0in2&#45;&gt;n0in3 -->\r\n",
       "<!-- n1 -->\r\n",
       "<!-- &#45; -->\r\n",
       "<g id=\"n1\" class=\"node\">\r\n",
       "<title>n1</title>\r\n",
       "<polygon fill=\"none\" stroke=\"black\" points=\"37.5,-18 37.5,-66 56.5,-66 56.5,-18 37.5,-18\"/>\r\n",
       "<text text-anchor=\"start\" x=\"42.5\" y=\"-38.3\" font-family=\"Courier,monospace\" font-size=\"14.00\">&#45;</text>\r\n",
       "</g>\r\n",
       "<!-- n0in2&#45;&gt;n1 -->\r\n",
       "<!-- R -->\r\n",
       "<g id=\"e3\" class=\"edge\">\r\n",
       "<title>n0in2:e&#45;&gt;n1:w</title>\r\n",
       "<path fill=\"none\" stroke=\"black\" d=\"M1,-54C15.12,-54 19.9,-54 31.83,-54\"/>\r\n",
       "<polygon fill=\"black\" stroke=\"black\" points=\"32,-55.75 37,-54 32,-52.25 32,-55.75\"/>\r\n",
       "<text text-anchor=\"middle\" x=\"14.4\" y=\"-42.8\" font-family=\"Courier,monospace\" font-size=\"14.00\">R</text>\r\n",
       "</g>\r\n",
       "<!-- n0in3&#45;&gt;n1 -->\r\n",
       "<!-- R -->\r\n",
       "<g id=\"e2\" class=\"edge\">\r\n",
       "<title>n0in3:e&#45;&gt;n1:w</title>\r\n",
       "<path fill=\"none\" stroke=\"black\" d=\"M1,-12C16.93,-12 18.85,-26.28 31.72,-29.4\"/>\r\n",
       "<polygon fill=\"black\" stroke=\"black\" points=\"31.83,-31.18 37,-30 32.23,-27.7 31.83,-31.18\"/>\r\n",
       "<text text-anchor=\"middle\" x=\"14.53\" y=\"-9.83\" font-family=\"Courier,monospace\" font-size=\"14.00\">R</text>\r\n",
       "</g>\r\n",
       "<!-- n0out1 -->\r\n",
       "<!-- n1&#45;&gt;n2 -->\r\n",
       "<!-- R -->\r\n",
       "<g id=\"e4\" class=\"edge\">\r\n",
       "<title>n1:e&#45;&gt;n2:w</title>\r\n",
       "<path fill=\"none\" stroke=\"black\" d=\"M56,-42C71.29,-42 74.28,-53.1 86.88,-55.53\"/>\r\n",
       "<polygon fill=\"black\" stroke=\"black\" points=\"86.86,-57.29 92,-56 87.18,-53.8 86.86,-57.29\"/>\r\n",
       "<text text-anchor=\"middle\" x=\"69.53\" y=\"-37.82\" font-family=\"Courier,monospace\" font-size=\"14.00\">R</text>\r\n",
       "</g>\r\n",
       "<!-- n2&#45;&gt;n0out1 -->\r\n",
       "<!-- R -->\r\n",
       "<g id=\"e5\" class=\"edge\">\r\n",
       "<title>n2:e&#45;&gt;n0out1:w</title>\r\n",
       "<path fill=\"none\" stroke=\"black\" d=\"M111,-68C125.12,-68 129.9,-68 141.83,-68\"/>\r\n",
       "<polygon fill=\"black\" stroke=\"black\" points=\"142,-69.75 147,-68 142,-66.25 142,-69.75\"/>\r\n",
       "<text text-anchor=\"middle\" x=\"124.4\" y=\"-56.8\" font-family=\"Courier,monospace\" font-size=\"14.00\">R</text>\r\n",
       "</g>\r\n",
       "</g>\r\n",
       "</svg>\r\n"
      ],
      "text/plain": [
       "Graph(\"G\", true, \"dot\", Statement[Subgraph(\"\", Statement[Node(\"n0in1\", OrderedCollections.OrderedDict{Symbol,Union{String, Catlab.Graphics.Graphviz.Html}}(:id => \"in1\")), Node(\"n0in2\", OrderedCollections.OrderedDict{Symbol,Union{String, Catlab.Graphics.Graphviz.Html}}(:id => \"in2\")), Node(\"n0in3\", OrderedCollections.OrderedDict{Symbol,Union{String, Catlab.Graphics.Graphviz.Html}}(:id => \"in3\")), Edge(NodeID[NodeID(\"n0in1\", \"\", \"\"), NodeID(\"n0in2\", \"\", \"\"), NodeID(\"n0in3\", \"\", \"\")], OrderedCollections.OrderedDict{Symbol,Union{String, Catlab.Graphics.Graphviz.Html}}())], OrderedCollections.OrderedDict{Symbol,Union{String, Catlab.Graphics.Graphviz.Html}}(:rank => \"source\",:rankdir => \"TB\"), OrderedCollections.OrderedDict{Symbol,Union{String, Catlab.Graphics.Graphviz.Html}}(:style => \"invis\",:shape => \"none\",:label => \"\",:width => \"0\",:height => \"0.333\"), OrderedCollections.OrderedDict{Symbol,Union{String, Catlab.Graphics.Graphviz.Html}}(:style => \"invis\")), Subgraph(\"\", Statement[Node(\"n0out1\", OrderedCollections.OrderedDict{Symbol,Union{String, Catlab.Graphics.Graphviz.Html}}(:id => \"out1\"))], OrderedCollections.OrderedDict{Symbol,Union{String, Catlab.Graphics.Graphviz.Html}}(:rank => \"sink\",:rankdir => \"TB\"), OrderedCollections.OrderedDict{Symbol,Union{String, Catlab.Graphics.Graphviz.Html}}(:style => \"invis\",:shape => \"none\",:label => \"\",:width => \"0\",:height => \"0.333\"), OrderedCollections.OrderedDict{Symbol,Union{String, Catlab.Graphics.Graphviz.Html}}(:style => \"invis\")), Node(\"n1\", OrderedCollections.OrderedDict{Symbol,Union{String, Catlab.Graphics.Graphviz.Html}}(:comment => \"-\",:id => \"n1\",:label => Catlab.Graphics.Graphviz.Html(\"<TABLE BORDER=\\\"0\\\" CELLPADDING=\\\"0\\\" CELLSPACING=\\\"0\\\">\\n<TR>\\n<TD><TABLE BORDER=\\\"0\\\" CELLPADDING=\\\"0\\\" CELLSPACING=\\\"0\\\"><TR><TD HEIGHT=\\\"24\\\" WIDTH=\\\"0\\\" PORT=\\\"in1\\\"></TD></TR><TR><TD HEIGHT=\\\"24\\\" WIDTH=\\\"0\\\" PORT=\\\"in2\\\"></TD></TR></TABLE></TD>\\n<TD BORDER=\\\"1\\\" CELLPADDING=\\\"4\\\">-</TD>\\n<TD><TABLE BORDER=\\\"0\\\" CELLPADDING=\\\"0\\\" CELLSPACING=\\\"0\\\"><TR><TD HEIGHT=\\\"24\\\" WIDTH=\\\"0\\\" PORT=\\\"out1\\\"></TD></TR></TABLE></TD>\\n</TR>\\n</TABLE>\"))), Node(\"n2\", OrderedCollections.OrderedDict{Symbol,Union{String, Catlab.Graphics.Graphviz.Html}}(:comment => \"*\",:id => \"n2\",:label => Catlab.Graphics.Graphviz.Html(\"<TABLE BORDER=\\\"0\\\" CELLPADDING=\\\"0\\\" CELLSPACING=\\\"0\\\">\\n<TR>\\n<TD><TABLE BORDER=\\\"0\\\" CELLPADDING=\\\"0\\\" CELLSPACING=\\\"0\\\"><TR><TD HEIGHT=\\\"24\\\" WIDTH=\\\"0\\\" PORT=\\\"in1\\\"></TD></TR><TR><TD HEIGHT=\\\"24\\\" WIDTH=\\\"0\\\" PORT=\\\"in2\\\"></TD></TR></TABLE></TD>\\n<TD BORDER=\\\"1\\\" CELLPADDING=\\\"4\\\">*</TD>\\n<TD><TABLE BORDER=\\\"0\\\" CELLPADDING=\\\"0\\\" CELLSPACING=\\\"0\\\"><TR><TD HEIGHT=\\\"24\\\" WIDTH=\\\"0\\\" PORT=\\\"out1\\\"></TD></TR></TABLE></TD>\\n</TR>\\n</TABLE>\"))), Edge(NodeID[NodeID(\"n0in1\", \"e\", \"\"), NodeID(\"n2\", \"in1\", \"w\")], OrderedCollections.OrderedDict{Symbol,Union{String, Catlab.Graphics.Graphviz.Html}}(:comment => \"R\",:id => \"e1\",:xlabel => \"R\")), Edge(NodeID[NodeID(\"n0in3\", \"e\", \"\"), NodeID(\"n1\", \"in2\", \"w\")], OrderedCollections.OrderedDict{Symbol,Union{String, Catlab.Graphics.Graphviz.Html}}(:comment => \"R\",:id => \"e2\",:xlabel => \"R\")), Edge(NodeID[NodeID(\"n0in2\", \"e\", \"\"), NodeID(\"n1\", \"in1\", \"w\")], OrderedCollections.OrderedDict{Symbol,Union{String, Catlab.Graphics.Graphviz.Html}}(:comment => \"R\",:id => \"e3\",:xlabel => \"R\")), Edge(NodeID[NodeID(\"n1\", \"out1\", \"e\"), NodeID(\"n2\", \"in2\", \"w\")], OrderedCollections.OrderedDict{Symbol,Union{String, Catlab.Graphics.Graphviz.Html}}(:comment => \"R\",:id => \"e4\",:xlabel => \"R\")), Edge(NodeID[NodeID(\"n2\", \"out1\", \"e\"), NodeID(\"n0out1\", \"w\", \"\")], OrderedCollections.OrderedDict{Symbol,Union{String, Catlab.Graphics.Graphviz.Html}}(:comment => \"R\",:id => \"e5\",:xlabel => \"R\"))], OrderedCollections.OrderedDict{Symbol,Union{String, Catlab.Graphics.Graphviz.Html}}(:fontname => \"Serif\",:rankdir => \"LR\"), OrderedCollections.OrderedDict{Symbol,Union{String, Catlab.Graphics.Graphviz.Html}}(:fontname => \"Courier\",:shape => \"none\",:width => \"0\",:height => \"0\",:margin => \"0\"), OrderedCollections.OrderedDict{Symbol,Union{String, Catlab.Graphics.Graphviz.Html}}(:arrowsize => \"0.5\",:fontname => \"Courier\"))"
      ]
     },
     "execution_count": 14,
     "metadata": {},
     "output_type": "execute_result"
    }
   ],
   "source": [
    "# Input stage of system:  \n",
    "\n",
    "# Real number object\n",
    "gen_r = gen_lin(:R)\n",
    "\n",
    "# Create function that returns input\n",
    "id_r = id( gen_lin(:R) )                # Identity \n",
    "\n",
    "# Join operations\n",
    "fig1 = compose( otimes(id_r, gen_sub),  # Create 2 outputs \n",
    "                gen_mul );              # Receive 2 inputs\n",
    "\n",
    "show_diagram( to_wiring_diagram(fig1) )"
   ]
  },
  {
   "cell_type": "code",
   "execution_count": 15,
   "id": "adequate-evaluation",
   "metadata": {},
   "outputs": [
    {
     "data": {
      "image/svg+xml": [
       "<?xml version=\"1.0\" encoding=\"UTF-8\" standalone=\"no\"?>\r\n",
       "<!DOCTYPE svg PUBLIC \"-//W3C//DTD SVG 1.1//EN\"\r\n",
       " \"http://www.w3.org/Graphics/SVG/1.1/DTD/svg11.dtd\">\r\n",
       "<!-- Generated by graphviz version 2.47.0 (20210316.0004)\r\n",
       " -->\r\n",
       "<!-- Title: G Pages: 1 -->\r\n",
       "<svg width=\"101pt\" height=\"91pt\"\r\n",
       " viewBox=\"0.00 0.00 101.00 91.00\" xmlns=\"http://www.w3.org/2000/svg\" xmlns:xlink=\"http://www.w3.org/1999/xlink\">\r\n",
       "<g id=\"graph0\" class=\"graph\" transform=\"scale(1 1) rotate(0) translate(4 87)\">\r\n",
       "<title>G</title>\r\n",
       "<polygon fill=\"white\" stroke=\"transparent\" points=\"-4,4 -4,-87 97,-87 97,4 -4,4\"/>\r\n",
       "<!-- n0in1 -->\r\n",
       "<!-- n0in2 -->\r\n",
       "<!-- n0in1&#45;&gt;n0in2 -->\r\n",
       "<!-- n1 -->\r\n",
       "<!-- * -->\r\n",
       "<g id=\"n1\" class=\"node\">\r\n",
       "<title>n1</title>\r\n",
       "<polygon fill=\"none\" stroke=\"black\" points=\"37.5,-35 37.5,-83 56.5,-83 56.5,-35 37.5,-35\"/>\r\n",
       "<text text-anchor=\"start\" x=\"42.5\" y=\"-55.3\" font-family=\"Courier,monospace\" font-size=\"14.00\">*</text>\r\n",
       "</g>\r\n",
       "<!-- n0in1&#45;&gt;n1 -->\r\n",
       "<!-- R -->\r\n",
       "<g id=\"e2\" class=\"edge\">\r\n",
       "<title>n0in1:e&#45;&gt;n1:w</title>\r\n",
       "<path fill=\"none\" stroke=\"black\" d=\"M1,-71C15.12,-71 19.9,-71 31.83,-71\"/>\r\n",
       "<polygon fill=\"black\" stroke=\"black\" points=\"32,-72.75 37,-71 32,-69.25 32,-72.75\"/>\r\n",
       "<text text-anchor=\"middle\" x=\"14.4\" y=\"-59.8\" font-family=\"Courier,monospace\" font-size=\"14.00\">R</text>\r\n",
       "</g>\r\n",
       "<!-- n0out2 -->\r\n",
       "<!-- n0in2&#45;&gt;n0out2 -->\r\n",
       "<!-- R -->\r\n",
       "<g id=\"e1\" class=\"edge\">\r\n",
       "<title>n0in2:e&#45;&gt;n0out2:w</title>\r\n",
       "<path fill=\"none\" stroke=\"black\" d=\"M1,-29C40.38,-29 50.05,-13.43 86.87,-12.09\"/>\r\n",
       "<polygon fill=\"black\" stroke=\"black\" points=\"87.03,-13.84 92,-12 86.97,-10.34 87.03,-13.84\"/>\r\n",
       "<text text-anchor=\"middle\" x=\"42.07\" y=\"-9.28\" font-family=\"Courier,monospace\" font-size=\"14.00\">R</text>\r\n",
       "</g>\r\n",
       "<!-- n0in2&#45;&gt;n1 -->\r\n",
       "<!-- R -->\r\n",
       "<g id=\"e3\" class=\"edge\">\r\n",
       "<title>n0in2:e&#45;&gt;n1:w</title>\r\n",
       "<path fill=\"none\" stroke=\"black\" d=\"M1,-29C16.93,-29 18.85,-43.28 31.72,-46.4\"/>\r\n",
       "<polygon fill=\"black\" stroke=\"black\" points=\"31.83,-48.18 37,-47 32.23,-44.7 31.83,-48.18\"/>\r\n",
       "<text text-anchor=\"middle\" x=\"14.53\" y=\"-26.83\" font-family=\"Courier,monospace\" font-size=\"14.00\">R</text>\r\n",
       "</g>\r\n",
       "<!-- n0out1 -->\r\n",
       "<!-- n0out1&#45;&gt;n0out2 -->\r\n",
       "<!-- n1&#45;&gt;n0out1 -->\r\n",
       "<!-- R -->\r\n",
       "<g id=\"e4\" class=\"edge\">\r\n",
       "<title>n1:e&#45;&gt;n0out1:w</title>\r\n",
       "<path fill=\"none\" stroke=\"black\" d=\"M56,-59C70.17,-59 74.87,-56.66 86.82,-56.11\"/>\r\n",
       "<polygon fill=\"black\" stroke=\"black\" points=\"87.04,-57.86 92,-56 86.96,-54.36 87.04,-57.86\"/>\r\n",
       "<text text-anchor=\"middle\" x=\"69.4\" y=\"-46.32\" font-family=\"Courier,monospace\" font-size=\"14.00\">R</text>\r\n",
       "</g>\r\n",
       "</g>\r\n",
       "</svg>\r\n"
      ],
      "text/plain": [
       "Graph(\"G\", true, \"dot\", Statement[Subgraph(\"\", Statement[Node(\"n0in1\", OrderedCollections.OrderedDict{Symbol,Union{String, Catlab.Graphics.Graphviz.Html}}(:id => \"in1\")), Node(\"n0in2\", OrderedCollections.OrderedDict{Symbol,Union{String, Catlab.Graphics.Graphviz.Html}}(:id => \"in2\")), Edge(NodeID[NodeID(\"n0in1\", \"\", \"\"), NodeID(\"n0in2\", \"\", \"\")], OrderedCollections.OrderedDict{Symbol,Union{String, Catlab.Graphics.Graphviz.Html}}())], OrderedCollections.OrderedDict{Symbol,Union{String, Catlab.Graphics.Graphviz.Html}}(:rank => \"source\",:rankdir => \"TB\"), OrderedCollections.OrderedDict{Symbol,Union{String, Catlab.Graphics.Graphviz.Html}}(:style => \"invis\",:shape => \"none\",:label => \"\",:width => \"0\",:height => \"0.333\"), OrderedCollections.OrderedDict{Symbol,Union{String, Catlab.Graphics.Graphviz.Html}}(:style => \"invis\")), Subgraph(\"\", Statement[Node(\"n0out1\", OrderedCollections.OrderedDict{Symbol,Union{String, Catlab.Graphics.Graphviz.Html}}(:id => \"out1\")), Node(\"n0out2\", OrderedCollections.OrderedDict{Symbol,Union{String, Catlab.Graphics.Graphviz.Html}}(:id => \"out2\")), Edge(NodeID[NodeID(\"n0out1\", \"\", \"\"), NodeID(\"n0out2\", \"\", \"\")], OrderedCollections.OrderedDict{Symbol,Union{String, Catlab.Graphics.Graphviz.Html}}())], OrderedCollections.OrderedDict{Symbol,Union{String, Catlab.Graphics.Graphviz.Html}}(:rank => \"sink\",:rankdir => \"TB\"), OrderedCollections.OrderedDict{Symbol,Union{String, Catlab.Graphics.Graphviz.Html}}(:style => \"invis\",:shape => \"none\",:label => \"\",:width => \"0\",:height => \"0.333\"), OrderedCollections.OrderedDict{Symbol,Union{String, Catlab.Graphics.Graphviz.Html}}(:style => \"invis\")), Node(\"n1\", OrderedCollections.OrderedDict{Symbol,Union{String, Catlab.Graphics.Graphviz.Html}}(:comment => \"*\",:id => \"n1\",:label => Catlab.Graphics.Graphviz.Html(\"<TABLE BORDER=\\\"0\\\" CELLPADDING=\\\"0\\\" CELLSPACING=\\\"0\\\">\\n<TR>\\n<TD><TABLE BORDER=\\\"0\\\" CELLPADDING=\\\"0\\\" CELLSPACING=\\\"0\\\"><TR><TD HEIGHT=\\\"24\\\" WIDTH=\\\"0\\\" PORT=\\\"in1\\\"></TD></TR><TR><TD HEIGHT=\\\"24\\\" WIDTH=\\\"0\\\" PORT=\\\"in2\\\"></TD></TR></TABLE></TD>\\n<TD BORDER=\\\"1\\\" CELLPADDING=\\\"4\\\">*</TD>\\n<TD><TABLE BORDER=\\\"0\\\" CELLPADDING=\\\"0\\\" CELLSPACING=\\\"0\\\"><TR><TD HEIGHT=\\\"24\\\" WIDTH=\\\"0\\\" PORT=\\\"out1\\\"></TD></TR></TABLE></TD>\\n</TR>\\n</TABLE>\"))), Edge(NodeID[NodeID(\"n0in2\", \"e\", \"\"), NodeID(\"n0out2\", \"w\", \"\")], OrderedCollections.OrderedDict{Symbol,Union{String, Catlab.Graphics.Graphviz.Html}}(:comment => \"R\",:id => \"e1\",:xlabel => \"R\")), Edge(NodeID[NodeID(\"n0in1\", \"e\", \"\"), NodeID(\"n1\", \"in1\", \"w\")], OrderedCollections.OrderedDict{Symbol,Union{String, Catlab.Graphics.Graphviz.Html}}(:comment => \"R\",:id => \"e2\",:xlabel => \"R\")), Edge(NodeID[NodeID(\"n0in2\", \"e\", \"\"), NodeID(\"n1\", \"in2\", \"w\")], OrderedCollections.OrderedDict{Symbol,Union{String, Catlab.Graphics.Graphviz.Html}}(:comment => \"R\",:id => \"e3\",:xlabel => \"R\")), Edge(NodeID[NodeID(\"n1\", \"out1\", \"e\"), NodeID(\"n0out1\", \"w\", \"\")], OrderedCollections.OrderedDict{Symbol,Union{String, Catlab.Graphics.Graphviz.Html}}(:comment => \"R\",:id => \"e4\",:xlabel => \"R\"))], OrderedCollections.OrderedDict{Symbol,Union{String, Catlab.Graphics.Graphviz.Html}}(:fontname => \"Serif\",:rankdir => \"LR\"), OrderedCollections.OrderedDict{Symbol,Union{String, Catlab.Graphics.Graphviz.Html}}(:fontname => \"Courier\",:shape => \"none\",:width => \"0\",:height => \"0\",:margin => \"0\"), OrderedCollections.OrderedDict{Symbol,Union{String, Catlab.Graphics.Graphviz.Html}}(:arrowsize => \"0.5\",:fontname => \"Courier\"))"
      ]
     },
     "execution_count": 15,
     "metadata": {},
     "output_type": "execute_result"
    }
   ],
   "source": [
    "# Output section of system:\n",
    "\n",
    "# Note: The order in which blocks are joined (in otimes) dictates the output format. \n",
    "#       The output format MUST match the input format. N_inputs = N_outputs\n",
    "\n",
    "# Subsections of diagram\n",
    "fig2a = otimes( id_r, mcopy(gen_r) );    # 3 outputs: 1 raw output, 2 equal outputs\n",
    "fig2b = otimes( gen_mul, id_r );         # 3 inputs: 2 from multiply, 1 raw value\n",
    "fig2 = compose( fig2a, fig2b )           # Join subsections\n",
    "\n",
    "show_diagram( to_wiring_diagram(fig2) )"
   ]
  },
  {
   "cell_type": "code",
   "execution_count": 16,
   "id": "given-judgment",
   "metadata": {},
   "outputs": [
    {
     "data": {
      "image/svg+xml": [
       "<?xml version=\"1.0\" encoding=\"UTF-8\" standalone=\"no\"?>\r\n",
       "<!DOCTYPE svg PUBLIC \"-//W3C//DTD SVG 1.1//EN\"\r\n",
       " \"http://www.w3.org/Graphics/SVG/1.1/DTD/svg11.dtd\">\r\n",
       "<!-- Generated by graphviz version 2.47.0 (20210316.0004)\r\n",
       " -->\r\n",
       "<!-- Title: G Pages: 1 -->\r\n",
       "<svg width=\"211pt\" height=\"158pt\"\r\n",
       " viewBox=\"0.00 0.00 211.00 158.00\" xmlns=\"http://www.w3.org/2000/svg\" xmlns:xlink=\"http://www.w3.org/1999/xlink\">\r\n",
       "<g id=\"graph0\" class=\"graph\" transform=\"scale(1 1) rotate(0) translate(4 154)\">\r\n",
       "<title>G</title>\r\n",
       "<polygon fill=\"white\" stroke=\"transparent\" points=\"-4,4 -4,-154 207,-154 207,4 -4,4\"/>\r\n",
       "<!-- n0in1 -->\r\n",
       "<!-- n0in2 -->\r\n",
       "<!-- n0in1&#45;&gt;n0in2 -->\r\n",
       "<!-- n3 -->\r\n",
       "<!-- * -->\r\n",
       "<g id=\"n3\" class=\"node\">\r\n",
       "<title>n3</title>\r\n",
       "<polygon fill=\"none\" stroke=\"black\" points=\"147.5,-102 147.5,-150 166.5,-150 166.5,-102 147.5,-102\"/>\r\n",
       "<text text-anchor=\"start\" x=\"152.5\" y=\"-122.3\" font-family=\"Courier,monospace\" font-size=\"14.00\">*</text>\r\n",
       "</g>\r\n",
       "<!-- n0in1&#45;&gt;n3 -->\r\n",
       "<!-- R -->\r\n",
       "<g id=\"e1\" class=\"edge\">\r\n",
       "<title>n0in1:e&#45;&gt;n3:w</title>\r\n",
       "<path fill=\"none\" stroke=\"black\" d=\"M1,-138C64.11,-138 81.19,-138 141.78,-138\"/>\r\n",
       "<polygon fill=\"black\" stroke=\"black\" points=\"142,-139.75 147,-138 142,-136.25 142,-139.75\"/>\r\n",
       "<text text-anchor=\"middle\" x=\"69.22\" y=\"-126.8\" font-family=\"Courier,monospace\" font-size=\"14.00\">R</text>\r\n",
       "</g>\r\n",
       "<!-- n0in3 -->\r\n",
       "<!-- n0in2&#45;&gt;n0in3 -->\r\n",
       "<!-- n2 -->\r\n",
       "<!-- * -->\r\n",
       "<g id=\"n2\" class=\"node\">\r\n",
       "<title>n2</title>\r\n",
       "<polygon fill=\"none\" stroke=\"black\" points=\"92.5,-54 92.5,-102 111.5,-102 111.5,-54 92.5,-54\"/>\r\n",
       "<text text-anchor=\"start\" x=\"97.5\" y=\"-74.3\" font-family=\"Courier,monospace\" font-size=\"14.00\">*</text>\r\n",
       "</g>\r\n",
       "<!-- n0in2&#45;&gt;n2 -->\r\n",
       "<!-- R -->\r\n",
       "<g id=\"e2\" class=\"edge\">\r\n",
       "<title>n0in2:e&#45;&gt;n2:w</title>\r\n",
       "<path fill=\"none\" stroke=\"black\" d=\"M1,-96C39.79,-96 50.56,-90.5 86.94,-90.03\"/>\r\n",
       "<polygon fill=\"black\" stroke=\"black\" points=\"87.01,-91.78 92,-90 86.99,-88.28 87.01,-91.78\"/>\r\n",
       "<text text-anchor=\"middle\" x=\"42.07\" y=\"-81.79\" font-family=\"Courier,monospace\" font-size=\"14.00\">R</text>\r\n",
       "</g>\r\n",
       "<!-- n0in4 -->\r\n",
       "<!-- n0in3&#45;&gt;n0in4 -->\r\n",
       "<!-- n1 -->\r\n",
       "<!-- &#45; -->\r\n",
       "<g id=\"n1\" class=\"node\">\r\n",
       "<title>n1</title>\r\n",
       "<polygon fill=\"none\" stroke=\"black\" points=\"37.5,-18 37.5,-66 56.5,-66 56.5,-18 37.5,-18\"/>\r\n",
       "<text text-anchor=\"start\" x=\"42.5\" y=\"-38.3\" font-family=\"Courier,monospace\" font-size=\"14.00\">&#45;</text>\r\n",
       "</g>\r\n",
       "<!-- n0in3&#45;&gt;n1 -->\r\n",
       "<!-- R -->\r\n",
       "<g id=\"e4\" class=\"edge\">\r\n",
       "<title>n0in3:e&#45;&gt;n1:w</title>\r\n",
       "<path fill=\"none\" stroke=\"black\" d=\"M1,-54C15.12,-54 19.9,-54 31.83,-54\"/>\r\n",
       "<polygon fill=\"black\" stroke=\"black\" points=\"32,-55.75 37,-54 32,-52.25 32,-55.75\"/>\r\n",
       "<text text-anchor=\"middle\" x=\"14.4\" y=\"-42.8\" font-family=\"Courier,monospace\" font-size=\"14.00\">R</text>\r\n",
       "</g>\r\n",
       "<!-- n0in4&#45;&gt;n1 -->\r\n",
       "<!-- R -->\r\n",
       "<g id=\"e3\" class=\"edge\">\r\n",
       "<title>n0in4:e&#45;&gt;n1:w</title>\r\n",
       "<path fill=\"none\" stroke=\"black\" d=\"M1,-12C16.93,-12 18.85,-26.28 31.72,-29.4\"/>\r\n",
       "<polygon fill=\"black\" stroke=\"black\" points=\"31.83,-31.18 37,-30 32.23,-27.7 31.83,-31.18\"/>\r\n",
       "<text text-anchor=\"middle\" x=\"14.53\" y=\"-9.83\" font-family=\"Courier,monospace\" font-size=\"14.00\">R</text>\r\n",
       "</g>\r\n",
       "<!-- n0out1 -->\r\n",
       "<!-- n0out2 -->\r\n",
       "<!-- n0out1&#45;&gt;n0out2 -->\r\n",
       "<!-- n1&#45;&gt;n2 -->\r\n",
       "<!-- R -->\r\n",
       "<g id=\"e6\" class=\"edge\">\r\n",
       "<title>n1:e&#45;&gt;n2:w</title>\r\n",
       "<path fill=\"none\" stroke=\"black\" d=\"M56,-42C73.28,-42 73.05,-61.37 86.77,-65.31\"/>\r\n",
       "<polygon fill=\"black\" stroke=\"black\" points=\"86.81,-67.08 92,-66 87.27,-63.61 86.81,-67.08\"/>\r\n",
       "<text text-anchor=\"middle\" x=\"69.28\" y=\"-42.49\" font-family=\"Courier,monospace\" font-size=\"14.00\">R</text>\r\n",
       "</g>\r\n",
       "<!-- n2&#45;&gt;n0out2 -->\r\n",
       "<!-- R -->\r\n",
       "<g id=\"e8\" class=\"edge\">\r\n",
       "<title>n2:e&#45;&gt;n0out2:w</title>\r\n",
       "<path fill=\"none\" stroke=\"black\" d=\"M111,-78C149.71,-78 160.63,-78.92 196.95,-78.99\"/>\r\n",
       "<polygon fill=\"black\" stroke=\"black\" points=\"197,-80.74 202,-79 197,-77.24 197,-80.74\"/>\r\n",
       "<text text-anchor=\"middle\" x=\"152.07\" y=\"-67.3\" font-family=\"Courier,monospace\" font-size=\"14.00\">R</text>\r\n",
       "</g>\r\n",
       "<!-- n2&#45;&gt;n3 -->\r\n",
       "<!-- R -->\r\n",
       "<g id=\"e5\" class=\"edge\">\r\n",
       "<title>n2:e&#45;&gt;n3:w</title>\r\n",
       "<path fill=\"none\" stroke=\"black\" d=\"M111,-78C131.68,-78 125.73,-108.08 141.83,-113.25\"/>\r\n",
       "<polygon fill=\"black\" stroke=\"black\" points=\"141.8,-115.01 147,-114 142.3,-111.55 141.8,-115.01\"/>\r\n",
       "<text text-anchor=\"middle\" x=\"124.5\" y=\"-84.79\" font-family=\"Courier,monospace\" font-size=\"14.00\">R</text>\r\n",
       "</g>\r\n",
       "<!-- n3&#45;&gt;n0out1 -->\r\n",
       "<!-- R -->\r\n",
       "<g id=\"e7\" class=\"edge\">\r\n",
       "<title>n3:e&#45;&gt;n0out1:w</title>\r\n",
       "<path fill=\"none\" stroke=\"black\" d=\"M166,-126C180.17,-126 184.87,-123.66 196.82,-123.11\"/>\r\n",
       "<polygon fill=\"black\" stroke=\"black\" points=\"197.04,-124.86 202,-123 196.96,-121.36 197.04,-124.86\"/>\r\n",
       "<text text-anchor=\"middle\" x=\"179.4\" y=\"-113.32\" font-family=\"Courier,monospace\" font-size=\"14.00\">R</text>\r\n",
       "</g>\r\n",
       "</g>\r\n",
       "</svg>\r\n"
      ],
      "text/plain": [
       "Graph(\"G\", true, \"dot\", Statement[Subgraph(\"\", Statement[Node(\"n0in1\", OrderedCollections.OrderedDict{Symbol,Union{String, Catlab.Graphics.Graphviz.Html}}(:id => \"in1\")), Node(\"n0in2\", OrderedCollections.OrderedDict{Symbol,Union{String, Catlab.Graphics.Graphviz.Html}}(:id => \"in2\")), Node(\"n0in3\", OrderedCollections.OrderedDict{Symbol,Union{String, Catlab.Graphics.Graphviz.Html}}(:id => \"in3\")), Node(\"n0in4\", OrderedCollections.OrderedDict{Symbol,Union{String, Catlab.Graphics.Graphviz.Html}}(:id => \"in4\")), Edge(NodeID[NodeID(\"n0in1\", \"\", \"\"), NodeID(\"n0in2\", \"\", \"\"), NodeID(\"n0in3\", \"\", \"\"), NodeID(\"n0in4\", \"\", \"\")], OrderedCollections.OrderedDict{Symbol,Union{String, Catlab.Graphics.Graphviz.Html}}())], OrderedCollections.OrderedDict{Symbol,Union{String, Catlab.Graphics.Graphviz.Html}}(:rank => \"source\",:rankdir => \"TB\"), OrderedCollections.OrderedDict{Symbol,Union{String, Catlab.Graphics.Graphviz.Html}}(:style => \"invis\",:shape => \"none\",:label => \"\",:width => \"0\",:height => \"0.333\"), OrderedCollections.OrderedDict{Symbol,Union{String, Catlab.Graphics.Graphviz.Html}}(:style => \"invis\")), Subgraph(\"\", Statement[Node(\"n0out1\", OrderedCollections.OrderedDict{Symbol,Union{String, Catlab.Graphics.Graphviz.Html}}(:id => \"out1\")), Node(\"n0out2\", OrderedCollections.OrderedDict{Symbol,Union{String, Catlab.Graphics.Graphviz.Html}}(:id => \"out2\")), Edge(NodeID[NodeID(\"n0out1\", \"\", \"\"), NodeID(\"n0out2\", \"\", \"\")], OrderedCollections.OrderedDict{Symbol,Union{String, Catlab.Graphics.Graphviz.Html}}())], OrderedCollections.OrderedDict{Symbol,Union{String, Catlab.Graphics.Graphviz.Html}}(:rank => \"sink\",:rankdir => \"TB\"), OrderedCollections.OrderedDict{Symbol,Union{String, Catlab.Graphics.Graphviz.Html}}(:style => \"invis\",:shape => \"none\",:label => \"\",:width => \"0\",:height => \"0.333\"), OrderedCollections.OrderedDict{Symbol,Union{String, Catlab.Graphics.Graphviz.Html}}(:style => \"invis\")), Node(\"n1\", OrderedCollections.OrderedDict{Symbol,Union{String, Catlab.Graphics.Graphviz.Html}}(:comment => \"-\",:id => \"n1\",:label => Catlab.Graphics.Graphviz.Html(\"<TABLE BORDER=\\\"0\\\" CELLPADDING=\\\"0\\\" CELLSPACING=\\\"0\\\">\\n<TR>\\n<TD><TABLE BORDER=\\\"0\\\" CELLPADDING=\\\"0\\\" CELLSPACING=\\\"0\\\"><TR><TD HEIGHT=\\\"24\\\" WIDTH=\\\"0\\\" PORT=\\\"in1\\\"></TD></TR><TR><TD HEIGHT=\\\"24\\\" WIDTH=\\\"0\\\" PORT=\\\"in2\\\"></TD></TR></TABLE></TD>\\n<TD BORDER=\\\"1\\\" CELLPADDING=\\\"4\\\">-</TD>\\n<TD><TABLE BORDER=\\\"0\\\" CELLPADDING=\\\"0\\\" CELLSPACING=\\\"0\\\"><TR><TD HEIGHT=\\\"24\\\" WIDTH=\\\"0\\\" PORT=\\\"out1\\\"></TD></TR></TABLE></TD>\\n</TR>\\n</TABLE>\"))), Node(\"n2\", OrderedCollections.OrderedDict{Symbol,Union{String, Catlab.Graphics.Graphviz.Html}}(:comment => \"*\",:id => \"n2\",:label => Catlab.Graphics.Graphviz.Html(\"<TABLE BORDER=\\\"0\\\" CELLPADDING=\\\"0\\\" CELLSPACING=\\\"0\\\">\\n<TR>\\n<TD><TABLE BORDER=\\\"0\\\" CELLPADDING=\\\"0\\\" CELLSPACING=\\\"0\\\"><TR><TD HEIGHT=\\\"24\\\" WIDTH=\\\"0\\\" PORT=\\\"in1\\\"></TD></TR><TR><TD HEIGHT=\\\"24\\\" WIDTH=\\\"0\\\" PORT=\\\"in2\\\"></TD></TR></TABLE></TD>\\n<TD BORDER=\\\"1\\\" CELLPADDING=\\\"4\\\">*</TD>\\n<TD><TABLE BORDER=\\\"0\\\" CELLPADDING=\\\"0\\\" CELLSPACING=\\\"0\\\"><TR><TD HEIGHT=\\\"24\\\" WIDTH=\\\"0\\\" PORT=\\\"out1\\\"></TD></TR></TABLE></TD>\\n</TR>\\n</TABLE>\"))), Node(\"n3\", OrderedCollections.OrderedDict{Symbol,Union{String, Catlab.Graphics.Graphviz.Html}}(:comment => \"*\",:id => \"n3\",:label => Catlab.Graphics.Graphviz.Html(\"<TABLE BORDER=\\\"0\\\" CELLPADDING=\\\"0\\\" CELLSPACING=\\\"0\\\">\\n<TR>\\n<TD><TABLE BORDER=\\\"0\\\" CELLPADDING=\\\"0\\\" CELLSPACING=\\\"0\\\"><TR><TD HEIGHT=\\\"24\\\" WIDTH=\\\"0\\\" PORT=\\\"in1\\\"></TD></TR><TR><TD HEIGHT=\\\"24\\\" WIDTH=\\\"0\\\" PORT=\\\"in2\\\"></TD></TR></TABLE></TD>\\n<TD BORDER=\\\"1\\\" CELLPADDING=\\\"4\\\">*</TD>\\n<TD><TABLE BORDER=\\\"0\\\" CELLPADDING=\\\"0\\\" CELLSPACING=\\\"0\\\"><TR><TD HEIGHT=\\\"24\\\" WIDTH=\\\"0\\\" PORT=\\\"out1\\\"></TD></TR></TABLE></TD>\\n</TR>\\n</TABLE>\"))), Edge(NodeID[NodeID(\"n0in1\", \"e\", \"\"), NodeID(\"n3\", \"in1\", \"w\")], OrderedCollections.OrderedDict{Symbol,Union{String, Catlab.Graphics.Graphviz.Html}}(:comment => \"R\",:id => \"e1\",:xlabel => \"R\")), Edge(NodeID[NodeID(\"n0in2\", \"e\", \"\"), NodeID(\"n2\", \"in1\", \"w\")], OrderedCollections.OrderedDict{Symbol,Union{String, Catlab.Graphics.Graphviz.Html}}(:comment => \"R\",:id => \"e2\",:xlabel => \"R\")), Edge(NodeID[NodeID(\"n0in4\", \"e\", \"\"), NodeID(\"n1\", \"in2\", \"w\")], OrderedCollections.OrderedDict{Symbol,Union{String, Catlab.Graphics.Graphviz.Html}}(:comment => \"R\",:id => \"e3\",:xlabel => \"R\")), Edge(NodeID[NodeID(\"n0in3\", \"e\", \"\"), NodeID(\"n1\", \"in1\", \"w\")], OrderedCollections.OrderedDict{Symbol,Union{String, Catlab.Graphics.Graphviz.Html}}(:comment => \"R\",:id => \"e4\",:xlabel => \"R\")), Edge(NodeID[NodeID(\"n2\", \"out1\", \"e\"), NodeID(\"n3\", \"in2\", \"w\")], OrderedCollections.OrderedDict{Symbol,Union{String, Catlab.Graphics.Graphviz.Html}}(:comment => \"R\",:id => \"e5\",:xlabel => \"R\")), Edge(NodeID[NodeID(\"n1\", \"out1\", \"e\"), NodeID(\"n2\", \"in2\", \"w\")], OrderedCollections.OrderedDict{Symbol,Union{String, Catlab.Graphics.Graphviz.Html}}(:comment => \"R\",:id => \"e6\",:xlabel => \"R\")), Edge(NodeID[NodeID(\"n3\", \"out1\", \"e\"), NodeID(\"n0out1\", \"w\", \"\")], OrderedCollections.OrderedDict{Symbol,Union{String, Catlab.Graphics.Graphviz.Html}}(:comment => \"R\",:id => \"e7\",:xlabel => \"R\")), Edge(NodeID[NodeID(\"n2\", \"out1\", \"e\"), NodeID(\"n0out2\", \"w\", \"\")], OrderedCollections.OrderedDict{Symbol,Union{String, Catlab.Graphics.Graphviz.Html}}(:comment => \"R\",:id => \"e8\",:xlabel => \"R\"))], OrderedCollections.OrderedDict{Symbol,Union{String, Catlab.Graphics.Graphviz.Html}}(:fontname => \"Serif\",:rankdir => \"LR\"), OrderedCollections.OrderedDict{Symbol,Union{String, Catlab.Graphics.Graphviz.Html}}(:fontname => \"Courier\",:shape => \"none\",:width => \"0\",:height => \"0\",:margin => \"0\"), OrderedCollections.OrderedDict{Symbol,Union{String, Catlab.Graphics.Graphviz.Html}}(:arrowsize => \"0.5\",:fontname => \"Courier\"))"
      ]
     },
     "execution_count": 16,
     "metadata": {},
     "output_type": "execute_result"
    }
   ],
   "source": [
    "# Combine input section of diagram with input section:\n",
    "\n",
    "fig3a = otimes( id_r, fig1 )        # 2 Outputs: 1 raw value, 1 output of input section \n",
    "fig3 = compose( fig3a, fig2 )       # 2 Inputs: Inputs from output section\n",
    "\n",
    "show_diagram( to_wiring_diagram(fig3) )"
   ]
  },
  {
   "cell_type": "code",
   "execution_count": 17,
   "id": "listed-stranger",
   "metadata": {},
   "outputs": [
    {
     "data": {
      "image/svg+xml": [
       "<?xml version=\"1.0\" encoding=\"UTF-8\" standalone=\"no\"?>\r\n",
       "<!DOCTYPE svg PUBLIC \"-//W3C//DTD SVG 1.1//EN\"\r\n",
       " \"http://www.w3.org/Graphics/SVG/1.1/DTD/svg11.dtd\">\r\n",
       "<!-- Generated by graphviz version 2.47.0 (20210316.0004)\r\n",
       " -->\r\n",
       "<!-- Title: G Pages: 1 -->\r\n",
       "<svg width=\"376pt\" height=\"242pt\"\r\n",
       " viewBox=\"0.00 0.00 376.00 242.00\" xmlns=\"http://www.w3.org/2000/svg\" xmlns:xlink=\"http://www.w3.org/1999/xlink\">\r\n",
       "<g id=\"graph0\" class=\"graph\" transform=\"scale(1 1) rotate(0) translate(4 238)\">\r\n",
       "<title>G</title>\r\n",
       "<polygon fill=\"white\" stroke=\"transparent\" points=\"-4,4 -4,-238 372,-238 372,4 -4,4\"/>\r\n",
       "<!-- n0in1 -->\r\n",
       "<!-- n0in2 -->\r\n",
       "<!-- n0in1&#45;&gt;n0in2 -->\r\n",
       "<!-- n6 -->\r\n",
       "<!-- * -->\r\n",
       "<g id=\"n6\" class=\"node\">\r\n",
       "<title>n6</title>\r\n",
       "<polygon fill=\"none\" stroke=\"black\" points=\"312.5,-186 312.5,-234 331.5,-234 331.5,-186 312.5,-186\"/>\r\n",
       "<text text-anchor=\"start\" x=\"317.5\" y=\"-206.3\" font-family=\"Courier,monospace\" font-size=\"14.00\">*</text>\r\n",
       "</g>\r\n",
       "<!-- n0in1&#45;&gt;n6 -->\r\n",
       "<!-- R -->\r\n",
       "<g id=\"e1\" class=\"edge\">\r\n",
       "<title>n0in1:e&#45;&gt;n6:w</title>\r\n",
       "<path fill=\"none\" stroke=\"black\" d=\"M1,-222C45.22,-222 56.28,-222 100.5,-222 100.5,-222 100.5,-222 212.5,-222 254.99,-222 266.86,-222 306.97,-222\"/>\r\n",
       "<polygon fill=\"black\" stroke=\"black\" points=\"307,-223.75 312,-222 307,-220.25 307,-223.75\"/>\r\n",
       "<text text-anchor=\"middle\" x=\"110\" y=\"-210.8\" font-family=\"Courier,monospace\" font-size=\"14.00\">R</text>\r\n",
       "</g>\r\n",
       "<!-- n0in3 -->\r\n",
       "<!-- n0in2&#45;&gt;n0in3 -->\r\n",
       "<!-- n5 -->\r\n",
       "<!-- * -->\r\n",
       "<g id=\"n5\" class=\"node\">\r\n",
       "<title>n5</title>\r\n",
       "<polygon fill=\"none\" stroke=\"black\" points=\"257.5,-138 257.5,-186 276.5,-186 276.5,-138 257.5,-138\"/>\r\n",
       "<text text-anchor=\"start\" x=\"262.5\" y=\"-158.3\" font-family=\"Courier,monospace\" font-size=\"14.00\">*</text>\r\n",
       "</g>\r\n",
       "<!-- n0in2&#45;&gt;n5 -->\r\n",
       "<!-- R -->\r\n",
       "<g id=\"e6\" class=\"edge\">\r\n",
       "<title>n0in2:e&#45;&gt;n5:w</title>\r\n",
       "<path fill=\"none\" stroke=\"black\" d=\"M1,-180C45.22,-180 56.28,-179 100.5,-179 100.5,-179 100.5,-179 157.5,-179 200.05,-179 211.82,-174.38 251.96,-174.02\"/>\r\n",
       "<polygon fill=\"black\" stroke=\"black\" points=\"252.01,-175.77 257,-174 251.99,-172.27 252.01,-175.77\"/>\r\n",
       "<text text-anchor=\"middle\" x=\"103.12\" y=\"-167.8\" font-family=\"Courier,monospace\" font-size=\"14.00\">R</text>\r\n",
       "</g>\r\n",
       "<!-- n0in4 -->\r\n",
       "<!-- n0in3&#45;&gt;n0in4 -->\r\n",
       "<!-- n3 -->\r\n",
       "<!-- * -->\r\n",
       "<g id=\"n3\" class=\"node\">\r\n",
       "<title>n3</title>\r\n",
       "<polygon fill=\"none\" stroke=\"black\" points=\"147.5,-103 147.5,-151 166.5,-151 166.5,-103 147.5,-103\"/>\r\n",
       "<text text-anchor=\"start\" x=\"152.5\" y=\"-123.3\" font-family=\"Courier,monospace\" font-size=\"14.00\">*</text>\r\n",
       "</g>\r\n",
       "<!-- n0in3&#45;&gt;n3 -->\r\n",
       "<!-- R -->\r\n",
       "<g id=\"e4\" class=\"edge\">\r\n",
       "<title>n0in3:e&#45;&gt;n3:w</title>\r\n",
       "<path fill=\"none\" stroke=\"black\" d=\"M1,-138C64.12,-138 81.19,-138.95 141.78,-139\"/>\r\n",
       "<polygon fill=\"black\" stroke=\"black\" points=\"142,-140.75 147,-139 142,-137.25 142,-140.75\"/>\r\n",
       "<text text-anchor=\"middle\" x=\"69.22\" y=\"-127.3\" font-family=\"Courier,monospace\" font-size=\"14.00\">R</text>\r\n",
       "</g>\r\n",
       "<!-- n0in5 -->\r\n",
       "<!-- n0in4&#45;&gt;n0in5 -->\r\n",
       "<!-- n2 -->\r\n",
       "<!-- * -->\r\n",
       "<g id=\"n2\" class=\"node\">\r\n",
       "<title>n2</title>\r\n",
       "<polygon fill=\"none\" stroke=\"black\" points=\"92.5,-55 92.5,-103 111.5,-103 111.5,-55 92.5,-55\"/>\r\n",
       "<text text-anchor=\"start\" x=\"97.5\" y=\"-75.3\" font-family=\"Courier,monospace\" font-size=\"14.00\">*</text>\r\n",
       "</g>\r\n",
       "<!-- n0in4&#45;&gt;n2 -->\r\n",
       "<!-- R -->\r\n",
       "<g id=\"e5\" class=\"edge\">\r\n",
       "<title>n0in4:e&#45;&gt;n2:w</title>\r\n",
       "<path fill=\"none\" stroke=\"black\" d=\"M1,-96C39.76,-96 50.58,-91.42 86.94,-91.03\"/>\r\n",
       "<polygon fill=\"black\" stroke=\"black\" points=\"87.01,-92.78 92,-91 86.99,-89.28 87.01,-92.78\"/>\r\n",
       "<text text-anchor=\"middle\" x=\"42.07\" y=\"-82.29\" font-family=\"Courier,monospace\" font-size=\"14.00\">R</text>\r\n",
       "</g>\r\n",
       "<!-- n0in6 -->\r\n",
       "<!-- n0in5&#45;&gt;n0in6 -->\r\n",
       "<!-- n1 -->\r\n",
       "<!-- &#45; -->\r\n",
       "<g id=\"n1\" class=\"node\">\r\n",
       "<title>n1</title>\r\n",
       "<polygon fill=\"none\" stroke=\"black\" points=\"37.5,-18 37.5,-66 56.5,-66 56.5,-18 37.5,-18\"/>\r\n",
       "<text text-anchor=\"start\" x=\"42.5\" y=\"-38.3\" font-family=\"Courier,monospace\" font-size=\"14.00\">&#45;</text>\r\n",
       "</g>\r\n",
       "<!-- n0in5&#45;&gt;n1 -->\r\n",
       "<!-- R -->\r\n",
       "<g id=\"e3\" class=\"edge\">\r\n",
       "<title>n0in5:e&#45;&gt;n1:w</title>\r\n",
       "<path fill=\"none\" stroke=\"black\" d=\"M1,-54C15.12,-54 19.9,-54 31.83,-54\"/>\r\n",
       "<polygon fill=\"black\" stroke=\"black\" points=\"32,-55.75 37,-54 32,-52.25 32,-55.75\"/>\r\n",
       "<text text-anchor=\"middle\" x=\"14.4\" y=\"-42.8\" font-family=\"Courier,monospace\" font-size=\"14.00\">R</text>\r\n",
       "</g>\r\n",
       "<!-- n0in6&#45;&gt;n1 -->\r\n",
       "<!-- R -->\r\n",
       "<g id=\"e2\" class=\"edge\">\r\n",
       "<title>n0in6:e&#45;&gt;n1:w</title>\r\n",
       "<path fill=\"none\" stroke=\"black\" d=\"M1,-12C16.93,-12 18.85,-26.28 31.72,-29.4\"/>\r\n",
       "<polygon fill=\"black\" stroke=\"black\" points=\"31.83,-31.18 37,-30 32.23,-27.7 31.83,-31.18\"/>\r\n",
       "<text text-anchor=\"middle\" x=\"14.53\" y=\"-9.83\" font-family=\"Courier,monospace\" font-size=\"14.00\">R</text>\r\n",
       "</g>\r\n",
       "<!-- n0out1 -->\r\n",
       "<!-- n0out2 -->\r\n",
       "<!-- n0out1&#45;&gt;n0out2 -->\r\n",
       "<!-- n1&#45;&gt;n2 -->\r\n",
       "<!-- R -->\r\n",
       "<g id=\"e12\" class=\"edge\">\r\n",
       "<title>n1:e&#45;&gt;n2:w</title>\r\n",
       "<path fill=\"none\" stroke=\"black\" d=\"M56,-42C73.5,-42 72.89,-62.18 86.71,-66.28\"/>\r\n",
       "<polygon fill=\"black\" stroke=\"black\" points=\"86.81,-68.06 92,-67 87.28,-64.59 86.81,-68.06\"/>\r\n",
       "<text text-anchor=\"middle\" x=\"69.29\" y=\"-42.98\" font-family=\"Courier,monospace\" font-size=\"14.00\">R</text>\r\n",
       "</g>\r\n",
       "<!-- n2&#45;&gt;n3 -->\r\n",
       "<!-- R -->\r\n",
       "<g id=\"e11\" class=\"edge\">\r\n",
       "<title>n2:e&#45;&gt;n3:w</title>\r\n",
       "<path fill=\"none\" stroke=\"black\" d=\"M111,-79C131.68,-79 125.73,-109.08 141.83,-114.25\"/>\r\n",
       "<polygon fill=\"black\" stroke=\"black\" points=\"141.8,-116.01 147,-115 142.3,-112.55 141.8,-116.01\"/>\r\n",
       "<text text-anchor=\"middle\" x=\"124.5\" y=\"-85.79\" font-family=\"Courier,monospace\" font-size=\"14.00\">R</text>\r\n",
       "</g>\r\n",
       "<!-- n4 -->\r\n",
       "<!-- &#45; -->\r\n",
       "<g id=\"n4\" class=\"node\">\r\n",
       "<title>n4</title>\r\n",
       "<polygon fill=\"none\" stroke=\"black\" points=\"202.5,-91 202.5,-139 221.5,-139 221.5,-91 202.5,-91\"/>\r\n",
       "<text text-anchor=\"start\" x=\"207.5\" y=\"-111.3\" font-family=\"Courier,monospace\" font-size=\"14.00\">&#45;</text>\r\n",
       "</g>\r\n",
       "<!-- n2&#45;&gt;n4 -->\r\n",
       "<!-- R -->\r\n",
       "<g id=\"e9\" class=\"edge\">\r\n",
       "<title>n2:e&#45;&gt;n4:w</title>\r\n",
       "<path fill=\"none\" stroke=\"black\" d=\"M111,-79C120.35,-79 177.42,-98.2 196.84,-102.26\"/>\r\n",
       "<polygon fill=\"black\" stroke=\"black\" points=\"196.8,-104.02 202,-103 197.3,-100.55 196.8,-104.02\"/>\r\n",
       "<text text-anchor=\"middle\" x=\"151.96\" y=\"-79.79\" font-family=\"Courier,monospace\" font-size=\"14.00\">R</text>\r\n",
       "</g>\r\n",
       "<!-- n3&#45;&gt;n4 -->\r\n",
       "<!-- R -->\r\n",
       "<g id=\"e8\" class=\"edge\">\r\n",
       "<title>n3:e&#45;&gt;n4:w</title>\r\n",
       "<path fill=\"none\" stroke=\"black\" d=\"M166,-127C180.12,-127 184.9,-127 196.83,-127\"/>\r\n",
       "<polygon fill=\"black\" stroke=\"black\" points=\"197,-128.75 202,-127 197,-125.25 197,-128.75\"/>\r\n",
       "<text text-anchor=\"middle\" x=\"179.4\" y=\"-115.8\" font-family=\"Courier,monospace\" font-size=\"14.00\">R</text>\r\n",
       "</g>\r\n",
       "<!-- n4&#45;&gt;n5 -->\r\n",
       "<!-- R -->\r\n",
       "<g id=\"e10\" class=\"edge\">\r\n",
       "<title>n4:e&#45;&gt;n5:w</title>\r\n",
       "<path fill=\"none\" stroke=\"black\" d=\"M221,-115C241.4,-115 235.94,-144.24 251.89,-149.27\"/>\r\n",
       "<polygon fill=\"black\" stroke=\"black\" points=\"251.8,-151.02 257,-150 252.3,-147.56 251.8,-151.02\"/>\r\n",
       "<text text-anchor=\"middle\" x=\"234.5\" y=\"-121.29\" font-family=\"Courier,monospace\" font-size=\"14.00\">R</text>\r\n",
       "</g>\r\n",
       "<!-- n5&#45;&gt;n0out2 -->\r\n",
       "<!-- R -->\r\n",
       "<g id=\"e14\" class=\"edge\">\r\n",
       "<title>n5:e&#45;&gt;n0out2:w</title>\r\n",
       "<path fill=\"none\" stroke=\"black\" d=\"M276,-162C314.71,-162 325.63,-162.92 361.95,-162.99\"/>\r\n",
       "<polygon fill=\"black\" stroke=\"black\" points=\"362,-164.74 367,-163 362,-161.24 362,-164.74\"/>\r\n",
       "<text text-anchor=\"middle\" x=\"317.07\" y=\"-151.3\" font-family=\"Courier,monospace\" font-size=\"14.00\">R</text>\r\n",
       "</g>\r\n",
       "<!-- n5&#45;&gt;n6 -->\r\n",
       "<!-- R -->\r\n",
       "<g id=\"e7\" class=\"edge\">\r\n",
       "<title>n5:e&#45;&gt;n6:w</title>\r\n",
       "<path fill=\"none\" stroke=\"black\" d=\"M276,-162C296.68,-162 290.73,-192.08 306.83,-197.25\"/>\r\n",
       "<polygon fill=\"black\" stroke=\"black\" points=\"306.8,-199.01 312,-198 307.3,-195.55 306.8,-199.01\"/>\r\n",
       "<text text-anchor=\"middle\" x=\"289.5\" y=\"-168.79\" font-family=\"Courier,monospace\" font-size=\"14.00\">R</text>\r\n",
       "</g>\r\n",
       "<!-- n6&#45;&gt;n0out1 -->\r\n",
       "<!-- R -->\r\n",
       "<g id=\"e13\" class=\"edge\">\r\n",
       "<title>n6:e&#45;&gt;n0out1:w</title>\r\n",
       "<path fill=\"none\" stroke=\"black\" d=\"M331,-210C345.17,-210 349.87,-207.66 361.82,-207.11\"/>\r\n",
       "<polygon fill=\"black\" stroke=\"black\" points=\"362.04,-208.86 367,-207 361.96,-205.36 362.04,-208.86\"/>\r\n",
       "<text text-anchor=\"middle\" x=\"344.4\" y=\"-197.32\" font-family=\"Courier,monospace\" font-size=\"14.00\">R</text>\r\n",
       "</g>\r\n",
       "</g>\r\n",
       "</svg>\r\n"
      ],
      "text/plain": [
       "Graph(\"G\", true, \"dot\", Statement[Subgraph(\"\", Statement[Node(\"n0in1\", OrderedCollections.OrderedDict{Symbol,Union{String, Catlab.Graphics.Graphviz.Html}}(:id => \"in1\")), Node(\"n0in2\", OrderedCollections.OrderedDict{Symbol,Union{String, Catlab.Graphics.Graphviz.Html}}(:id => \"in2\")), Node(\"n0in3\", OrderedCollections.OrderedDict{Symbol,Union{String, Catlab.Graphics.Graphviz.Html}}(:id => \"in3\")), Node(\"n0in4\", OrderedCollections.OrderedDict{Symbol,Union{String, Catlab.Graphics.Graphviz.Html}}(:id => \"in4\")), Node(\"n0in5\", OrderedCollections.OrderedDict{Symbol,Union{String, Catlab.Graphics.Graphviz.Html}}(:id => \"in5\")), Node(\"n0in6\", OrderedCollections.OrderedDict{Symbol,Union{String, Catlab.Graphics.Graphviz.Html}}(:id => \"in6\")), Edge(NodeID[NodeID(\"n0in1\", \"\", \"\"), NodeID(\"n0in2\", \"\", \"\"), NodeID(\"n0in3\", \"\", \"\"), NodeID(\"n0in4\", \"\", \"\"), NodeID(\"n0in5\", \"\", \"\"), NodeID(\"n0in6\", \"\", \"\")], OrderedCollections.OrderedDict{Symbol,Union{String, Catlab.Graphics.Graphviz.Html}}())], OrderedCollections.OrderedDict{Symbol,Union{String, Catlab.Graphics.Graphviz.Html}}(:rank => \"source\",:rankdir => \"TB\"), OrderedCollections.OrderedDict{Symbol,Union{String, Catlab.Graphics.Graphviz.Html}}(:style => \"invis\",:shape => \"none\",:label => \"\",:width => \"0\",:height => \"0.333\"), OrderedCollections.OrderedDict{Symbol,Union{String, Catlab.Graphics.Graphviz.Html}}(:style => \"invis\")), Subgraph(\"\", Statement[Node(\"n0out1\", OrderedCollections.OrderedDict{Symbol,Union{String, Catlab.Graphics.Graphviz.Html}}(:id => \"out1\")), Node(\"n0out2\", OrderedCollections.OrderedDict{Symbol,Union{String, Catlab.Graphics.Graphviz.Html}}(:id => \"out2\")), Edge(NodeID[NodeID(\"n0out1\", \"\", \"\"), NodeID(\"n0out2\", \"\", \"\")], OrderedCollections.OrderedDict{Symbol,Union{String, Catlab.Graphics.Graphviz.Html}}())], OrderedCollections.OrderedDict{Symbol,Union{String, Catlab.Graphics.Graphviz.Html}}(:rank => \"sink\",:rankdir => \"TB\"), OrderedCollections.OrderedDict{Symbol,Union{String, Catlab.Graphics.Graphviz.Html}}(:style => \"invis\",:shape => \"none\",:label => \"\",:width => \"0\",:height => \"0.333\"), OrderedCollections.OrderedDict{Symbol,Union{String, Catlab.Graphics.Graphviz.Html}}(:style => \"invis\")), Node(\"n1\", OrderedCollections.OrderedDict{Symbol,Union{String, Catlab.Graphics.Graphviz.Html}}(:comment => \"-\",:id => \"n1\",:label => Catlab.Graphics.Graphviz.Html(\"<TABLE BORDER=\\\"0\\\" CELLPADDING=\\\"0\\\" CELLSPACING=\\\"0\\\">\\n<TR>\\n<TD><TABLE BORDER=\\\"0\\\" CELLPADDING=\\\"0\\\" CELLSPACING=\\\"0\\\"><TR><TD HEIGHT=\\\"24\\\" WIDTH=\\\"0\\\" PORT=\\\"in1\\\"></TD></TR><TR><TD HEIGHT=\\\"24\\\" WIDTH=\\\"0\\\" PORT=\\\"in2\\\"></TD></TR></TABLE></TD>\\n<TD BORDER=\\\"1\\\" CELLPADDING=\\\"4\\\">-</TD>\\n<TD><TABLE BORDER=\\\"0\\\" CELLPADDING=\\\"0\\\" CELLSPACING=\\\"0\\\"><TR><TD HEIGHT=\\\"24\\\" WIDTH=\\\"0\\\" PORT=\\\"out1\\\"></TD></TR></TABLE></TD>\\n</TR>\\n</TABLE>\"))), Node(\"n2\", OrderedCollections.OrderedDict{Symbol,Union{String, Catlab.Graphics.Graphviz.Html}}(:comment => \"*\",:id => \"n2\",:label => Catlab.Graphics.Graphviz.Html(\"<TABLE BORDER=\\\"0\\\" CELLPADDING=\\\"0\\\" CELLSPACING=\\\"0\\\">\\n<TR>\\n<TD><TABLE BORDER=\\\"0\\\" CELLPADDING=\\\"0\\\" CELLSPACING=\\\"0\\\"><TR><TD HEIGHT=\\\"24\\\" WIDTH=\\\"0\\\" PORT=\\\"in1\\\"></TD></TR><TR><TD HEIGHT=\\\"24\\\" WIDTH=\\\"0\\\" PORT=\\\"in2\\\"></TD></TR></TABLE></TD>\\n<TD BORDER=\\\"1\\\" CELLPADDING=\\\"4\\\">*</TD>\\n<TD><TABLE BORDER=\\\"0\\\" CELLPADDING=\\\"0\\\" CELLSPACING=\\\"0\\\"><TR><TD HEIGHT=\\\"24\\\" WIDTH=\\\"0\\\" PORT=\\\"out1\\\"></TD></TR></TABLE></TD>\\n</TR>\\n</TABLE>\"))), Node(\"n3\", OrderedCollections.OrderedDict{Symbol,Union{String, Catlab.Graphics.Graphviz.Html}}(:comment => \"*\",:id => \"n3\",:label => Catlab.Graphics.Graphviz.Html(\"<TABLE BORDER=\\\"0\\\" CELLPADDING=\\\"0\\\" CELLSPACING=\\\"0\\\">\\n<TR>\\n<TD><TABLE BORDER=\\\"0\\\" CELLPADDING=\\\"0\\\" CELLSPACING=\\\"0\\\"><TR><TD HEIGHT=\\\"24\\\" WIDTH=\\\"0\\\" PORT=\\\"in1\\\"></TD></TR><TR><TD HEIGHT=\\\"24\\\" WIDTH=\\\"0\\\" PORT=\\\"in2\\\"></TD></TR></TABLE></TD>\\n<TD BORDER=\\\"1\\\" CELLPADDING=\\\"4\\\">*</TD>\\n<TD><TABLE BORDER=\\\"0\\\" CELLPADDING=\\\"0\\\" CELLSPACING=\\\"0\\\"><TR><TD HEIGHT=\\\"24\\\" WIDTH=\\\"0\\\" PORT=\\\"out1\\\"></TD></TR></TABLE></TD>\\n</TR>\\n</TABLE>\"))), Node(\"n4\", OrderedCollections.OrderedDict{Symbol,Union{String, Catlab.Graphics.Graphviz.Html}}(:comment => \"-\",:id => \"n4\",:label => Catlab.Graphics.Graphviz.Html(\"<TABLE BORDER=\\\"0\\\" CELLPADDING=\\\"0\\\" CELLSPACING=\\\"0\\\">\\n<TR>\\n<TD><TABLE BORDER=\\\"0\\\" CELLPADDING=\\\"0\\\" CELLSPACING=\\\"0\\\"><TR><TD HEIGHT=\\\"24\\\" WIDTH=\\\"0\\\" PORT=\\\"in1\\\"></TD></TR><TR><TD HEIGHT=\\\"24\\\" WIDTH=\\\"0\\\" PORT=\\\"in2\\\"></TD></TR></TABLE></TD>\\n<TD BORDER=\\\"1\\\" CELLPADDING=\\\"4\\\">-</TD>\\n<TD><TABLE BORDER=\\\"0\\\" CELLPADDING=\\\"0\\\" CELLSPACING=\\\"0\\\"><TR><TD HEIGHT=\\\"24\\\" WIDTH=\\\"0\\\" PORT=\\\"out1\\\"></TD></TR></TABLE></TD>\\n</TR>\\n</TABLE>\"))), Node(\"n5\", OrderedCollections.OrderedDict{Symbol,Union{String, Catlab.Graphics.Graphviz.Html}}(:comment => \"*\",:id => \"n5\",:label => Catlab.Graphics.Graphviz.Html(\"<TABLE BORDER=\\\"0\\\" CELLPADDING=\\\"0\\\" CELLSPACING=\\\"0\\\">\\n<TR>\\n<TD><TABLE BORDER=\\\"0\\\" CELLPADDING=\\\"0\\\" CELLSPACING=\\\"0\\\"><TR><TD HEIGHT=\\\"24\\\" WIDTH=\\\"0\\\" PORT=\\\"in1\\\"></TD></TR><TR><TD HEIGHT=\\\"24\\\" WIDTH=\\\"0\\\" PORT=\\\"in2\\\"></TD></TR></TABLE></TD>\\n<TD BORDER=\\\"1\\\" CELLPADDING=\\\"4\\\">*</TD>\\n<TD><TABLE BORDER=\\\"0\\\" CELLPADDING=\\\"0\\\" CELLSPACING=\\\"0\\\"><TR><TD HEIGHT=\\\"24\\\" WIDTH=\\\"0\\\" PORT=\\\"out1\\\"></TD></TR></TABLE></TD>\\n</TR>\\n</TABLE>\"))), Node(\"n6\", OrderedCollections.OrderedDict{Symbol,Union{String, Catlab.Graphics.Graphviz.Html}}(:comment => \"*\",:id => \"n6\",:label => Catlab.Graphics.Graphviz.Html(\"<TABLE BORDER=\\\"0\\\" CELLPADDING=\\\"0\\\" CELLSPACING=\\\"0\\\">\\n<TR>\\n<TD><TABLE BORDER=\\\"0\\\" CELLPADDING=\\\"0\\\" CELLSPACING=\\\"0\\\"><TR><TD HEIGHT=\\\"24\\\" WIDTH=\\\"0\\\" PORT=\\\"in1\\\"></TD></TR><TR><TD HEIGHT=\\\"24\\\" WIDTH=\\\"0\\\" PORT=\\\"in2\\\"></TD></TR></TABLE></TD>\\n<TD BORDER=\\\"1\\\" CELLPADDING=\\\"4\\\">*</TD>\\n<TD><TABLE BORDER=\\\"0\\\" CELLPADDING=\\\"0\\\" CELLSPACING=\\\"0\\\"><TR><TD HEIGHT=\\\"24\\\" WIDTH=\\\"0\\\" PORT=\\\"out1\\\"></TD></TR></TABLE></TD>\\n</TR>\\n</TABLE>\"))), Edge(NodeID[NodeID(\"n0in1\", \"e\", \"\"), NodeID(\"n6\", \"in1\", \"w\")], OrderedCollections.OrderedDict{Symbol,Union{String, Catlab.Graphics.Graphviz.Html}}(:comment => \"R\",:id => \"e1\",:xlabel => \"R\")), Edge(NodeID[NodeID(\"n0in6\", \"e\", \"\"), NodeID(\"n1\", \"in2\", \"w\")], OrderedCollections.OrderedDict{Symbol,Union{String, Catlab.Graphics.Graphviz.Html}}(:comment => \"R\",:id => \"e2\",:xlabel => \"R\"))  …  Edge(NodeID[NodeID(\"n0in4\", \"e\", \"\"), NodeID(\"n2\", \"in1\", \"w\")], OrderedCollections.OrderedDict{Symbol,Union{String, Catlab.Graphics.Graphviz.Html}}(:comment => \"R\",:id => \"e5\",:xlabel => \"R\")), Edge(NodeID[NodeID(\"n0in2\", \"e\", \"\"), NodeID(\"n5\", \"in1\", \"w\")], OrderedCollections.OrderedDict{Symbol,Union{String, Catlab.Graphics.Graphviz.Html}}(:comment => \"R\",:id => \"e6\",:xlabel => \"R\")), Edge(NodeID[NodeID(\"n5\", \"out1\", \"e\"), NodeID(\"n6\", \"in2\", \"w\")], OrderedCollections.OrderedDict{Symbol,Union{String, Catlab.Graphics.Graphviz.Html}}(:comment => \"R\",:id => \"e7\",:xlabel => \"R\")), Edge(NodeID[NodeID(\"n3\", \"out1\", \"e\"), NodeID(\"n4\", \"in1\", \"w\")], OrderedCollections.OrderedDict{Symbol,Union{String, Catlab.Graphics.Graphviz.Html}}(:comment => \"R\",:id => \"e8\",:xlabel => \"R\")), Edge(NodeID[NodeID(\"n2\", \"out1\", \"e\"), NodeID(\"n4\", \"in2\", \"w\")], OrderedCollections.OrderedDict{Symbol,Union{String, Catlab.Graphics.Graphviz.Html}}(:comment => \"R\",:id => \"e9\",:xlabel => \"R\")), Edge(NodeID[NodeID(\"n4\", \"out1\", \"e\"), NodeID(\"n5\", \"in2\", \"w\")], OrderedCollections.OrderedDict{Symbol,Union{String, Catlab.Graphics.Graphviz.Html}}(:comment => \"R\",:id => \"e10\",:xlabel => \"R\")), Edge(NodeID[NodeID(\"n2\", \"out1\", \"e\"), NodeID(\"n3\", \"in2\", \"w\")], OrderedCollections.OrderedDict{Symbol,Union{String, Catlab.Graphics.Graphviz.Html}}(:comment => \"R\",:id => \"e11\",:xlabel => \"R\")), Edge(NodeID[NodeID(\"n1\", \"out1\", \"e\"), NodeID(\"n2\", \"in2\", \"w\")], OrderedCollections.OrderedDict{Symbol,Union{String, Catlab.Graphics.Graphviz.Html}}(:comment => \"R\",:id => \"e12\",:xlabel => \"R\")), Edge(NodeID[NodeID(\"n6\", \"out1\", \"e\"), NodeID(\"n0out1\", \"w\", \"\")], OrderedCollections.OrderedDict{Symbol,Union{String, Catlab.Graphics.Graphviz.Html}}(:comment => \"R\",:id => \"e13\",:xlabel => \"R\")), Edge(NodeID[NodeID(\"n5\", \"out1\", \"e\"), NodeID(\"n0out2\", \"w\", \"\")], OrderedCollections.OrderedDict{Symbol,Union{String, Catlab.Graphics.Graphviz.Html}}(:comment => \"R\",:id => \"e14\",:xlabel => \"R\"))], OrderedCollections.OrderedDict{Symbol,Union{String, Catlab.Graphics.Graphviz.Html}}(:fontname => \"Serif\",:rankdir => \"LR\"), OrderedCollections.OrderedDict{Symbol,Union{String, Catlab.Graphics.Graphviz.Html}}(:fontname => \"Courier\",:shape => \"none\",:width => \"0\",:height => \"0\",:margin => \"0\"), OrderedCollections.OrderedDict{Symbol,Union{String, Catlab.Graphics.Graphviz.Html}}(:arrowsize => \"0.5\",:fontname => \"Courier\"))"
      ]
     },
     "execution_count": 17,
     "metadata": {},
     "output_type": "execute_result"
    }
   ],
   "source": [
    "# Join Output of system wth input of system [incomplete]\n",
    "\n",
    "fig4 = gen_mul; \n",
    "fig4 = compose( otimes(id_r, id_r, fig3), fig3 )\n",
    "\n",
    "show_diagram( to_wiring_diagram(fig4) ) # Need to have output of node connecting back into its own input"
   ]
  },
  {
   "cell_type": "markdown",
   "id": "certified-canon",
   "metadata": {},
   "source": [
    "Unfortunately, composing a diagram with itself merely copies the diagram. A closed loop is not formed with this naive method. In fact, it may be impossible to do this, as the expressions the blocks generate must always be explicit. If the output of the net function depends on its own value, then its output is ambiguous and there is no clear cause and effect.   \n",
    "\n",
    "Ideally the feedback loop would look like this:"
   ]
  },
  {
   "cell_type": "markdown",
   "id": "matched-income",
   "metadata": {},
   "source": [
    "![Cat](https://github.com/rgCategory/composition_notebook/blob/main/images/desired_output.png?raw=true)"
   ]
  },
  {
   "cell_type": "markdown",
   "id": "atlantic-terrorism",
   "metadata": {},
   "source": [
    "In light of this restriction, a different framework is needed to generate feedback loops. The [Algebraic Dynamics](https://github.com/AlgebraicJulia/AlgebraicDynamics.jl) package offer such a framework. "
   ]
  },
  {
   "cell_type": "markdown",
   "id": "encouraging-methodology",
   "metadata": {},
   "source": [
    "### Miscellaneous"
   ]
  },
  {
   "cell_type": "markdown",
   "id": "anonymous-beach",
   "metadata": {},
   "source": [
    "Below hand written notes relevant to the concept of block diagram algebra. The assumption is that every box represents a scalar multiplication. In a general sense, this can be viewed as a matrix, and the signals moving through the wires are vectors that are modifed by these matrices. Essentially, the wiring diagrams represent some linear algebra equation. "
   ]
  },
  {
   "cell_type": "markdown",
   "id": "interpreted-manor",
   "metadata": {},
   "source": [
    "![Cat](https://github.com/rgCategory/composition_notebook/blob/main/images/notes_2.png?raw=true)\n",
    "![Cat](https://github.com/rgCategory/composition_notebook/blob/main/images/notes_3.png?raw=true)"
   ]
  }
 ],
 "metadata": {
  "kernelspec": {
   "display_name": "Julia 1.5.4",
   "language": "julia",
   "name": "julia-1.5"
  },
  "language_info": {
   "file_extension": ".jl",
   "mimetype": "application/julia",
   "name": "julia",
   "version": "1.5.4"
  }
 },
 "nbformat": 4,
 "nbformat_minor": 5
}
