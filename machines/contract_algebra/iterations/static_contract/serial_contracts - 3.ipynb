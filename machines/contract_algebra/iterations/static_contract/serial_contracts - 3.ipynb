{
 "cells": [
  {
   "cell_type": "markdown",
   "id": "6c0b63fc",
   "metadata": {},
   "source": [
    "# Static contract Type\n",
    "\n",
    "Static contracts are defined as arrays of intervals. Each interval is associated with a scalar value sent via a wire."
   ]
  },
  {
   "cell_type": "code",
   "execution_count": 1,
   "id": "cf5b61b2",
   "metadata": {},
   "outputs": [],
   "source": [
    "# References: \n",
    "# Catlab: https://github.com/AlgebraicJulia/AlgebraicDynamics.jl/blob/master/src/dwd_dynam.jl\n",
    "# Algebraic Dynamics: https://github.com/AlgebraicJulia/Catlab.jl/blob/master/src/wiring_diagrams/Directed.jl\n",
    "# Interval sets: https://github.com/JuliaMath/IntervalSets.jl"
   ]
  },
  {
   "cell_type": "code",
   "execution_count": 2,
   "id": "57e3158b",
   "metadata": {},
   "outputs": [],
   "source": [
    "using AlgebraicDynamics\n",
    "using AlgebraicDynamics.DWDDynam\n",
    "using Catlab.WiringDiagrams\n",
    "using Catlab.Graphics\n",
    "using Catlab.Graphics.Graphviz\n",
    "#-------\n",
    "using IntervalSets  # Library is required to create intervals of real numbers"
   ]
  },
  {
   "cell_type": "code",
   "execution_count": 3,
   "id": "3cc1e9de",
   "metadata": {},
   "outputs": [],
   "source": [
    "# Type that accepts all bound conditions, yet has specific type\n",
    "const NInterval = Vector{ Union{ClosedInterval{T}, \n",
    "                        OpenInterval{T}, \n",
    "                        Interval{:open, :closed, T}, \n",
    "                        Interval{:closed, :open, T} } } where T<:Real\n",
    "\n",
    "# Contracts are defined via intervals\n",
    "struct StaticContract{T<:Real}\n",
    "    ninputs::Int\n",
    "    noutputs::Int\n",
    "    input::NInterval{T}\n",
    "    output::NInterval{T}\n",
    "    \n",
    "    # Constructor\n",
    "    function StaticContract{T}(input::Vector, output::Vector) where T<:Real\n",
    "        ninputs = length(input)\n",
    "        noutputs = length(output)\n",
    "        \n",
    "        # cannot have empty contract\n",
    "        for contract in [input; output]\n",
    "            if isempty(contract)\n",
    "                error(\"the interval $contract is backwards\")\n",
    "            end\n",
    "        end\n",
    "        \n",
    "        new{T}(ninputs, noutputs, input, output)\n",
    "    end\n",
    "end"
   ]
  },
  {
   "cell_type": "code",
   "execution_count": 4,
   "id": "467beb3f",
   "metadata": {},
   "outputs": [],
   "source": [
    "function Base.show(io::IO, vf::StaticContract)            \n",
    "    # Check all contracts\n",
    "    list = [vf.input; vf.output]\n",
    "    output = \"\"\n",
    "    \n",
    "    # iterate across all contracts\n",
    "    len = length(list)\n",
    "    \n",
    "    for i in 1:len\n",
    "        contract = list[i]\n",
    "        # Switch symbol for infinity\n",
    "        if -contract.left == contract.right == Inf\n",
    "            output *= \"ℝ\"\n",
    "        else\n",
    "            left = contract.left == -Inf ? \"-∞\" : contract.left\n",
    "            right = contract.right == Inf ? \"∞\"  : contract.right\n",
    "            output *= \"[$left,$right]\"\n",
    "        end\n",
    "        # add product operator [spaces make it easier to read]\n",
    "        if i != len\n",
    "            output *= \" × \"\n",
    "        end\n",
    "    end  \n",
    "    \n",
    "    # display combined string\n",
    "    print(\"StaticContract( $output )\")\n",
    "end"
   ]
  },
  {
   "cell_type": "code",
   "execution_count": 5,
   "id": "7b31ec35",
   "metadata": {},
   "outputs": [
    {
     "data": {
      "text/plain": [
       "oapply (generic function with 1 method)"
      ]
     },
     "execution_count": 5,
     "metadata": {},
     "output_type": "execute_result"
    }
   ],
   "source": [
    "function oapply(d::WiringDiagram, ms::Vector{StaticContract{T}}) where T\n",
    "    # boxes in diagram\n",
    "    box = boxes(d)     \n",
    "    \n",
    "    # Ensure machines fill diagram\n",
    "    if nboxes(d) != length(ms)\n",
    "        error(\"there are $nboxes(d) boxes but $length(ms) machines\")\n",
    "    end\n",
    "        # each wire must have a contract\n",
    "    for id in 1:nboxes(d)\n",
    "        b = box[id]\n",
    "        if length(b.input_ports) != ms[id].ninputs || length(b.output_ports) != ms[id].noutputs\n",
    "            error(\"number of ports do not match number of contracts at box $id\")\n",
    "        end\n",
    "    end\n",
    "        \n",
    "    # Check all contracts inside the diagram (excluding wires that enter or exit the diagram)    \n",
    "    for w in wires(d, :Wire) \n",
    "        # Variable names, see section 3.3.3, P.16\n",
    "        target_var = box[w.target.box].input_ports[w.target.port]\n",
    "        source_var = box[w.source.box].output_ports[w.source.port]\n",
    "            \n",
    "            # ensure target and source name match.\n",
    "        if target_var != source_var\n",
    "            error(\"variable names do not match at $w\")\n",
    "        end\n",
    "                \n",
    "        # Induced contract, see section 3.3.1, P.13\n",
    "            # box names\n",
    "        source_name = box[w.source.box].value\n",
    "        target_name = box[w.target.box].value\n",
    "        \n",
    "            # check if source contract is compatible with target contract\n",
    "        contract_source = ms[w.source.box].output[w.source.port]\n",
    "        contract_target = ms[w.target.box].input[w.target.port]\n",
    "        overlap = intersect(contract_source, contract_target)\n",
    "\n",
    "        if isempty(overlap) == true\n",
    "            error(\"contract $contract_source of $source_name does not satisfy contract $contract_target of $target_name at wire $target_var\")\n",
    "        elseif overlap != contract_source\n",
    "            @warn(\"contract $contract_source of $source_name lies outside contract $contract_target of $target_name at wire $target_var\")\n",
    "        end\n",
    "    end\n",
    "    \n",
    "    # Assign external contracts\n",
    "    input = map( w -> ms[w.target.box].input[w.target.port], wires(d, :InWire))\n",
    "    output = map( w -> ms[w.source.box].output[w.source.port], wires(d, :OutWire))\n",
    "    \n",
    "    # Create new machine\n",
    "    return StaticContract{T}(input, output)\n",
    "end"
   ]
  },
  {
   "cell_type": "code",
   "execution_count": 6,
   "id": "f4bb5152",
   "metadata": {},
   "outputs": [
    {
     "data": {
      "text/plain": [
       "oapply (generic function with 2 methods)"
      ]
     },
     "execution_count": 6,
     "metadata": {},
     "output_type": "execute_result"
    }
   ],
   "source": [
    "function oapply(d::WiringDiagram, ms::Dict{Symbol, StaticContract{T}}) where T\n",
    "    oapply(d, map(box -> ms[box.value], boxes(d)) )\n",
    "end"
   ]
  },
  {
   "cell_type": "markdown",
   "id": "b1ae9054",
   "metadata": {},
   "source": [
    "### 1. Composite contract of two boxes:\n",
    "Consider the simple case of two boxes. There are two ways these boxes can connected with each other. They can be connected in _series_ or they can be connected in _parallel_. \n",
    "\n",
    "In their isolated state, each box has a single contract for each wire entering and exiting the box:  \n",
    "\n",
    "Box1: C1 &rarr; _Xin_ x _Xout_  \n",
    "Box2: C2 &rarr; _Yin_ x _Yout_  \n",
    "\n",
    "See p.14 of [Categorical Semantics of Cyber-Physical Systems Theory](https://arxiv.org/pdf/2010.08003.pdf) for the rules of these compositions. "
   ]
  },
  {
   "cell_type": "code",
   "execution_count": 7,
   "id": "37546c30",
   "metadata": {},
   "outputs": [
    {
     "data": {
      "text/plain": []
     },
     "execution_count": 7,
     "metadata": {},
     "output_type": "execute_result"
    },
    {
     "name": "stdout",
     "output_type": "stream",
     "text": [
      "StaticContract( [1.0,2.0] × [2.0,∞] )"
     ]
    }
   ],
   "source": [
    "box1 = StaticContract{Float64}( [1.0..2.0], [2.0..Inf] )"
   ]
  },
  {
   "cell_type": "code",
   "execution_count": 8,
   "id": "d3eed7f2",
   "metadata": {},
   "outputs": [
    {
     "data": {
      "text/plain": []
     },
     "execution_count": 8,
     "metadata": {},
     "output_type": "execute_result"
    },
    {
     "name": "stdout",
     "output_type": "stream",
     "text": [
      "StaticContract( [-∞,5.0] × ℝ )"
     ]
    }
   ],
   "source": [
    "box2 = StaticContract{Float64}( [-Inf..5.0], [-Inf..Inf] )"
   ]
  },
  {
   "cell_type": "markdown",
   "id": "4ac3120c",
   "metadata": {},
   "source": [
    "__Series composition:__\n",
    "In this configuration, the output of one box is connected to the input of the other box. The results is the following composition:  \n",
    "\n",
    "C<sub>Series</sub> &rarr; C1 X C2 &rarr; (_Xin_ x _Xout_) x (_Yin_ x _Yout_) &rarr; _Xin_ x _Yout_"
   ]
  },
  {
   "cell_type": "code",
   "execution_count": 9,
   "id": "140cbb65",
   "metadata": {},
   "outputs": [
    {
     "data": {
      "image/svg+xml": [
       "<?xml version=\"1.0\" encoding=\"UTF-8\" standalone=\"no\"?>\n",
       "<!DOCTYPE svg PUBLIC \"-//W3C//DTD SVG 1.1//EN\"\n",
       " \"http://www.w3.org/Graphics/SVG/1.1/DTD/svg11.dtd\">\n",
       "<!-- Generated by graphviz version 2.43.0 (0)\n",
       " -->\n",
       "<!-- Title: G Pages: 1 -->\n",
       "<svg width=\"234pt\" height=\"35pt\"\n",
       " viewBox=\"0.00 0.00 234.00 35.00\" xmlns=\"http://www.w3.org/2000/svg\" xmlns:xlink=\"http://www.w3.org/1999/xlink\">\n",
       "<g id=\"graph0\" class=\"graph\" transform=\"scale(1 1) rotate(0) translate(4 31)\">\n",
       "<title>G</title>\n",
       "<polygon fill=\"white\" stroke=\"transparent\" points=\"-4,4 -4,-31 230,-31 230,4 -4,4\"/>\n",
       "<!-- n0in1 -->\n",
       "<!-- n1 -->\n",
       "<!-- box1 -->\n",
       "<g id=\"n1\" class=\"node\">\n",
       "<title>n1</title>\n",
       "<polygon fill=\"none\" stroke=\"black\" points=\"46.5,0 46.5,-25 91.5,-25 91.5,0 46.5,0\"/>\n",
       "<text text-anchor=\"start\" x=\"51.5\" y=\"-8.8\" font-family=\"Serif\" font-size=\"14.00\">box1</text>\n",
       "</g>\n",
       "<!-- n0in1&#45;&gt;n1 -->\n",
       "<!-- x -->\n",
       "<g id=\"e1\" class=\"edge\">\n",
       "<title>n0in1:e&#45;&gt;n1:w</title>\n",
       "<path fill=\"none\" stroke=\"black\" d=\"M1,-12C19.12,-12 24.93,-12 40.75,-12\"/>\n",
       "<polygon fill=\"black\" stroke=\"black\" points=\"41,-13.75 46,-12 41,-10.25 41,-13.75\"/>\n",
       "<text text-anchor=\"middle\" x=\"23.5\" y=\"-15.8\" font-family=\"Serif\" font-size=\"14.00\">x</text>\n",
       "</g>\n",
       "<!-- n0out1 -->\n",
       "<!-- n2 -->\n",
       "<!-- box2 -->\n",
       "<g id=\"n2\" class=\"node\">\n",
       "<title>n2</title>\n",
       "<polygon fill=\"none\" stroke=\"black\" points=\"136.5,0 136.5,-25 181.5,-25 181.5,0 136.5,0\"/>\n",
       "<text text-anchor=\"start\" x=\"141.5\" y=\"-8.8\" font-family=\"Serif\" font-size=\"14.00\">box2</text>\n",
       "</g>\n",
       "<!-- n1&#45;&gt;n2 -->\n",
       "<!-- y -->\n",
       "<g id=\"e2\" class=\"edge\">\n",
       "<title>n1:e&#45;&gt;n2:w</title>\n",
       "<path fill=\"none\" stroke=\"black\" d=\"M91,-12C109.12,-12 114.93,-12 130.75,-12\"/>\n",
       "<polygon fill=\"black\" stroke=\"black\" points=\"131,-13.75 136,-12 131,-10.25 131,-13.75\"/>\n",
       "<text text-anchor=\"middle\" x=\"113.5\" y=\"-15.8\" font-family=\"Serif\" font-size=\"14.00\">y</text>\n",
       "</g>\n",
       "<!-- n2&#45;&gt;n0out1 -->\n",
       "<!-- z -->\n",
       "<g id=\"e3\" class=\"edge\">\n",
       "<title>n2:e&#45;&gt;n0out1:w</title>\n",
       "<path fill=\"none\" stroke=\"black\" d=\"M181,-12C198.72,-12 204.4,-12 219.86,-12\"/>\n",
       "<polygon fill=\"black\" stroke=\"black\" points=\"220,-13.75 225,-12 220,-10.25 220,-13.75\"/>\n",
       "<text text-anchor=\"middle\" x=\"203\" y=\"-15.8\" font-family=\"Serif\" font-size=\"14.00\">z</text>\n",
       "</g>\n",
       "</g>\n",
       "</svg>\n"
      ],
      "text/plain": [
       "Graph(\"G\", true, \"dot\", Statement[Subgraph(\"\", Statement[Node(\"n0in1\", OrderedCollections.OrderedDict{Symbol, Union{String, Catlab.Graphics.Graphviz.Html}}(:id => \"in1\"))], OrderedCollections.OrderedDict{Symbol, Union{String, Catlab.Graphics.Graphviz.Html}}(:rank => \"source\", :rankdir => \"TB\"), OrderedCollections.OrderedDict{Symbol, Union{String, Catlab.Graphics.Graphviz.Html}}(:style => \"invis\", :shape => \"none\", :label => \"\", :width => \"0\", :height => \"0.333\"), OrderedCollections.OrderedDict{Symbol, Union{String, Catlab.Graphics.Graphviz.Html}}(:style => \"invis\")), Subgraph(\"\", Statement[Node(\"n0out1\", OrderedCollections.OrderedDict{Symbol, Union{String, Catlab.Graphics.Graphviz.Html}}(:id => \"out1\"))], OrderedCollections.OrderedDict{Symbol, Union{String, Catlab.Graphics.Graphviz.Html}}(:rank => \"sink\", :rankdir => \"TB\"), OrderedCollections.OrderedDict{Symbol, Union{String, Catlab.Graphics.Graphviz.Html}}(:style => \"invis\", :shape => \"none\", :label => \"\", :width => \"0\", :height => \"0.333\"), OrderedCollections.OrderedDict{Symbol, Union{String, Catlab.Graphics.Graphviz.Html}}(:style => \"invis\")), Node(\"n1\", OrderedCollections.OrderedDict{Symbol, Union{String, Catlab.Graphics.Graphviz.Html}}(:color => \"black\", :comment => \"box1\", :fillcolor => \"white\", :id => \"n1\", :label => Catlab.Graphics.Graphviz.Html(\"<TABLE BORDER=\\\"0\\\" CELLPADDING=\\\"0\\\" CELLSPACING=\\\"0\\\">\\n<TR>\\n<TD><TABLE BORDER=\\\"0\\\" CELLPADDING=\\\"0\\\" CELLSPACING=\\\"0\\\"><TR><TD HEIGHT=\\\"24\\\" WIDTH=\\\"0\\\" PORT=\\\"in1\\\"></TD></TR></TABLE></TD>\\n<TD BORDER=\\\"1\\\" CELLPADDING=\\\"4\\\">box1</TD>\\n<TD><TABLE BORDER=\\\"0\\\" CELLPADDING=\\\"0\\\" CELLSPACING=\\\"0\\\"><TR><TD HEIGHT=\\\"24\\\" WIDTH=\\\"0\\\" PORT=\\\"out1\\\"></TD></TR></TABLE></TD>\\n</TR>\\n</TABLE>\"), :style => \"solid\")), Node(\"n2\", OrderedCollections.OrderedDict{Symbol, Union{String, Catlab.Graphics.Graphviz.Html}}(:color => \"black\", :comment => \"box2\", :fillcolor => \"white\", :id => \"n2\", :label => Catlab.Graphics.Graphviz.Html(\"<TABLE BORDER=\\\"0\\\" CELLPADDING=\\\"0\\\" CELLSPACING=\\\"0\\\">\\n<TR>\\n<TD><TABLE BORDER=\\\"0\\\" CELLPADDING=\\\"0\\\" CELLSPACING=\\\"0\\\"><TR><TD HEIGHT=\\\"24\\\" WIDTH=\\\"0\\\" PORT=\\\"in1\\\"></TD></TR></TABLE></TD>\\n<TD BORDER=\\\"1\\\" CELLPADDING=\\\"4\\\">box2</TD>\\n<TD><TABLE BORDER=\\\"0\\\" CELLPADDING=\\\"0\\\" CELLSPACING=\\\"0\\\"><TR><TD HEIGHT=\\\"24\\\" WIDTH=\\\"0\\\" PORT=\\\"out1\\\"></TD></TR></TABLE></TD>\\n</TR>\\n</TABLE>\"), :style => \"solid\")), Edge(NodeID[NodeID(\"n0in1\", \"e\", \"\"), NodeID(\"n1\", \"in1\", \"w\")], OrderedCollections.OrderedDict{Symbol, Union{String, Catlab.Graphics.Graphviz.Html}}(:comment => \"x\", :id => \"e1\", :label => \"x\")), Edge(NodeID[NodeID(\"n1\", \"out1\", \"e\"), NodeID(\"n2\", \"in1\", \"w\")], OrderedCollections.OrderedDict{Symbol, Union{String, Catlab.Graphics.Graphviz.Html}}(:comment => \"y\", :id => \"e2\", :label => \"y\")), Edge(NodeID[NodeID(\"n2\", \"out1\", \"e\"), NodeID(\"n0out1\", \"w\", \"\")], OrderedCollections.OrderedDict{Symbol, Union{String, Catlab.Graphics.Graphviz.Html}}(:comment => \"z\", :id => \"e3\", :label => \"z\"))], OrderedCollections.OrderedDict{Symbol, Union{String, Catlab.Graphics.Graphviz.Html}}(:fontname => \"Serif\", :rankdir => \"LR\"), OrderedCollections.OrderedDict{Symbol, Union{String, Catlab.Graphics.Graphviz.Html}}(:fontname => \"Serif\", :shape => \"none\", :width => \"0\", :height => \"0\", :margin => \"0\"), OrderedCollections.OrderedDict{Symbol, Union{String, Catlab.Graphics.Graphviz.Html}}(:arrowsize => \"0.5\", :fontname => \"Serif\"))"
      ]
     },
     "execution_count": 9,
     "metadata": {},
     "output_type": "execute_result"
    }
   ],
   "source": [
    "system = WiringDiagram([:x], [:z])\n",
    "\n",
    "xbox = add_box!(system, Box(:box1, [:x], [:y]))\n",
    "ybox = add_box!(system, Box(:box2, [:y], [:z]))\n",
    "\n",
    "add_wires!(system, [  \n",
    "  (input_id(system),1) => (xbox,1),  \n",
    "  (xbox,1) => (ybox,1),\n",
    "  (ybox,1) => (output_id(system),1)\n",
    "])\n",
    "\n",
    "to_graphviz(system, orientation=LeftToRight, labels=true)"
   ]
  },
  {
   "cell_type": "code",
   "execution_count": 10,
   "id": "35912e0b",
   "metadata": {},
   "outputs": [
    {
     "name": "stderr",
     "output_type": "stream",
     "text": [
      "┌ Warning: contract 2.0..Inf of box1 lies outside contract -Inf..5.0 of box2 at wire y\n",
      "└ @ Main In[5]:41\n"
     ]
    },
    {
     "data": {
      "text/plain": []
     },
     "execution_count": 10,
     "metadata": {},
     "output_type": "execute_result"
    },
    {
     "name": "stdout",
     "output_type": "stream",
     "text": [
      "StaticContract( [1.0,2.0] × ℝ )"
     ]
    }
   ],
   "source": [
    "oapply(system, [box1, box2])"
   ]
  },
  {
   "cell_type": "markdown",
   "id": "26a8a993",
   "metadata": {},
   "source": [
    "__Parallel Composition:__\n",
    "In this configuration, the boxes are combined to form a larger system with additional inputs and outputs. The resulting composition is:\n",
    "\n",
    "C<sub>Parallel</sub> &rarr; C1 X C2 &rarr; (_Xin_ x _Xout_) x (_Yin_ x _Yout_) &rarr; (_Xin_ x _Yin_) x (_Xout_ x _Yout_)"
   ]
  },
  {
   "cell_type": "code",
   "execution_count": 11,
   "id": "9b88bc9c",
   "metadata": {},
   "outputs": [
    {
     "data": {
      "image/svg+xml": [
       "<?xml version=\"1.0\" encoding=\"UTF-8\" standalone=\"no\"?>\n",
       "<!DOCTYPE svg PUBLIC \"-//W3C//DTD SVG 1.1//EN\"\n",
       " \"http://www.w3.org/Graphics/SVG/1.1/DTD/svg11.dtd\">\n",
       "<!-- Generated by graphviz version 2.43.0 (0)\n",
       " -->\n",
       "<!-- Title: G Pages: 1 -->\n",
       "<svg width=\"149pt\" height=\"95pt\"\n",
       " viewBox=\"0.00 0.00 149.00 95.00\" xmlns=\"http://www.w3.org/2000/svg\" xmlns:xlink=\"http://www.w3.org/1999/xlink\">\n",
       "<g id=\"graph0\" class=\"graph\" transform=\"scale(1 1) rotate(0) translate(4 91)\">\n",
       "<title>G</title>\n",
       "<polygon fill=\"white\" stroke=\"transparent\" points=\"-4,4 -4,-91 145,-91 145,4 -4,4\"/>\n",
       "<!-- n0in1 -->\n",
       "<!-- n0in2 -->\n",
       "<!-- n0in1&#45;&gt;n0in2 -->\n",
       "<!-- n1 -->\n",
       "<!-- box1 -->\n",
       "<g id=\"n1\" class=\"node\">\n",
       "<title>n1</title>\n",
       "<polygon fill=\"none\" stroke=\"black\" points=\"50.5,-60 50.5,-85 95.5,-85 95.5,-60 50.5,-60\"/>\n",
       "<text text-anchor=\"start\" x=\"55.5\" y=\"-68.8\" font-family=\"Serif\" font-size=\"14.00\">box1</text>\n",
       "</g>\n",
       "<!-- n0in1&#45;&gt;n1 -->\n",
       "<!-- x -->\n",
       "<g id=\"e1\" class=\"edge\">\n",
       "<title>n0in1:e&#45;&gt;n1:w</title>\n",
       "<path fill=\"none\" stroke=\"black\" d=\"M1,-72C20.91,-72 27.17,-72 44.73,-72\"/>\n",
       "<polygon fill=\"black\" stroke=\"black\" points=\"45,-73.75 50,-72 45,-70.25 45,-73.75\"/>\n",
       "<text text-anchor=\"middle\" x=\"25.5\" y=\"-75.8\" font-family=\"Serif\" font-size=\"14.00\">x</text>\n",
       "</g>\n",
       "<!-- n2 -->\n",
       "<!-- box2 -->\n",
       "<g id=\"n2\" class=\"node\">\n",
       "<title>n2</title>\n",
       "<polygon fill=\"none\" stroke=\"black\" points=\"50.5,0 50.5,-25 95.5,-25 95.5,0 50.5,0\"/>\n",
       "<text text-anchor=\"start\" x=\"55.5\" y=\"-8.8\" font-family=\"Serif\" font-size=\"14.00\">box2</text>\n",
       "</g>\n",
       "<!-- n0in2&#45;&gt;n2 -->\n",
       "<!-- w -->\n",
       "<g id=\"e2\" class=\"edge\">\n",
       "<title>n0in2:e&#45;&gt;n2:w</title>\n",
       "<path fill=\"none\" stroke=\"black\" d=\"M1,-12C20.91,-12 27.17,-12 44.73,-12\"/>\n",
       "<polygon fill=\"black\" stroke=\"black\" points=\"45,-13.75 50,-12 45,-10.25 45,-13.75\"/>\n",
       "<text text-anchor=\"middle\" x=\"25.5\" y=\"-15.8\" font-family=\"Serif\" font-size=\"14.00\">w</text>\n",
       "</g>\n",
       "<!-- n0out1 -->\n",
       "<!-- n0out2 -->\n",
       "<!-- n0out1&#45;&gt;n0out2 -->\n",
       "<!-- n1&#45;&gt;n0out1 -->\n",
       "<!-- y -->\n",
       "<g id=\"e3\" class=\"edge\">\n",
       "<title>n1:e&#45;&gt;n0out1:w</title>\n",
       "<path fill=\"none\" stroke=\"black\" d=\"M95,-72C113.12,-72 118.93,-72 134.75,-72\"/>\n",
       "<polygon fill=\"black\" stroke=\"black\" points=\"135,-73.75 140,-72 135,-70.25 135,-73.75\"/>\n",
       "<text text-anchor=\"middle\" x=\"117.5\" y=\"-75.8\" font-family=\"Serif\" font-size=\"14.00\">y</text>\n",
       "</g>\n",
       "<!-- n2&#45;&gt;n0out2 -->\n",
       "<!-- z -->\n",
       "<g id=\"e4\" class=\"edge\">\n",
       "<title>n2:e&#45;&gt;n0out2:w</title>\n",
       "<path fill=\"none\" stroke=\"black\" d=\"M95,-12C113.12,-12 118.93,-12 134.75,-12\"/>\n",
       "<polygon fill=\"black\" stroke=\"black\" points=\"135,-13.75 140,-12 135,-10.25 135,-13.75\"/>\n",
       "<text text-anchor=\"middle\" x=\"117.5\" y=\"-15.8\" font-family=\"Serif\" font-size=\"14.00\">z</text>\n",
       "</g>\n",
       "</g>\n",
       "</svg>\n"
      ],
      "text/plain": [
       "Graph(\"G\", true, \"dot\", Statement[Subgraph(\"\", Statement[Node(\"n0in1\", OrderedCollections.OrderedDict{Symbol, Union{String, Catlab.Graphics.Graphviz.Html}}(:id => \"in1\")), Node(\"n0in2\", OrderedCollections.OrderedDict{Symbol, Union{String, Catlab.Graphics.Graphviz.Html}}(:id => \"in2\")), Edge(NodeID[NodeID(\"n0in1\", \"\", \"\"), NodeID(\"n0in2\", \"\", \"\")], OrderedCollections.OrderedDict{Symbol, Union{String, Catlab.Graphics.Graphviz.Html}}())], OrderedCollections.OrderedDict{Symbol, Union{String, Catlab.Graphics.Graphviz.Html}}(:rank => \"source\", :rankdir => \"TB\"), OrderedCollections.OrderedDict{Symbol, Union{String, Catlab.Graphics.Graphviz.Html}}(:style => \"invis\", :shape => \"none\", :label => \"\", :width => \"0\", :height => \"0.333\"), OrderedCollections.OrderedDict{Symbol, Union{String, Catlab.Graphics.Graphviz.Html}}(:style => \"invis\")), Subgraph(\"\", Statement[Node(\"n0out1\", OrderedCollections.OrderedDict{Symbol, Union{String, Catlab.Graphics.Graphviz.Html}}(:id => \"out1\")), Node(\"n0out2\", OrderedCollections.OrderedDict{Symbol, Union{String, Catlab.Graphics.Graphviz.Html}}(:id => \"out2\")), Edge(NodeID[NodeID(\"n0out1\", \"\", \"\"), NodeID(\"n0out2\", \"\", \"\")], OrderedCollections.OrderedDict{Symbol, Union{String, Catlab.Graphics.Graphviz.Html}}())], OrderedCollections.OrderedDict{Symbol, Union{String, Catlab.Graphics.Graphviz.Html}}(:rank => \"sink\", :rankdir => \"TB\"), OrderedCollections.OrderedDict{Symbol, Union{String, Catlab.Graphics.Graphviz.Html}}(:style => \"invis\", :shape => \"none\", :label => \"\", :width => \"0\", :height => \"0.333\"), OrderedCollections.OrderedDict{Symbol, Union{String, Catlab.Graphics.Graphviz.Html}}(:style => \"invis\")), Node(\"n1\", OrderedCollections.OrderedDict{Symbol, Union{String, Catlab.Graphics.Graphviz.Html}}(:color => \"black\", :comment => \"box1\", :fillcolor => \"white\", :id => \"n1\", :label => Catlab.Graphics.Graphviz.Html(\"<TABLE BORDER=\\\"0\\\" CELLPADDING=\\\"0\\\" CELLSPACING=\\\"0\\\">\\n<TR>\\n<TD><TABLE BORDER=\\\"0\\\" CELLPADDING=\\\"0\\\" CELLSPACING=\\\"0\\\"><TR><TD HEIGHT=\\\"24\\\" WIDTH=\\\"0\\\" PORT=\\\"in1\\\"></TD></TR></TABLE></TD>\\n<TD BORDER=\\\"1\\\" CELLPADDING=\\\"4\\\">box1</TD>\\n<TD><TABLE BORDER=\\\"0\\\" CELLPADDING=\\\"0\\\" CELLSPACING=\\\"0\\\"><TR><TD HEIGHT=\\\"24\\\" WIDTH=\\\"0\\\" PORT=\\\"out1\\\"></TD></TR></TABLE></TD>\\n</TR>\\n</TABLE>\"), :style => \"solid\")), Node(\"n2\", OrderedCollections.OrderedDict{Symbol, Union{String, Catlab.Graphics.Graphviz.Html}}(:color => \"black\", :comment => \"box2\", :fillcolor => \"white\", :id => \"n2\", :label => Catlab.Graphics.Graphviz.Html(\"<TABLE BORDER=\\\"0\\\" CELLPADDING=\\\"0\\\" CELLSPACING=\\\"0\\\">\\n<TR>\\n<TD><TABLE BORDER=\\\"0\\\" CELLPADDING=\\\"0\\\" CELLSPACING=\\\"0\\\"><TR><TD HEIGHT=\\\"24\\\" WIDTH=\\\"0\\\" PORT=\\\"in1\\\"></TD></TR></TABLE></TD>\\n<TD BORDER=\\\"1\\\" CELLPADDING=\\\"4\\\">box2</TD>\\n<TD><TABLE BORDER=\\\"0\\\" CELLPADDING=\\\"0\\\" CELLSPACING=\\\"0\\\"><TR><TD HEIGHT=\\\"24\\\" WIDTH=\\\"0\\\" PORT=\\\"out1\\\"></TD></TR></TABLE></TD>\\n</TR>\\n</TABLE>\"), :style => \"solid\")), Edge(NodeID[NodeID(\"n0in1\", \"e\", \"\"), NodeID(\"n1\", \"in1\", \"w\")], OrderedCollections.OrderedDict{Symbol, Union{String, Catlab.Graphics.Graphviz.Html}}(:comment => \"x\", :id => \"e1\", :label => \"x\")), Edge(NodeID[NodeID(\"n0in2\", \"e\", \"\"), NodeID(\"n2\", \"in1\", \"w\")], OrderedCollections.OrderedDict{Symbol, Union{String, Catlab.Graphics.Graphviz.Html}}(:comment => \"w\", :id => \"e2\", :label => \"w\")), Edge(NodeID[NodeID(\"n1\", \"out1\", \"e\"), NodeID(\"n0out1\", \"w\", \"\")], OrderedCollections.OrderedDict{Symbol, Union{String, Catlab.Graphics.Graphviz.Html}}(:comment => \"y\", :id => \"e3\", :label => \"y\")), Edge(NodeID[NodeID(\"n2\", \"out1\", \"e\"), NodeID(\"n0out2\", \"w\", \"\")], OrderedCollections.OrderedDict{Symbol, Union{String, Catlab.Graphics.Graphviz.Html}}(:comment => \"z\", :id => \"e4\", :label => \"z\"))], OrderedCollections.OrderedDict{Symbol, Union{String, Catlab.Graphics.Graphviz.Html}}(:fontname => \"Serif\", :rankdir => \"LR\"), OrderedCollections.OrderedDict{Symbol, Union{String, Catlab.Graphics.Graphviz.Html}}(:fontname => \"Serif\", :shape => \"none\", :width => \"0\", :height => \"0\", :margin => \"0\"), OrderedCollections.OrderedDict{Symbol, Union{String, Catlab.Graphics.Graphviz.Html}}(:arrowsize => \"0.5\", :fontname => \"Serif\"))"
      ]
     },
     "execution_count": 11,
     "metadata": {},
     "output_type": "execute_result"
    }
   ],
   "source": [
    "system = WiringDiagram([:x, :w], [:y, :z])\n",
    "\n",
    "xbox = add_box!(system, Box(:box1, [:x], [:y]))\n",
    "ybox = add_box!(system, Box(:box2, [:w], [:z]))\n",
    "\n",
    "add_wires!(system, [  \n",
    "  (input_id(system),1) => (xbox,1), \n",
    "  (input_id(system),2) => (ybox,1),\n",
    "  (xbox,1) => (output_id(system),1),\n",
    "  (ybox,1) => (output_id(system),2)\n",
    "])\n",
    "\n",
    "to_graphviz(system, orientation=LeftToRight, labels=true)"
   ]
  },
  {
   "cell_type": "code",
   "execution_count": 12,
   "id": "3037acb4",
   "metadata": {},
   "outputs": [
    {
     "data": {
      "text/plain": []
     },
     "execution_count": 12,
     "metadata": {},
     "output_type": "execute_result"
    },
    {
     "name": "stdout",
     "output_type": "stream",
     "text": [
      "StaticContract( [1.0,2.0] × [-∞,5.0] × [2.0,∞] × ℝ )"
     ]
    }
   ],
   "source": [
    "oapply(system, [box1, box2])"
   ]
  },
  {
   "cell_type": "markdown",
   "id": "2f5dd198",
   "metadata": {},
   "source": [
    "### 2. Composite contract from autonomy talks\n",
    "\n",
    "This diagram was taken from the example shown in:  [Autonomy Talks - Georgios Bakirtzis: Compositional Cyber-Physical Systems Theory](https://www.youtube.com/watch?v=Ot9szu3HZ8g)"
   ]
  },
  {
   "cell_type": "code",
   "execution_count": 13,
   "id": "e4fe37e9",
   "metadata": {},
   "outputs": [
    {
     "data": {
      "image/svg+xml": [
       "<?xml version=\"1.0\" encoding=\"UTF-8\" standalone=\"no\"?>\n",
       "<!DOCTYPE svg PUBLIC \"-//W3C//DTD SVG 1.1//EN\"\n",
       " \"http://www.w3.org/Graphics/SVG/1.1/DTD/svg11.dtd\">\n",
       "<!-- Generated by graphviz version 2.43.0 (0)\n",
       " -->\n",
       "<!-- Title: G Pages: 1 -->\n",
       "<svg width=\"191pt\" height=\"201pt\"\n",
       " viewBox=\"0.00 0.00 191.00 201.00\" xmlns=\"http://www.w3.org/2000/svg\" xmlns:xlink=\"http://www.w3.org/1999/xlink\">\n",
       "<g id=\"graph0\" class=\"graph\" transform=\"scale(1 1) rotate(0) translate(4 197)\">\n",
       "<title>G</title>\n",
       "<polygon fill=\"white\" stroke=\"transparent\" points=\"-4,4 -4,-197 187,-197 187,4 -4,4\"/>\n",
       "<!-- n0in1 -->\n",
       "<!-- n0in2 -->\n",
       "<!-- n0in1&#45;&gt;n0in2 -->\n",
       "<!-- n3 -->\n",
       "<!-- Z -->\n",
       "<g id=\"n3\" class=\"node\">\n",
       "<title>n3</title>\n",
       "<polygon fill=\"none\" stroke=\"black\" points=\"115,-119 115,-191 135,-191 135,-119 115,-119\"/>\n",
       "<text text-anchor=\"start\" x=\"120\" y=\"-151.3\" font-family=\"Serif\" font-size=\"14.00\">Z</text>\n",
       "</g>\n",
       "<!-- n0in1&#45;&gt;n3 -->\n",
       "<!-- R -->\n",
       "<g id=\"e3\" class=\"edge\">\n",
       "<title>n0in1:e&#45;&gt;n3:w</title>\n",
       "<path fill=\"none\" stroke=\"black\" d=\"M1,-132C49.89,-132 63.39,-131.07 109.79,-131\"/>\n",
       "<polygon fill=\"black\" stroke=\"black\" points=\"110,-132.75 115,-131 110,-129.25 110,-132.75\"/>\n",
       "<text text-anchor=\"middle\" x=\"58\" y=\"-135.8\" font-family=\"Serif\" font-size=\"14.00\">R</text>\n",
       "</g>\n",
       "<!-- n0in3 -->\n",
       "<!-- n0in2&#45;&gt;n0in3 -->\n",
       "<!-- n1 -->\n",
       "<!-- X -->\n",
       "<g id=\"n1\" class=\"node\">\n",
       "<title>n1</title>\n",
       "<polygon fill=\"none\" stroke=\"black\" points=\"48,-60 48,-85 68,-85 68,-60 48,-60\"/>\n",
       "<text text-anchor=\"start\" x=\"53\" y=\"-68.8\" font-family=\"Serif\" font-size=\"14.00\">X</text>\n",
       "</g>\n",
       "<!-- n0in2&#45;&gt;n1 -->\n",
       "<!-- R -->\n",
       "<g id=\"e1\" class=\"edge\">\n",
       "<title>n0in2:e&#45;&gt;n1:w</title>\n",
       "<path fill=\"none\" stroke=\"black\" d=\"M1,-72C20.09,-72 26.1,-72 42.94,-72\"/>\n",
       "<polygon fill=\"black\" stroke=\"black\" points=\"43,-73.75 48,-72 43,-70.25 43,-73.75\"/>\n",
       "<text text-anchor=\"middle\" x=\"24.5\" y=\"-75.8\" font-family=\"Serif\" font-size=\"14.00\">R</text>\n",
       "</g>\n",
       "<!-- n2 -->\n",
       "<!-- Y -->\n",
       "<g id=\"n2\" class=\"node\">\n",
       "<title>n2</title>\n",
       "<polygon fill=\"none\" stroke=\"black\" points=\"48,-13 48,-38 68,-38 68,-13 48,-13\"/>\n",
       "<text text-anchor=\"start\" x=\"53\" y=\"-21.8\" font-family=\"Serif\" font-size=\"14.00\">Y</text>\n",
       "</g>\n",
       "<!-- n0in3&#45;&gt;n2 -->\n",
       "<!-- R -->\n",
       "<g id=\"e2\" class=\"edge\">\n",
       "<title>n0in3:e&#45;&gt;n2:w</title>\n",
       "<path fill=\"none\" stroke=\"black\" d=\"M1,-12C20.81,-12 25.57,-22.86 42.79,-24.73\"/>\n",
       "<polygon fill=\"black\" stroke=\"black\" points=\"42.92,-26.49 48,-25 43.1,-22.99 42.92,-26.49\"/>\n",
       "<text text-anchor=\"middle\" x=\"24.5\" y=\"-25.8\" font-family=\"Serif\" font-size=\"14.00\">R</text>\n",
       "</g>\n",
       "<!-- n0out1 -->\n",
       "<!-- n1&#45;&gt;n3 -->\n",
       "<!-- R -->\n",
       "<g id=\"e4\" class=\"edge\">\n",
       "<title>n1:e&#45;&gt;n3:w</title>\n",
       "<path fill=\"none\" stroke=\"black\" d=\"M68,-72C112.72,-72 55.82,-138 86,-171 93.75,-179.48 99.72,-179.29 109.74,-179.07\"/>\n",
       "<polygon fill=\"black\" stroke=\"black\" points=\"110.02,-180.82 115,-179 109.98,-177.32 110.02,-180.82\"/>\n",
       "<text text-anchor=\"middle\" x=\"91.5\" y=\"-181.8\" font-family=\"Serif\" font-size=\"14.00\">R</text>\n",
       "</g>\n",
       "<!-- n2&#45;&gt;n3 -->\n",
       "<!-- R -->\n",
       "<g id=\"e5\" class=\"edge\">\n",
       "<title>n2:e&#45;&gt;n3:w</title>\n",
       "<path fill=\"none\" stroke=\"black\" d=\"M68,-25C127.64,-25 57.89,-147.49 109.95,-154.67\"/>\n",
       "<polygon fill=\"black\" stroke=\"black\" points=\"109.9,-156.42 115,-155 110.12,-152.93 109.9,-156.42\"/>\n",
       "<text text-anchor=\"middle\" x=\"91.5\" y=\"-152.8\" font-family=\"Serif\" font-size=\"14.00\">R</text>\n",
       "</g>\n",
       "<!-- n3&#45;&gt;n0out1 -->\n",
       "<!-- R -->\n",
       "<g id=\"e6\" class=\"edge\">\n",
       "<title>n3:e&#45;&gt;n0out1:w</title>\n",
       "<path fill=\"none\" stroke=\"black\" d=\"M135,-155C154.09,-155 160.1,-155 176.94,-155\"/>\n",
       "<polygon fill=\"black\" stroke=\"black\" points=\"177,-156.75 182,-155 177,-153.25 177,-156.75\"/>\n",
       "<text text-anchor=\"middle\" x=\"158.5\" y=\"-159.8\" font-family=\"Serif\" font-size=\"14.00\">R</text>\n",
       "</g>\n",
       "</g>\n",
       "</svg>\n"
      ],
      "text/plain": [
       "Graph(\"G\", true, \"dot\", Statement[Subgraph(\"\", Statement[Node(\"n0in1\", OrderedCollections.OrderedDict{Symbol, Union{String, Catlab.Graphics.Graphviz.Html}}(:id => \"in1\")), Node(\"n0in2\", OrderedCollections.OrderedDict{Symbol, Union{String, Catlab.Graphics.Graphviz.Html}}(:id => \"in2\")), Node(\"n0in3\", OrderedCollections.OrderedDict{Symbol, Union{String, Catlab.Graphics.Graphviz.Html}}(:id => \"in3\")), Edge(NodeID[NodeID(\"n0in1\", \"\", \"\"), NodeID(\"n0in2\", \"\", \"\"), NodeID(\"n0in3\", \"\", \"\")], OrderedCollections.OrderedDict{Symbol, Union{String, Catlab.Graphics.Graphviz.Html}}())], OrderedCollections.OrderedDict{Symbol, Union{String, Catlab.Graphics.Graphviz.Html}}(:rank => \"source\", :rankdir => \"TB\"), OrderedCollections.OrderedDict{Symbol, Union{String, Catlab.Graphics.Graphviz.Html}}(:style => \"invis\", :shape => \"none\", :label => \"\", :width => \"0\", :height => \"0.333\"), OrderedCollections.OrderedDict{Symbol, Union{String, Catlab.Graphics.Graphviz.Html}}(:style => \"invis\")), Subgraph(\"\", Statement[Node(\"n0out1\", OrderedCollections.OrderedDict{Symbol, Union{String, Catlab.Graphics.Graphviz.Html}}(:id => \"out1\"))], OrderedCollections.OrderedDict{Symbol, Union{String, Catlab.Graphics.Graphviz.Html}}(:rank => \"sink\", :rankdir => \"TB\"), OrderedCollections.OrderedDict{Symbol, Union{String, Catlab.Graphics.Graphviz.Html}}(:style => \"invis\", :shape => \"none\", :label => \"\", :width => \"0\", :height => \"0.333\"), OrderedCollections.OrderedDict{Symbol, Union{String, Catlab.Graphics.Graphviz.Html}}(:style => \"invis\")), Node(\"n1\", OrderedCollections.OrderedDict{Symbol, Union{String, Catlab.Graphics.Graphviz.Html}}(:color => \"black\", :comment => \"X\", :fillcolor => \"white\", :id => \"n1\", :label => Catlab.Graphics.Graphviz.Html(\"<TABLE BORDER=\\\"0\\\" CELLPADDING=\\\"0\\\" CELLSPACING=\\\"0\\\">\\n<TR>\\n<TD><TABLE BORDER=\\\"0\\\" CELLPADDING=\\\"0\\\" CELLSPACING=\\\"0\\\"><TR><TD HEIGHT=\\\"24\\\" WIDTH=\\\"0\\\" PORT=\\\"in1\\\"></TD></TR></TABLE></TD>\\n<TD BORDER=\\\"1\\\" CELLPADDING=\\\"4\\\">X</TD>\\n<TD><TABLE BORDER=\\\"0\\\" CELLPADDING=\\\"0\\\" CELLSPACING=\\\"0\\\"><TR><TD HEIGHT=\\\"24\\\" WIDTH=\\\"0\\\" PORT=\\\"out1\\\"></TD></TR></TABLE></TD>\\n</TR>\\n</TABLE>\"), :style => \"solid\")), Node(\"n2\", OrderedCollections.OrderedDict{Symbol, Union{String, Catlab.Graphics.Graphviz.Html}}(:color => \"black\", :comment => \"Y\", :fillcolor => \"white\", :id => \"n2\", :label => Catlab.Graphics.Graphviz.Html(\"<TABLE BORDER=\\\"0\\\" CELLPADDING=\\\"0\\\" CELLSPACING=\\\"0\\\">\\n<TR>\\n<TD><TABLE BORDER=\\\"0\\\" CELLPADDING=\\\"0\\\" CELLSPACING=\\\"0\\\"><TR><TD HEIGHT=\\\"24\\\" WIDTH=\\\"0\\\" PORT=\\\"in1\\\"></TD></TR></TABLE></TD>\\n<TD BORDER=\\\"1\\\" CELLPADDING=\\\"4\\\">Y</TD>\\n<TD><TABLE BORDER=\\\"0\\\" CELLPADDING=\\\"0\\\" CELLSPACING=\\\"0\\\"><TR><TD HEIGHT=\\\"24\\\" WIDTH=\\\"0\\\" PORT=\\\"out1\\\"></TD></TR></TABLE></TD>\\n</TR>\\n</TABLE>\"), :style => \"solid\")), Node(\"n3\", OrderedCollections.OrderedDict{Symbol, Union{String, Catlab.Graphics.Graphviz.Html}}(:color => \"black\", :comment => \"Z\", :fillcolor => \"white\", :id => \"n3\", :label => Catlab.Graphics.Graphviz.Html(\"<TABLE BORDER=\\\"0\\\" CELLPADDING=\\\"0\\\" CELLSPACING=\\\"0\\\">\\n<TR>\\n<TD><TABLE BORDER=\\\"0\\\" CELLPADDING=\\\"0\\\" CELLSPACING=\\\"0\\\"><TR><TD HEIGHT=\\\"24\\\" WIDTH=\\\"0\\\" PORT=\\\"in1\\\"></TD></TR><TR><TD HEIGHT=\\\"24\\\" WIDTH=\\\"0\\\" PORT=\\\"in2\\\"></TD></TR><TR><TD HEIGHT=\\\"24\\\" WIDTH=\\\"0\\\" PORT=\\\"in3\\\"></TD></TR></TABLE></TD>\\n<TD BORDER=\\\"1\\\" CELLPADDING=\\\"4\\\">Z</TD>\\n<TD><TABLE BORDER=\\\"0\\\" CELLPADDING=\\\"0\\\" CELLSPACING=\\\"0\\\"><TR><TD HEIGHT=\\\"24\\\" WIDTH=\\\"0\\\" PORT=\\\"out1\\\"></TD></TR></TABLE></TD>\\n</TR>\\n</TABLE>\"), :style => \"solid\")), Edge(NodeID[NodeID(\"n0in2\", \"e\", \"\"), NodeID(\"n1\", \"in1\", \"w\")], OrderedCollections.OrderedDict{Symbol, Union{String, Catlab.Graphics.Graphviz.Html}}(:comment => \"R\", :id => \"e1\", :label => \"R\")), Edge(NodeID[NodeID(\"n0in3\", \"e\", \"\"), NodeID(\"n2\", \"in1\", \"w\")], OrderedCollections.OrderedDict{Symbol, Union{String, Catlab.Graphics.Graphviz.Html}}(:comment => \"R\", :id => \"e2\", :label => \"R\")), Edge(NodeID[NodeID(\"n0in1\", \"e\", \"\"), NodeID(\"n3\", \"in3\", \"w\")], OrderedCollections.OrderedDict{Symbol, Union{String, Catlab.Graphics.Graphviz.Html}}(:comment => \"R\", :id => \"e3\", :label => \"R\")), Edge(NodeID[NodeID(\"n1\", \"out1\", \"e\"), NodeID(\"n3\", \"in1\", \"w\")], OrderedCollections.OrderedDict{Symbol, Union{String, Catlab.Graphics.Graphviz.Html}}(:comment => \"R\", :id => \"e4\", :label => \"R\")), Edge(NodeID[NodeID(\"n2\", \"out1\", \"e\"), NodeID(\"n3\", \"in2\", \"w\")], OrderedCollections.OrderedDict{Symbol, Union{String, Catlab.Graphics.Graphviz.Html}}(:comment => \"R\", :id => \"e5\", :label => \"R\")), Edge(NodeID[NodeID(\"n3\", \"out1\", \"e\"), NodeID(\"n0out1\", \"w\", \"\")], OrderedCollections.OrderedDict{Symbol, Union{String, Catlab.Graphics.Graphviz.Html}}(:comment => \"R\", :id => \"e6\", :label => \"R\"))], OrderedCollections.OrderedDict{Symbol, Union{String, Catlab.Graphics.Graphviz.Html}}(:fontname => \"Serif\", :rankdir => \"LR\"), OrderedCollections.OrderedDict{Symbol, Union{String, Catlab.Graphics.Graphviz.Html}}(:fontname => \"Serif\", :shape => \"none\", :width => \"0\", :height => \"0\", :margin => \"0\"), OrderedCollections.OrderedDict{Symbol, Union{String, Catlab.Graphics.Graphviz.Html}}(:arrowsize => \"0.5\", :fontname => \"Serif\"))"
      ]
     },
     "execution_count": 13,
     "metadata": {},
     "output_type": "execute_result"
    }
   ],
   "source": [
    "system = WiringDiagram([:R, :R, :R], [:R])\n",
    "\n",
    "xbox = add_box!(system, Box(:X, [:R], [:R]))\n",
    "ybox = add_box!(system, Box(:Y, [:R], [:R]))\n",
    "zbox = add_box!(system, Box(:Z, [:R, :R, :R], [:R]))\n",
    "\n",
    "add_wires!(system, [   \n",
    "    (xbox,1) => (zbox,1),\n",
    "    (ybox,1) => (zbox,2),\n",
    "    (zbox,1) => (output_id(system),1),\n",
    "    (input_id(system),2) => (xbox,1), \n",
    "    (input_id(system),3) => (ybox,1), \n",
    "    (input_id(system),1) => (zbox,3),   \n",
    "])\n",
    "\n",
    "to_graphviz(system, orientation=LeftToRight, labels=true)"
   ]
  },
  {
   "cell_type": "code",
   "execution_count": 14,
   "id": "7e6146a7",
   "metadata": {},
   "outputs": [
    {
     "data": {
      "text/plain": []
     },
     "execution_count": 14,
     "metadata": {},
     "output_type": "execute_result"
    },
    {
     "name": "stdout",
     "output_type": "stream",
     "text": [
      "StaticContract( [3.0,5.0] × [7.0,9.0] × ℝ × [0.0,1.0] )"
     ]
    }
   ],
   "source": [
    "# Contracts for each box\n",
    "rx = StaticContract{Float64}( [4.0..5.0], [4.0..5.0] )\n",
    "ry = StaticContract{Float64}( [8.0..9.0], [8.0..9.0] )\n",
    "rz = StaticContract{Float64}( [3.0..5.0, 7.0..9.0, -Inf..Inf], [0.0..1.0] )"
   ]
  },
  {
   "cell_type": "code",
   "execution_count": 15,
   "id": "f4657a13",
   "metadata": {},
   "outputs": [
    {
     "data": {
      "text/plain": []
     },
     "execution_count": 15,
     "metadata": {},
     "output_type": "execute_result"
    },
    {
     "name": "stdout",
     "output_type": "stream",
     "text": [
      "StaticContract( [4.0,5.0] × [8.0,9.0] × ℝ × [0.0,1.0] )"
     ]
    }
   ],
   "source": [
    "# Net contract for system\n",
    "oapply(system, Dict(:X=>rx, :Y=>ry, :Z=>rz)) "
   ]
  },
  {
   "cell_type": "markdown",
   "id": "40198da0",
   "metadata": {},
   "source": [
    "### 3. Composite contracts for UAV system\n",
    "\n",
    "Arbitrary contracts for the UAV example in p.22 of Categorical semantics (use the link of example 1)."
   ]
  },
  {
   "cell_type": "code",
   "execution_count": 16,
   "id": "e82735ad",
   "metadata": {},
   "outputs": [
    {
     "data": {
      "image/svg+xml": [
       "<?xml version=\"1.0\" encoding=\"UTF-8\" standalone=\"no\"?>\n",
       "<!DOCTYPE svg PUBLIC \"-//W3C//DTD SVG 1.1//EN\"\n",
       " \"http://www.w3.org/Graphics/SVG/1.1/DTD/svg11.dtd\">\n",
       "<!-- Generated by graphviz version 2.43.0 (0)\n",
       " -->\n",
       "<!-- Title: G Pages: 1 -->\n",
       "<svg width=\"452pt\" height=\"126pt\"\n",
       " viewBox=\"0.00 0.00 452.00 126.00\" xmlns=\"http://www.w3.org/2000/svg\" xmlns:xlink=\"http://www.w3.org/1999/xlink\">\n",
       "<g id=\"graph0\" class=\"graph\" transform=\"scale(1 1) rotate(0) translate(4 122)\">\n",
       "<title>G</title>\n",
       "<polygon fill=\"white\" stroke=\"transparent\" points=\"-4,4 -4,-122 448,-122 448,4 -4,4\"/>\n",
       "<!-- n0in1 -->\n",
       "<!-- n0in2 -->\n",
       "<!-- n0in1&#45;&gt;n0in2 -->\n",
       "<!-- n1 -->\n",
       "<!-- sensor -->\n",
       "<g id=\"n1\" class=\"node\">\n",
       "<title>n1</title>\n",
       "<polygon fill=\"none\" stroke=\"black\" points=\"46,-57 46,-105 104,-105 104,-57 46,-57\"/>\n",
       "<text text-anchor=\"start\" x=\"51\" y=\"-77.3\" font-family=\"Serif\" font-size=\"14.00\">sensor</text>\n",
       "</g>\n",
       "<!-- n0in1&#45;&gt;n1 -->\n",
       "<!-- e -->\n",
       "<g id=\"e1\" class=\"edge\">\n",
       "<title>n0in1:e&#45;&gt;n1:w</title>\n",
       "<path fill=\"none\" stroke=\"black\" d=\"M1,-72C19.17,-72 24.9,-69.54 40.74,-69.07\"/>\n",
       "<polygon fill=\"black\" stroke=\"black\" points=\"41.03,-70.82 46,-69 40.98,-67.32 41.03,-70.82\"/>\n",
       "<text text-anchor=\"middle\" x=\"23.5\" y=\"-74.8\" font-family=\"Serif\" font-size=\"14.00\">e</text>\n",
       "</g>\n",
       "<!-- n2 -->\n",
       "<!-- controller -->\n",
       "<g id=\"n2\" class=\"node\">\n",
       "<title>n2</title>\n",
       "<polygon fill=\"none\" stroke=\"black\" points=\"197,-9 197,-57 277,-57 277,-9 197,-9\"/>\n",
       "<text text-anchor=\"start\" x=\"202\" y=\"-29.3\" font-family=\"Serif\" font-size=\"14.00\">controller</text>\n",
       "</g>\n",
       "<!-- n0in2&#45;&gt;n2 -->\n",
       "<!-- d -->\n",
       "<g id=\"e2\" class=\"edge\">\n",
       "<title>n0in2:e&#45;&gt;n2:w</title>\n",
       "<path fill=\"none\" stroke=\"black\" d=\"M1,-12C86.5,-12 108.93,-20.65 191.96,-20.99\"/>\n",
       "<polygon fill=\"black\" stroke=\"black\" points=\"192,-22.74 197,-21 192,-19.24 192,-22.74\"/>\n",
       "<text text-anchor=\"middle\" x=\"75\" y=\"-20.8\" font-family=\"Serif\" font-size=\"14.00\">d</text>\n",
       "</g>\n",
       "<!-- n0out1 -->\n",
       "<!-- n1&#45;&gt;n2 -->\n",
       "<!-- s_prime -->\n",
       "<g id=\"e3\" class=\"edge\">\n",
       "<title>n1:e&#45;&gt;n2:w</title>\n",
       "<path fill=\"none\" stroke=\"black\" d=\"M104,-81C115,-81 112.36,-69.3 122,-64 150.61,-48.28 161.5,-45.28 191.94,-45.02\"/>\n",
       "<polygon fill=\"black\" stroke=\"black\" points=\"192.01,-46.77 197,-45 191.99,-43.27 192.01,-46.77\"/>\n",
       "<text text-anchor=\"middle\" x=\"150.5\" y=\"-67.8\" font-family=\"Serif\" font-size=\"14.00\">s_prime</text>\n",
       "</g>\n",
       "<!-- n3 -->\n",
       "<!-- dynamics -->\n",
       "<g id=\"n3\" class=\"node\">\n",
       "<title>n3</title>\n",
       "<polygon fill=\"none\" stroke=\"black\" points=\"321,-51 321,-76 399,-76 399,-51 321,-51\"/>\n",
       "<text text-anchor=\"start\" x=\"326\" y=\"-59.8\" font-family=\"Serif\" font-size=\"14.00\">dynamics</text>\n",
       "</g>\n",
       "<!-- n2&#45;&gt;n3 -->\n",
       "<!-- c -->\n",
       "<g id=\"e4\" class=\"edge\">\n",
       "<title>n2:e&#45;&gt;n3:w</title>\n",
       "<path fill=\"none\" stroke=\"black\" d=\"M277,-33C298.82,-33 297.69,-58.5 315.92,-62.48\"/>\n",
       "<polygon fill=\"black\" stroke=\"black\" points=\"315.85,-64.23 321,-63 316.2,-60.75 315.85,-64.23\"/>\n",
       "<text text-anchor=\"middle\" x=\"299\" y=\"-57.8\" font-family=\"Serif\" font-size=\"14.00\">c</text>\n",
       "</g>\n",
       "<!-- n3&#45;&gt;n0out1 -->\n",
       "<!-- s -->\n",
       "<g id=\"e6\" class=\"edge\">\n",
       "<title>n3:e&#45;&gt;n0out1:w</title>\n",
       "<path fill=\"none\" stroke=\"black\" d=\"M399,-63C416.72,-63 422.4,-63 437.86,-63\"/>\n",
       "<polygon fill=\"black\" stroke=\"black\" points=\"438,-64.75 443,-63 438,-61.25 438,-64.75\"/>\n",
       "<text text-anchor=\"middle\" x=\"421\" y=\"-66.8\" font-family=\"Serif\" font-size=\"14.00\">s</text>\n",
       "</g>\n",
       "<!-- n3&#45;&gt;n1 -->\n",
       "<!-- s -->\n",
       "<g id=\"e5\" class=\"edge\">\n",
       "<title>n3:e&#45;&gt;n1:w</title>\n",
       "<path fill=\"none\" stroke=\"black\" d=\"M400,-63C411.87,-63 411.2,-9.38 321,-51.5 309.71,-56.77 313.84,-66.84 303,-73 225.11,-117.25 193.3,-97.87 104,-105 78.3,-107.05 64.97,-122.45 46,-105 43.91,-103.07 42.25,-99.81 41.95,-97.17\"/>\n",
       "<polygon fill=\"black\" stroke=\"black\" points=\"43.46,-98.07 45,-93 40.64,-96 43.46,-98.07\"/>\n",
       "<text text-anchor=\"middle\" x=\"237\" y=\"-106.8\" font-family=\"Serif\" font-size=\"14.00\">s</text>\n",
       "</g>\n",
       "</g>\n",
       "</svg>\n"
      ],
      "text/plain": [
       "Graph(\"G\", true, \"dot\", Statement[Subgraph(\"\", Statement[Node(\"n0in1\", OrderedCollections.OrderedDict{Symbol, Union{String, Catlab.Graphics.Graphviz.Html}}(:id => \"in1\")), Node(\"n0in2\", OrderedCollections.OrderedDict{Symbol, Union{String, Catlab.Graphics.Graphviz.Html}}(:id => \"in2\")), Edge(NodeID[NodeID(\"n0in1\", \"\", \"\"), NodeID(\"n0in2\", \"\", \"\")], OrderedCollections.OrderedDict{Symbol, Union{String, Catlab.Graphics.Graphviz.Html}}())], OrderedCollections.OrderedDict{Symbol, Union{String, Catlab.Graphics.Graphviz.Html}}(:rank => \"source\", :rankdir => \"TB\"), OrderedCollections.OrderedDict{Symbol, Union{String, Catlab.Graphics.Graphviz.Html}}(:style => \"invis\", :shape => \"none\", :label => \"\", :width => \"0\", :height => \"0.333\"), OrderedCollections.OrderedDict{Symbol, Union{String, Catlab.Graphics.Graphviz.Html}}(:style => \"invis\")), Subgraph(\"\", Statement[Node(\"n0out1\", OrderedCollections.OrderedDict{Symbol, Union{String, Catlab.Graphics.Graphviz.Html}}(:id => \"out1\"))], OrderedCollections.OrderedDict{Symbol, Union{String, Catlab.Graphics.Graphviz.Html}}(:rank => \"sink\", :rankdir => \"TB\"), OrderedCollections.OrderedDict{Symbol, Union{String, Catlab.Graphics.Graphviz.Html}}(:style => \"invis\", :shape => \"none\", :label => \"\", :width => \"0\", :height => \"0.333\"), OrderedCollections.OrderedDict{Symbol, Union{String, Catlab.Graphics.Graphviz.Html}}(:style => \"invis\")), Node(\"n1\", OrderedCollections.OrderedDict{Symbol, Union{String, Catlab.Graphics.Graphviz.Html}}(:color => \"black\", :comment => \"sensor\", :fillcolor => \"white\", :id => \"n1\", :label => Catlab.Graphics.Graphviz.Html(\"<TABLE BORDER=\\\"0\\\" CELLPADDING=\\\"0\\\" CELLSPACING=\\\"0\\\">\\n<TR>\\n<TD><TABLE BORDER=\\\"0\\\" CELLPADDING=\\\"0\\\" CELLSPACING=\\\"0\\\"><TR><TD HEIGHT=\\\"24\\\" WIDTH=\\\"0\\\" PORT=\\\"in1\\\"></TD></TR><TR><TD HEIGHT=\\\"24\\\" WIDTH=\\\"0\\\" PORT=\\\"in2\\\"></TD></TR></TABLE></TD>\\n<TD BORDER=\\\"1\\\" CELLPADDING=\\\"4\\\">sensor</TD>\\n<TD><TABLE BORDER=\\\"0\\\" CELLPADDING=\\\"0\\\" CELLSPACING=\\\"0\\\"><TR><TD HEIGHT=\\\"24\\\" WIDTH=\\\"0\\\" PORT=\\\"out1\\\"></TD></TR></TABLE></TD>\\n</TR>\\n</TABLE>\"), :style => \"solid\")), Node(\"n2\", OrderedCollections.OrderedDict{Symbol, Union{String, Catlab.Graphics.Graphviz.Html}}(:color => \"black\", :comment => \"controller\", :fillcolor => \"white\", :id => \"n2\", :label => Catlab.Graphics.Graphviz.Html(\"<TABLE BORDER=\\\"0\\\" CELLPADDING=\\\"0\\\" CELLSPACING=\\\"0\\\">\\n<TR>\\n<TD><TABLE BORDER=\\\"0\\\" CELLPADDING=\\\"0\\\" CELLSPACING=\\\"0\\\"><TR><TD HEIGHT=\\\"24\\\" WIDTH=\\\"0\\\" PORT=\\\"in1\\\"></TD></TR><TR><TD HEIGHT=\\\"24\\\" WIDTH=\\\"0\\\" PORT=\\\"in2\\\"></TD></TR></TABLE></TD>\\n<TD BORDER=\\\"1\\\" CELLPADDING=\\\"4\\\">controller</TD>\\n<TD><TABLE BORDER=\\\"0\\\" CELLPADDING=\\\"0\\\" CELLSPACING=\\\"0\\\"><TR><TD HEIGHT=\\\"24\\\" WIDTH=\\\"0\\\" PORT=\\\"out1\\\"></TD></TR></TABLE></TD>\\n</TR>\\n</TABLE>\"), :style => \"solid\")), Node(\"n3\", OrderedCollections.OrderedDict{Symbol, Union{String, Catlab.Graphics.Graphviz.Html}}(:color => \"black\", :comment => \"dynamics\", :fillcolor => \"white\", :id => \"n3\", :label => Catlab.Graphics.Graphviz.Html(\"<TABLE BORDER=\\\"0\\\" CELLPADDING=\\\"0\\\" CELLSPACING=\\\"0\\\">\\n<TR>\\n<TD><TABLE BORDER=\\\"0\\\" CELLPADDING=\\\"0\\\" CELLSPACING=\\\"0\\\"><TR><TD HEIGHT=\\\"24\\\" WIDTH=\\\"0\\\" PORT=\\\"in1\\\"></TD></TR></TABLE></TD>\\n<TD BORDER=\\\"1\\\" CELLPADDING=\\\"4\\\">dynamics</TD>\\n<TD><TABLE BORDER=\\\"0\\\" CELLPADDING=\\\"0\\\" CELLSPACING=\\\"0\\\"><TR><TD HEIGHT=\\\"24\\\" WIDTH=\\\"0\\\" PORT=\\\"out1\\\"></TD></TR></TABLE></TD>\\n</TR>\\n</TABLE>\"), :style => \"solid\")), Edge(NodeID[NodeID(\"n0in1\", \"e\", \"\"), NodeID(\"n1\", \"in2\", \"w\")], OrderedCollections.OrderedDict{Symbol, Union{String, Catlab.Graphics.Graphviz.Html}}(:comment => \"e\", :id => \"e1\", :label => \"e\")), Edge(NodeID[NodeID(\"n0in2\", \"e\", \"\"), NodeID(\"n2\", \"in2\", \"w\")], OrderedCollections.OrderedDict{Symbol, Union{String, Catlab.Graphics.Graphviz.Html}}(:comment => \"d\", :id => \"e2\", :label => \"d\")), Edge(NodeID[NodeID(\"n1\", \"out1\", \"e\"), NodeID(\"n2\", \"in1\", \"w\")], OrderedCollections.OrderedDict{Symbol, Union{String, Catlab.Graphics.Graphviz.Html}}(:comment => \"s_prime\", :id => \"e3\", :label => \"s_prime\")), Edge(NodeID[NodeID(\"n2\", \"out1\", \"e\"), NodeID(\"n3\", \"in1\", \"w\")], OrderedCollections.OrderedDict{Symbol, Union{String, Catlab.Graphics.Graphviz.Html}}(:comment => \"c\", :id => \"e4\", :label => \"c\")), Edge(NodeID[NodeID(\"n3\", \"out1\", \"e\"), NodeID(\"n1\", \"in1\", \"w\")], OrderedCollections.OrderedDict{Symbol, Union{String, Catlab.Graphics.Graphviz.Html}}(:comment => \"s\", :id => \"e5\", :label => \"s\")), Edge(NodeID[NodeID(\"n3\", \"out1\", \"e\"), NodeID(\"n0out1\", \"w\", \"\")], OrderedCollections.OrderedDict{Symbol, Union{String, Catlab.Graphics.Graphviz.Html}}(:comment => \"s\", :id => \"e6\", :label => \"s\"))], OrderedCollections.OrderedDict{Symbol, Union{String, Catlab.Graphics.Graphviz.Html}}(:fontname => \"Serif\", :rankdir => \"LR\"), OrderedCollections.OrderedDict{Symbol, Union{String, Catlab.Graphics.Graphviz.Html}}(:fontname => \"Serif\", :shape => \"none\", :width => \"0\", :height => \"0\", :margin => \"0\"), OrderedCollections.OrderedDict{Symbol, Union{String, Catlab.Graphics.Graphviz.Html}}(:arrowsize => \"0.5\", :fontname => \"Serif\"))"
      ]
     },
     "execution_count": 16,
     "metadata": {},
     "output_type": "execute_result"
    }
   ],
   "source": [
    "UAV = WiringDiagram([:e,:d], [:s])\n",
    "\n",
    "sensor     = add_box!(UAV, Box(:sensor    , [:s, :e]      , [:s_prime]))\n",
    "controller = add_box!(UAV, Box(:controller, [:s_prime, :d], [:c]))\n",
    "dynamics   = add_box!(UAV, Box(:dynamics  , [:c]          , [:s]))\n",
    "\n",
    "add_wires!(UAV, [     \n",
    "  (input_id(UAV),1) => (sensor,2),\n",
    "  (input_id(UAV),2) => (controller,2),\n",
    "  (sensor,1) => (controller,1),\n",
    "  (controller,1) => (dynamics,1),\n",
    "  (dynamics,1) => (sensor,1),\n",
    "  (dynamics,1) => (output_id(UAV),1)\n",
    "])\n",
    "\n",
    "to_graphviz(UAV, orientation=LeftToRight, labels=true)"
   ]
  },
  {
   "cell_type": "code",
   "execution_count": 17,
   "id": "d8010baa",
   "metadata": {},
   "outputs": [
    {
     "data": {
      "text/plain": []
     },
     "execution_count": 17,
     "metadata": {},
     "output_type": "execute_result"
    },
    {
     "name": "stdout",
     "output_type": "stream",
     "text": [
      "StaticContract( ℝ × [-35.0,35.0] )"
     ]
    }
   ],
   "source": [
    "# Define the contracts for each box\n",
    "s_machine = StaticContract{Float64}([-Inf..Inf,  0.0..100.0], # Inputs -> [:s, :e]      \n",
    "                                    [-Inf..Inf])              # Outputs -> [:s_prime]\n",
    "\n",
    "c_machine = StaticContract{Float64}([-Inf..Inf,  -20.0..20.0],# Inputs -> [:s_prime, :d]\n",
    "                                    [-Inf..Inf])              # Outputs -> [:c]\n",
    "\n",
    "d_machine = StaticContract{Float64}([-Inf..Inf],     # Inputs -> [:c]\n",
    "                                    [-35.0..35.0])   # Outputs -> [:s]"
   ]
  },
  {
   "cell_type": "code",
   "execution_count": 18,
   "id": "c651ece7",
   "metadata": {},
   "outputs": [
    {
     "data": {
      "text/plain": []
     },
     "execution_count": 18,
     "metadata": {},
     "output_type": "execute_result"
    },
    {
     "name": "stdout",
     "output_type": "stream",
     "text": [
      "StaticContract( [0.0,100.0] × [-20.0,20.0] × [-35.0,35.0] )"
     ]
    }
   ],
   "source": [
    "# compose system\n",
    "comp = oapply(UAV, Dict(:sensor => s_machine, \n",
    "                        :controller => c_machine, \n",
    "                        :dynamics => d_machine))"
   ]
  }
 ],
 "metadata": {
  "@webio": {
   "lastCommId": null,
   "lastKernelId": null
  },
  "kernelspec": {
   "display_name": "Julia 1.7.1",
   "language": "julia",
   "name": "julia-1.7"
  },
  "language_info": {
   "file_extension": ".jl",
   "mimetype": "application/julia",
   "name": "julia",
   "version": "1.7.1"
  }
 },
 "nbformat": 4,
 "nbformat_minor": 5
}
