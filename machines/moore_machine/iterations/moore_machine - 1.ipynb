{
 "cells": [
  {
   "cell_type": "markdown",
   "id": "32960627",
   "metadata": {},
   "source": [
    "# Moore Machines\n",
    "This notebook explores implementing the [finite state](https://en.wikipedia.org/wiki/Finite-state_machine) machine of a moore diagram by parsing a [wiring diagram](https://algebraicjulia.github.io/Catlab.jl/dev/generated/wiring_diagrams/wiring_diagram_basics/) from Catlab."
   ]
  },
  {
   "cell_type": "code",
   "execution_count": 1,
   "id": "9e3398fa",
   "metadata": {},
   "outputs": [],
   "source": [
    "# Libraries\n",
    "using AlgebraicDynamics\n",
    "using AlgebraicDynamics.DWDDynam\n",
    "using Catlab.WiringDiagrams\n",
    "using Catlab.Graphics\n",
    "using Catlab.Graphics.Graphviz"
   ]
  },
  {
   "cell_type": "code",
   "execution_count": 20,
   "id": "7c38cbfe",
   "metadata": {},
   "outputs": [
    {
     "data": {
      "text/plain": [
       "show_diagram (generic function with 1 method)"
      ]
     },
     "execution_count": 20,
     "metadata": {},
     "output_type": "execute_result"
    }
   ],
   "source": [
    "# Helper function to show graph\n",
    "show_diagram(d::WiringDiagram) = to_graphviz(d, orientation=LeftToRight, labels=true)"
   ]
  },
  {
   "cell_type": "code",
   "execution_count": null,
   "id": "a30ff31b",
   "metadata": {},
   "outputs": [],
   "source": [
    "# Display table of results\n",
    "\n",
    "function printResult(x, s)\n",
    "    # Legend\n",
    "    println(\"x | s\")\n",
    "    println(\"-----\")\n",
    "    # Rows\n",
    "    for i = 1:length(x)\n",
    "        println( x[i], \" | \", s[i] )\n",
    "    end\n",
    "end"
   ]
  },
  {
   "cell_type": "markdown",
   "id": "d7410a0d",
   "metadata": {},
   "source": [
    "---\n",
    "# Parsing a graph\n",
    "\n",
    "One way to implement a moore machine is to directly use the diagram to determine a return value. After all, it encodes the information to determine the state, what inputs are acceptable, and how one state transfers to the other.   \n",
    "\n",
    "The concept is simple:  \n",
    "Use a wiring diagram and construct a function using the rules from a moore machine. This function receives one input and returns the current state. One requires a readout function to determine the output of the function given the state. The diagram just determines the state given an input."
   ]
  },
  {
   "cell_type": "code",
   "execution_count": 19,
   "id": "3412a703",
   "metadata": {},
   "outputs": [],
   "source": [
    "# Source: https://github.com/AlgebraicJulia/Catlab.jl/blob/master/src/wiring_diagrams/Directed.jl\n",
    "\n",
    "\"\"\"\n",
    "@auto_hash_equals struct Wire{Value}\n",
    "  value::Value\n",
    "  source::Port\n",
    "  target::Port\n",
    "end\n",
    "\n",
    "@auto_hash_equals struct Port\n",
    "  box::Int\n",
    "  kind::PortKind\n",
    "  port::Int\n",
    "end\n",
    "\n",
    "@auto_hash_equals struct Box{Value} <: AbstractBox\n",
    "  value::Value\n",
    "  input_ports::Vector\n",
    "  output_ports::Vector\n",
    "end\n",
    "\n",
    "boxes(f::WiringDiagram) \n",
    "nboxes(f::WiringDiagram) \n",
    "box_ids(f::WiringDiagram) \n",
    "\n",
    "wires(f::WiringDiagram, type::Symbol)\n",
    "nwires(f::WiringDiagram, type::Symbol)\n",
    "out_wires(f::WiringDiagram, b::Int)\n",
    "\"\"\";"
   ]
  },
  {
   "cell_type": "code",
   "execution_count": 9,
   "id": "82939868",
   "metadata": {},
   "outputs": [],
   "source": [
    "mutable struct MooreMachine\n",
    "    diagram::WiringDiagram\n",
    "    state_id::Int\n",
    "\n",
    "    # Constructor\n",
    "    function MooreMachine( diagram::WiringDiagram, initial_state::Any )                \n",
    "        # Check initial state\n",
    "        state_id = findall( box -> box.value == initial_state, boxes(diagram) )\n",
    "        \n",
    "        if isempty(state_id) == true\n",
    "            error(\"Given state does not exist\")\n",
    "        else \n",
    "            new(diagram, state_id[1])  # Use first state that was found\n",
    "        end\n",
    "    end\n",
    "end"
   ]
  },
  {
   "cell_type": "code",
   "execution_count": 10,
   "id": "6f7736e1",
   "metadata": {},
   "outputs": [
    {
     "data": {
      "text/plain": [
       "eval_machine (generic function with 1 method)"
      ]
     },
     "execution_count": 10,
     "metadata": {},
     "output_type": "execute_result"
    }
   ],
   "source": [
    "## Update the state of a moore machine given an input\n",
    "\n",
    "function eval_machine(machine::MooreMachine, input::Any)\n",
    "    # Update state\n",
    "    trans_input = boxes(machine.diagram)[machine.state_id].output_ports\n",
    "    \n",
    "    out_index = findall( x-> x == input, trans_input )\n",
    "    if isempty(out_index) == true\n",
    "        error(\"Input is not defined for state\")\n",
    "    else\n",
    "        machine.state_id = out_wires(machine.diagram, machine.state_id)[ out_index[1] ].target.box   \n",
    "    end\n",
    "    \n",
    "    # Readout state\n",
    "    return boxes(machine.diagram)[machine.state_id].value\n",
    "end\n"
   ]
  },
  {
   "cell_type": "code",
   "execution_count": 11,
   "id": "dd0c39a8",
   "metadata": {},
   "outputs": [
    {
     "data": {
      "text/plain": [
       "set_state (generic function with 1 method)"
      ]
     },
     "execution_count": 11,
     "metadata": {},
     "output_type": "execute_result"
    }
   ],
   "source": [
    "## Set the current state of a Moore Machine\n",
    "\n",
    "function set_state(machine::MooreMachine, target_state::Any)\n",
    "    # Find index of state\n",
    "    id = findall( box -> box.value == target_state, boxes(machine.diagram) )\n",
    "    \n",
    "    # Check if state was found\n",
    "    if isempty(id)\n",
    "        error(\"Given state does not exist\")\n",
    "    else\n",
    "        machine.state_id = id[1]\n",
    "    end\n",
    "end"
   ]
  },
  {
   "cell_type": "markdown",
   "id": "c46ec7ee",
   "metadata": {},
   "source": [
    "---\n",
    "### 1. Machine with 2 nodes - Simple graph\n",
    "Parsing allows use a wiring diagram that matches the diagram of the moore machine. This means there is a one-to-one correspondence between the visual represenation and the excution of the actual function."
   ]
  },
  {
   "cell_type": "markdown",
   "id": "39e98974",
   "metadata": {},
   "source": [
    "<img src=\"https://raw.githubusercontent.com/rgCategory/composition_notebook/main/images/moore_machine_crop.png\" width=\"40%\">"
   ]
  },
  {
   "cell_type": "code",
   "execution_count": 12,
   "id": "86cbd321",
   "metadata": {},
   "outputs": [
    {
     "data": {
      "image/svg+xml": [
       "<?xml version=\"1.0\" encoding=\"UTF-8\" standalone=\"no\"?>\n",
       "<!DOCTYPE svg PUBLIC \"-//W3C//DTD SVG 1.1//EN\"\n",
       " \"http://www.w3.org/Graphics/SVG/1.1/DTD/svg11.dtd\">\n",
       "<!-- Generated by graphviz version 2.43.0 (0)\n",
       " -->\n",
       "<!-- Title: G Pages: 1 -->\n",
       "<svg width=\"120pt\" height=\"100pt\"\n",
       " viewBox=\"0.00 0.00 119.74 100.18\" xmlns=\"http://www.w3.org/2000/svg\" xmlns:xlink=\"http://www.w3.org/1999/xlink\">\n",
       "<g id=\"graph0\" class=\"graph\" transform=\"scale(1 1) rotate(0) translate(4 96.18)\">\n",
       "<title>G</title>\n",
       "<polygon fill=\"white\" stroke=\"transparent\" points=\"-4,4 -4,-96.18 115.74,-96.18 115.74,4 -4,4\"/>\n",
       "<!-- n1 -->\n",
       "<!-- s1 -->\n",
       "<g id=\"n1\" class=\"node\">\n",
       "<title>n1</title>\n",
       "<polygon fill=\"none\" stroke=\"black\" points=\"5.84,-11.18 5.84,-59.18 32.84,-59.18 32.84,-11.18 5.84,-11.18\"/>\n",
       "<text text-anchor=\"start\" x=\"10.84\" y=\"-31.48\" font-family=\"Serif\" font-size=\"14.00\">s1</text>\n",
       "</g>\n",
       "<!-- n1&#45;&gt;n1 -->\n",
       "<!-- 1 -->\n",
       "<g id=\"e1\" class=\"edge\">\n",
       "<title>n1:e&#45;&gt;n1:w</title>\n",
       "<path fill=\"none\" stroke=\"black\" d=\"M32.84,-47.18C41.84,-61.18 41.84,-77.18 19.34,-77.18 -0.7,-77.18 -2.89,-64.49 3.22,-51.83\"/>\n",
       "<polygon fill=\"black\" stroke=\"black\" points=\"4.91,-52.4 5.84,-47.18 1.86,-50.68 4.91,-52.4\"/>\n",
       "<text text-anchor=\"middle\" x=\"18.84\" y=\"-80.98\" font-family=\"Serif\" font-size=\"14.00\">1</text>\n",
       "</g>\n",
       "<!-- n2 -->\n",
       "<!-- s2 -->\n",
       "<g id=\"n2\" class=\"node\">\n",
       "<title>n2</title>\n",
       "<polygon fill=\"none\" stroke=\"black\" points=\"78.84,-11.18 78.84,-59.18 105.84,-59.18 105.84,-11.18 78.84,-11.18\"/>\n",
       "<text text-anchor=\"start\" x=\"83.84\" y=\"-31.48\" font-family=\"Serif\" font-size=\"14.00\">s2</text>\n",
       "</g>\n",
       "<!-- n1&#45;&gt;n2 -->\n",
       "<!-- 0 -->\n",
       "<g id=\"e3\" class=\"edge\">\n",
       "<title>n1:e&#45;&gt;n2:w</title>\n",
       "<path fill=\"none\" stroke=\"black\" d=\"M32.34,-23.18C50.86,-23.18 56.8,-23.18 72.96,-23.18\"/>\n",
       "<polygon fill=\"black\" stroke=\"black\" points=\"73.34,-24.93 78.34,-23.18 73.34,-21.43 73.34,-24.93\"/>\n",
       "<text text-anchor=\"middle\" x=\"55.34\" y=\"-26.98\" font-family=\"Serif\" font-size=\"14.00\">0</text>\n",
       "</g>\n",
       "<!-- n2&#45;&gt;n1 -->\n",
       "<!-- 1 -->\n",
       "<g id=\"e4\" class=\"edge\">\n",
       "<title>n2:e&#45;&gt;n1:w</title>\n",
       "<path fill=\"none\" stroke=\"black\" d=\"M106.84,-23.18C112.19,-23.18 109.49,-15.1 105.84,-11.18 88.88,7 75.12,-2.25 50.34,-4.18 30.38,-5.74 19.47,3.48 5.84,-11.18 3.9,-13.27 2.23,-16.52 1.89,-19.12\"/>\n",
       "<polygon fill=\"black\" stroke=\"black\" points=\"0.48,-20.16 4.84,-23.18 3.32,-18.11 0.48,-20.16\"/>\n",
       "<text text-anchor=\"middle\" x=\"55.34\" y=\"-7.98\" font-family=\"Serif\" font-size=\"14.00\">1</text>\n",
       "</g>\n",
       "<!-- n2&#45;&gt;n2 -->\n",
       "<!-- 0 -->\n",
       "<g id=\"e2\" class=\"edge\">\n",
       "<title>n2:e&#45;&gt;n2:w</title>\n",
       "<path fill=\"none\" stroke=\"black\" d=\"M105.84,-47.18C114.84,-61.18 114.84,-77.18 92.34,-77.18 72.3,-77.18 70.11,-64.49 76.22,-51.83\"/>\n",
       "<polygon fill=\"black\" stroke=\"black\" points=\"77.91,-52.4 78.84,-47.18 74.86,-50.68 77.91,-52.4\"/>\n",
       "<text text-anchor=\"middle\" x=\"91.84\" y=\"-80.98\" font-family=\"Serif\" font-size=\"14.00\">0</text>\n",
       "</g>\n",
       "</g>\n",
       "</svg>\n"
      ],
      "text/plain": [
       "Graph(\"G\", true, \"dot\", Statement[Node(\"n1\", OrderedCollections.OrderedDict{Symbol, Union{String, Catlab.Graphics.Graphviz.Html}}(:color => \"black\", :comment => \"s1\", :fillcolor => \"white\", :id => \"n1\", :label => Catlab.Graphics.Graphviz.Html(\"<TABLE BORDER=\\\"0\\\" CELLPADDING=\\\"0\\\" CELLSPACING=\\\"0\\\">\\n<TR>\\n<TD><TABLE BORDER=\\\"0\\\" CELLPADDING=\\\"0\\\" CELLSPACING=\\\"0\\\"><TR><TD HEIGHT=\\\"24\\\" WIDTH=\\\"0\\\" PORT=\\\"in1\\\"></TD></TR><TR><TD HEIGHT=\\\"24\\\" WIDTH=\\\"0\\\" PORT=\\\"in2\\\"></TD></TR></TABLE></TD>\\n<TD BORDER=\\\"1\\\" CELLPADDING=\\\"4\\\">s1</TD>\\n<TD><TABLE BORDER=\\\"0\\\" CELLPADDING=\\\"0\\\" CELLSPACING=\\\"0\\\"><TR><TD HEIGHT=\\\"24\\\" WIDTH=\\\"0\\\" PORT=\\\"out1\\\"></TD></TR><TR><TD HEIGHT=\\\"24\\\" WIDTH=\\\"0\\\" PORT=\\\"out2\\\"></TD></TR></TABLE></TD>\\n</TR>\\n</TABLE>\"), :style => \"solid\")), Node(\"n2\", OrderedCollections.OrderedDict{Symbol, Union{String, Catlab.Graphics.Graphviz.Html}}(:color => \"black\", :comment => \"s2\", :fillcolor => \"white\", :id => \"n2\", :label => Catlab.Graphics.Graphviz.Html(\"<TABLE BORDER=\\\"0\\\" CELLPADDING=\\\"0\\\" CELLSPACING=\\\"0\\\">\\n<TR>\\n<TD><TABLE BORDER=\\\"0\\\" CELLPADDING=\\\"0\\\" CELLSPACING=\\\"0\\\"><TR><TD HEIGHT=\\\"24\\\" WIDTH=\\\"0\\\" PORT=\\\"in1\\\"></TD></TR><TR><TD HEIGHT=\\\"24\\\" WIDTH=\\\"0\\\" PORT=\\\"in2\\\"></TD></TR></TABLE></TD>\\n<TD BORDER=\\\"1\\\" CELLPADDING=\\\"4\\\">s2</TD>\\n<TD><TABLE BORDER=\\\"0\\\" CELLPADDING=\\\"0\\\" CELLSPACING=\\\"0\\\"><TR><TD HEIGHT=\\\"24\\\" WIDTH=\\\"0\\\" PORT=\\\"out1\\\"></TD></TR><TR><TD HEIGHT=\\\"24\\\" WIDTH=\\\"0\\\" PORT=\\\"out2\\\"></TD></TR></TABLE></TD>\\n</TR>\\n</TABLE>\"), :style => \"solid\")), Edge(NodeID[NodeID(\"n1\", \"out1\", \"e\"), NodeID(\"n1\", \"in1\", \"w\")], OrderedCollections.OrderedDict{Symbol, Union{String, Catlab.Graphics.Graphviz.Html}}(:comment => \"1\", :id => \"e1\", :label => \"1\")), Edge(NodeID[NodeID(\"n2\", \"out1\", \"e\"), NodeID(\"n2\", \"in1\", \"w\")], OrderedCollections.OrderedDict{Symbol, Union{String, Catlab.Graphics.Graphviz.Html}}(:comment => \"0\", :id => \"e2\", :label => \"0\")), Edge(NodeID[NodeID(\"n1\", \"out2\", \"e\"), NodeID(\"n2\", \"in2\", \"w\")], OrderedCollections.OrderedDict{Symbol, Union{String, Catlab.Graphics.Graphviz.Html}}(:comment => \"0\", :id => \"e3\", :label => \"0\")), Edge(NodeID[NodeID(\"n2\", \"out2\", \"e\"), NodeID(\"n1\", \"in2\", \"w\")], OrderedCollections.OrderedDict{Symbol, Union{String, Catlab.Graphics.Graphviz.Html}}(:comment => \"1\", :id => \"e4\", :label => \"1\"))], OrderedCollections.OrderedDict{Symbol, Union{String, Catlab.Graphics.Graphviz.Html}}(:fontname => \"Serif\", :rankdir => \"LR\"), OrderedCollections.OrderedDict{Symbol, Union{String, Catlab.Graphics.Graphviz.Html}}(:fontname => \"Serif\", :shape => \"none\", :width => \"0\", :height => \"0\", :margin => \"0\"), OrderedCollections.OrderedDict{Symbol, Union{String, Catlab.Graphics.Graphviz.Html}}(:arrowsize => \"0.5\", :fontname => \"Serif\"))"
      ]
     },
     "execution_count": 12,
     "metadata": {},
     "output_type": "execute_result"
    }
   ],
   "source": [
    "# Construct given diagram\n",
    "diagram = WiringDiagram([], [])\n",
    "                        # State, Inputs, Outputs <- These dictate the inputs when evaluating the diagram\n",
    "s1 = add_box!(diagram, Box(:s1, [1, 0], [1, 0]))\n",
    "s2 = add_box!(diagram, Box(:s2, [0, 1], [0, 1]))\n",
    "\n",
    "add_wires!( diagram, [\n",
    "            (s1, 1) => (s1, 1)\n",
    "            (s2, 1) => (s2, 1)\n",
    "            (s1, 2) => (s2, 2)\n",
    "            (s2, 2) => (s1, 2) ])\n",
    "\n",
    "# Display\n",
    "show_diagram(diagram)"
   ]
  },
  {
   "cell_type": "code",
   "execution_count": 13,
   "id": "613b8c77",
   "metadata": {},
   "outputs": [],
   "source": [
    "# Construct a machine based on the diagram. Requires an initial state\n",
    "mach = MooreMachine(diagram, :s1);"
   ]
  },
  {
   "cell_type": "code",
   "execution_count": 14,
   "id": "fbf2190c",
   "metadata": {},
   "outputs": [
    {
     "name": "stdout",
     "output_type": "stream",
     "text": [
      "x | s\n",
      "-----\n",
      "1 | s1\n",
      "0 | s2\n",
      "0 | s2\n",
      "1 | s1\n",
      "1 | s1\n",
      "0 | s2\n"
     ]
    }
   ],
   "source": [
    "# Read diagram\n",
    "inputs = [1, 0, 0, 1, 1,0]                      # Define inputs\n",
    "sol = map( x -> eval_machine(mach, x), inputs ) # Evalute machine at inputs\n",
    "\n",
    "# Display\n",
    "printResult(inputs, sol)"
   ]
  },
  {
   "cell_type": "markdown",
   "id": "9caa73b2",
   "metadata": {},
   "source": [
    "---\n",
    "### 2. Machine with 3 nodes\n",
    "\n",
    "One can repeat the above steps with a more complicated graph. The functions defining the MooreMachine datatype work just as well for this more complex scenario."
   ]
  },
  {
   "cell_type": "markdown",
   "id": "f3f09129",
   "metadata": {},
   "source": [
    "<img src=\"https://www.allaboutcircuits.com/uploads/articles/state-diagram-circuit.jpg\" width=\"35%\"/>"
   ]
  },
  {
   "cell_type": "code",
   "execution_count": 15,
   "id": "0ad99d4c",
   "metadata": {},
   "outputs": [
    {
     "data": {
      "image/svg+xml": [
       "<?xml version=\"1.0\" encoding=\"UTF-8\" standalone=\"no\"?>\n",
       "<!DOCTYPE svg PUBLIC \"-//W3C//DTD SVG 1.1//EN\"\n",
       " \"http://www.w3.org/Graphics/SVG/1.1/DTD/svg11.dtd\">\n",
       "<!-- Generated by graphviz version 2.43.0 (0)\n",
       " -->\n",
       "<!-- Title: G Pages: 1 -->\n",
       "<svg width=\"260pt\" height=\"142pt\"\n",
       " viewBox=\"0.00 0.00 260.48 142.39\" xmlns=\"http://www.w3.org/2000/svg\" xmlns:xlink=\"http://www.w3.org/1999/xlink\">\n",
       "<g id=\"graph0\" class=\"graph\" transform=\"scale(1 1) rotate(0) translate(4 138.39)\">\n",
       "<title>G</title>\n",
       "<polygon fill=\"white\" stroke=\"transparent\" points=\"-4,4 -4,-138.39 256.48,-138.39 256.48,4 -4,4\"/>\n",
       "<!-- n1 -->\n",
       "<!-- initial -->\n",
       "<g id=\"n1\" class=\"node\">\n",
       "<title>n1</title>\n",
       "<polygon fill=\"none\" stroke=\"black\" points=\"7.38,-29.39 7.38,-101.39 59.38,-101.39 59.38,-29.39 7.38,-29.39\"/>\n",
       "<text text-anchor=\"start\" x=\"12.38\" y=\"-61.69\" font-family=\"Serif\" font-size=\"14.00\">initial</text>\n",
       "</g>\n",
       "<!-- n1&#45;&gt;n1 -->\n",
       "<!-- 0 -->\n",
       "<g id=\"e1\" class=\"edge\">\n",
       "<title>n1:e&#45;&gt;n1:w</title>\n",
       "<path fill=\"none\" stroke=\"black\" d=\"M59.38,-83.39C71.38,-101.39 71.38,-119.39 33.38,-119.39 -1.35,-119.39 -4.34,-109.37 4.57,-93.9\"/>\n",
       "<polygon fill=\"black\" stroke=\"black\" points=\"6.22,-94.56 7.38,-89.39 3.25,-92.71 6.22,-94.56\"/>\n",
       "<text text-anchor=\"middle\" x=\"33.38\" y=\"-123.19\" font-family=\"Serif\" font-size=\"14.00\">0</text>\n",
       "</g>\n",
       "<!-- n2 -->\n",
       "<!-- active -->\n",
       "<g id=\"n2\" class=\"node\">\n",
       "<title>n2</title>\n",
       "<polygon fill=\"none\" stroke=\"black\" points=\"105.88,-47.39 105.88,-95.39 158.88,-95.39 158.88,-47.39 105.88,-47.39\"/>\n",
       "<text text-anchor=\"start\" x=\"110.88\" y=\"-67.69\" font-family=\"Serif\" font-size=\"14.00\">active</text>\n",
       "</g>\n",
       "<!-- n1&#45;&gt;n2 -->\n",
       "<!-- 1 -->\n",
       "<g id=\"e3\" class=\"edge\">\n",
       "<title>n1:e&#45;&gt;n2:w</title>\n",
       "<path fill=\"none\" stroke=\"black\" d=\"M59.38,-47.39C71.83,-47.39 76.29,-42.74 87.38,-48.39 96.96,-53.27 94.12,-65.84 100.23,-70.02\"/>\n",
       "<polygon fill=\"black\" stroke=\"black\" points=\"100.1,-71.8 105.38,-71.39 101,-68.41 100.1,-71.8\"/>\n",
       "<text text-anchor=\"middle\" x=\"82.38\" y=\"-52.19\" font-family=\"Serif\" font-size=\"14.00\">1</text>\n",
       "</g>\n",
       "<!-- n2&#45;&gt;n1 -->\n",
       "<!-- 0 -->\n",
       "<g id=\"e4\" class=\"edge\">\n",
       "<title>n2:e&#45;&gt;n1:w</title>\n",
       "<path fill=\"none\" stroke=\"black\" d=\"M159.88,-83.39C165.23,-83.39 162.71,-91.65 158.88,-95.39 132.73,-120.96 26.13,-119.63 7.38,-101.39 2.9,-97.03 -0.07,-77.51 2.66,-69.18\"/>\n",
       "<polygon fill=\"black\" stroke=\"black\" points=\"4.12,-70.18 6.38,-65.39 1.63,-67.73 4.12,-70.18\"/>\n",
       "<text text-anchor=\"middle\" x=\"82.38\" y=\"-118.19\" font-family=\"Serif\" font-size=\"14.00\">0</text>\n",
       "</g>\n",
       "<!-- n3 -->\n",
       "<!-- wait -->\n",
       "<g id=\"n3\" class=\"node\">\n",
       "<title>n3</title>\n",
       "<polygon fill=\"none\" stroke=\"black\" points=\"204.88,-21.39 204.88,-69.39 245.88,-69.39 245.88,-21.39 204.88,-21.39\"/>\n",
       "<text text-anchor=\"start\" x=\"209.88\" y=\"-41.69\" font-family=\"Serif\" font-size=\"14.00\">wait</text>\n",
       "</g>\n",
       "<!-- n2&#45;&gt;n3 -->\n",
       "<!-- 1 -->\n",
       "<g id=\"e5\" class=\"edge\">\n",
       "<title>n2:e&#45;&gt;n3:w</title>\n",
       "<path fill=\"none\" stroke=\"black\" d=\"M158.38,-59.39C180.03,-59.39 180.9,-37.3 199.3,-33.84\"/>\n",
       "<polygon fill=\"black\" stroke=\"black\" points=\"199.56,-35.58 204.38,-33.39 199.25,-32.09 199.56,-35.58\"/>\n",
       "<text text-anchor=\"middle\" x=\"181.38\" y=\"-55.19\" font-family=\"Serif\" font-size=\"14.00\">1</text>\n",
       "</g>\n",
       "<!-- n3&#45;&gt;n1 -->\n",
       "<!-- 0 -->\n",
       "<g id=\"e6\" class=\"edge\">\n",
       "<title>n3:e&#45;&gt;n1:w</title>\n",
       "<path fill=\"none\" stroke=\"black\" d=\"M246.88,-33.39C252.23,-33.39 249.82,-25.02 245.88,-21.39 232.31,-8.9 222.83,-21.21 204.38,-21.39 116.76,-22.28 70.02,31.88 7.38,-29.39 5.35,-31.38 3.68,-34.64 3.37,-37.26\"/>\n",
       "<polygon fill=\"black\" stroke=\"black\" points=\"2.02,-38.38 6.38,-41.39 4.85,-36.32 2.02,-38.38\"/>\n",
       "<text text-anchor=\"middle\" x=\"131.88\" y=\"-21.19\" font-family=\"Serif\" font-size=\"14.00\">0</text>\n",
       "</g>\n",
       "<!-- n3&#45;&gt;n3 -->\n",
       "<!-- 1 -->\n",
       "<g id=\"e2\" class=\"edge\">\n",
       "<title>n3:e&#45;&gt;n3:w</title>\n",
       "<path fill=\"none\" stroke=\"black\" d=\"M245.88,-57.39C256.38,-71.39 256.38,-87.39 225.38,-87.39 197.53,-87.39 194.7,-74.48 202.03,-61.7\"/>\n",
       "<polygon fill=\"black\" stroke=\"black\" points=\"203.58,-62.53 204.88,-57.39 200.66,-60.6 203.58,-62.53\"/>\n",
       "<text text-anchor=\"middle\" x=\"224.88\" y=\"-91.19\" font-family=\"Serif\" font-size=\"14.00\">1</text>\n",
       "</g>\n",
       "</g>\n",
       "</svg>\n"
      ],
      "text/plain": [
       "Graph(\"G\", true, \"dot\", Statement[Node(\"n1\", OrderedCollections.OrderedDict{Symbol, Union{String, Catlab.Graphics.Graphviz.Html}}(:color => \"black\", :comment => \"initial\", :fillcolor => \"white\", :id => \"n1\", :label => Catlab.Graphics.Graphviz.Html(\"<TABLE BORDER=\\\"0\\\" CELLPADDING=\\\"0\\\" CELLSPACING=\\\"0\\\">\\n<TR>\\n<TD><TABLE BORDER=\\\"0\\\" CELLPADDING=\\\"0\\\" CELLSPACING=\\\"0\\\"><TR><TD HEIGHT=\\\"24\\\" WIDTH=\\\"0\\\" PORT=\\\"in1\\\"></TD></TR><TR><TD HEIGHT=\\\"24\\\" WIDTH=\\\"0\\\" PORT=\\\"in2\\\"></TD></TR><TR><TD HEIGHT=\\\"24\\\" WIDTH=\\\"0\\\" PORT=\\\"in3\\\"></TD></TR></TABLE></TD>\\n<TD BORDER=\\\"1\\\" CELLPADDING=\\\"4\\\">initial</TD>\\n<TD><TABLE BORDER=\\\"0\\\" CELLPADDING=\\\"0\\\" CELLSPACING=\\\"0\\\"><TR><TD HEIGHT=\\\"24\\\" WIDTH=\\\"0\\\" PORT=\\\"out1\\\"></TD></TR><TR><TD HEIGHT=\\\"24\\\" WIDTH=\\\"0\\\" PORT=\\\"out2\\\"></TD></TR></TABLE></TD>\\n</TR>\\n</TABLE>\"), :style => \"solid\")), Node(\"n2\", OrderedCollections.OrderedDict{Symbol, Union{String, Catlab.Graphics.Graphviz.Html}}(:color => \"black\", :comment => \"active\", :fillcolor => \"white\", :id => \"n2\", :label => Catlab.Graphics.Graphviz.Html(\"<TABLE BORDER=\\\"0\\\" CELLPADDING=\\\"0\\\" CELLSPACING=\\\"0\\\">\\n<TR>\\n<TD><TABLE BORDER=\\\"0\\\" CELLPADDING=\\\"0\\\" CELLSPACING=\\\"0\\\"><TR><TD HEIGHT=\\\"24\\\" WIDTH=\\\"0\\\" PORT=\\\"in1\\\"></TD></TR></TABLE></TD>\\n<TD BORDER=\\\"1\\\" CELLPADDING=\\\"4\\\">active</TD>\\n<TD><TABLE BORDER=\\\"0\\\" CELLPADDING=\\\"0\\\" CELLSPACING=\\\"0\\\"><TR><TD HEIGHT=\\\"24\\\" WIDTH=\\\"0\\\" PORT=\\\"out1\\\"></TD></TR><TR><TD HEIGHT=\\\"24\\\" WIDTH=\\\"0\\\" PORT=\\\"out2\\\"></TD></TR></TABLE></TD>\\n</TR>\\n</TABLE>\"), :style => \"solid\")), Node(\"n3\", OrderedCollections.OrderedDict{Symbol, Union{String, Catlab.Graphics.Graphviz.Html}}(:color => \"black\", :comment => \"wait\", :fillcolor => \"white\", :id => \"n3\", :label => Catlab.Graphics.Graphviz.Html(\"<TABLE BORDER=\\\"0\\\" CELLPADDING=\\\"0\\\" CELLSPACING=\\\"0\\\">\\n<TR>\\n<TD><TABLE BORDER=\\\"0\\\" CELLPADDING=\\\"0\\\" CELLSPACING=\\\"0\\\"><TR><TD HEIGHT=\\\"24\\\" WIDTH=\\\"0\\\" PORT=\\\"in1\\\"></TD></TR><TR><TD HEIGHT=\\\"24\\\" WIDTH=\\\"0\\\" PORT=\\\"in2\\\"></TD></TR></TABLE></TD>\\n<TD BORDER=\\\"1\\\" CELLPADDING=\\\"4\\\">wait</TD>\\n<TD><TABLE BORDER=\\\"0\\\" CELLPADDING=\\\"0\\\" CELLSPACING=\\\"0\\\"><TR><TD HEIGHT=\\\"24\\\" WIDTH=\\\"0\\\" PORT=\\\"out1\\\"></TD></TR><TR><TD HEIGHT=\\\"24\\\" WIDTH=\\\"0\\\" PORT=\\\"out2\\\"></TD></TR></TABLE></TD>\\n</TR>\\n</TABLE>\"), :style => \"solid\")), Edge(NodeID[NodeID(\"n1\", \"out1\", \"e\"), NodeID(\"n1\", \"in1\", \"w\")], OrderedCollections.OrderedDict{Symbol, Union{String, Catlab.Graphics.Graphviz.Html}}(:comment => \"0\", :id => \"e1\", :label => \"0\")), Edge(NodeID[NodeID(\"n3\", \"out1\", \"e\"), NodeID(\"n3\", \"in1\", \"w\")], OrderedCollections.OrderedDict{Symbol, Union{String, Catlab.Graphics.Graphviz.Html}}(:comment => \"1\", :id => \"e2\", :label => \"1\")), Edge(NodeID[NodeID(\"n1\", \"out2\", \"e\"), NodeID(\"n2\", \"in1\", \"w\")], OrderedCollections.OrderedDict{Symbol, Union{String, Catlab.Graphics.Graphviz.Html}}(:comment => \"1\", :id => \"e3\", :label => \"1\")), Edge(NodeID[NodeID(\"n2\", \"out1\", \"e\"), NodeID(\"n1\", \"in2\", \"w\")], OrderedCollections.OrderedDict{Symbol, Union{String, Catlab.Graphics.Graphviz.Html}}(:comment => \"0\", :id => \"e4\", :label => \"0\")), Edge(NodeID[NodeID(\"n2\", \"out2\", \"e\"), NodeID(\"n3\", \"in2\", \"w\")], OrderedCollections.OrderedDict{Symbol, Union{String, Catlab.Graphics.Graphviz.Html}}(:comment => \"1\", :id => \"e5\", :label => \"1\")), Edge(NodeID[NodeID(\"n3\", \"out2\", \"e\"), NodeID(\"n1\", \"in3\", \"w\")], OrderedCollections.OrderedDict{Symbol, Union{String, Catlab.Graphics.Graphviz.Html}}(:comment => \"0\", :id => \"e6\", :label => \"0\"))], OrderedCollections.OrderedDict{Symbol, Union{String, Catlab.Graphics.Graphviz.Html}}(:fontname => \"Serif\", :rankdir => \"LR\"), OrderedCollections.OrderedDict{Symbol, Union{String, Catlab.Graphics.Graphviz.Html}}(:fontname => \"Serif\", :shape => \"none\", :width => \"0\", :height => \"0\", :margin => \"0\"), OrderedCollections.OrderedDict{Symbol, Union{String, Catlab.Graphics.Graphviz.Html}}(:arrowsize => \"0.5\", :fontname => \"Serif\"))"
      ]
     },
     "execution_count": 15,
     "metadata": {},
     "output_type": "execute_result"
    }
   ],
   "source": [
    "# Construct diagram\n",
    "diagram = WiringDiagram([], [])\n",
    "                            # Value, Inputs, Outputs\n",
    "s1 = add_box!(diagram, Box(:initial, [0, 0, 0], [0, 1]))\n",
    "s2 = add_box!(diagram, Box(:active, [1], [0, 1]))\n",
    "s3 = add_box!(diagram, Box(:wait, [1, 1], [1, 0]))\n",
    "\n",
    "add_wires!( diagram, [\n",
    "            (s1, 1) => (s1, 1)\n",
    "            (s3, 1) => (s3, 1)\n",
    "            (s1, 2) => (s2, 1)\n",
    "            (s2, 1) => (s1, 2)\n",
    "            (s2, 2) => (s3, 2)\n",
    "            (s3, 2) => (s1, 3) ])   \n",
    "\n",
    "# Display\n",
    "show_diagram(diagram)"
   ]
  },
  {
   "cell_type": "code",
   "execution_count": 16,
   "id": "ad88a2dc",
   "metadata": {},
   "outputs": [
    {
     "name": "stdout",
     "output_type": "stream",
     "text": [
      "x | s\n",
      "-----\n",
      "1 | active\n",
      "0 | initial\n",
      "1 | active\n",
      "1 | wait\n",
      "0 | initial\n",
      "1 | active\n"
     ]
    }
   ],
   "source": [
    "# Construct machine\n",
    "mach = MooreMachine(diagram, :initial);\n",
    "\n",
    "# Read diagram\n",
    "inputs = [1, 0 ,1, 1, 0, 1]\n",
    "sol = map( x -> eval_machine(mach, x), inputs )\n",
    "\n",
    "# Display\n",
    "printResult(inputs, sol)"
   ]
  },
  {
   "cell_type": "markdown",
   "id": "1ecec28f",
   "metadata": {},
   "source": [
    "---\n",
    "### 3. Machine with 4 nodes\n",
    "One can continue to increase the complexity of the diagram and it can be read without issue. This is because the required information is encoded in the diagram itself."
   ]
  },
  {
   "cell_type": "markdown",
   "id": "0949c70e",
   "metadata": {},
   "source": [
    "<img src=\"https://scanftree.com/automata/images/DFA-machine-for-counting-baa.png\" width=\"45%\"/>"
   ]
  },
  {
   "cell_type": "code",
   "execution_count": 17,
   "id": "06572dcc",
   "metadata": {},
   "outputs": [
    {
     "data": {
      "image/svg+xml": [
       "<?xml version=\"1.0\" encoding=\"UTF-8\" standalone=\"no\"?>\n",
       "<!DOCTYPE svg PUBLIC \"-//W3C//DTD SVG 1.1//EN\"\n",
       " \"http://www.w3.org/Graphics/SVG/1.1/DTD/svg11.dtd\">\n",
       "<!-- Generated by graphviz version 2.43.0 (0)\n",
       " -->\n",
       "<!-- Title: G Pages: 1 -->\n",
       "<svg width=\"239pt\" height=\"222pt\"\n",
       " viewBox=\"0.00 0.00 238.51 222.45\" xmlns=\"http://www.w3.org/2000/svg\" xmlns:xlink=\"http://www.w3.org/1999/xlink\">\n",
       "<g id=\"graph0\" class=\"graph\" transform=\"scale(1 1) rotate(0) translate(4 218.45)\">\n",
       "<title>G</title>\n",
       "<polygon fill=\"white\" stroke=\"transparent\" points=\"-4,4 -4,-218.45 234.51,-218.45 234.51,4 -4,4\"/>\n",
       "<!-- n1 -->\n",
       "<!-- A -->\n",
       "<g id=\"n1\" class=\"node\">\n",
       "<title>n1</title>\n",
       "<polygon fill=\"none\" stroke=\"black\" points=\"5.31,-75.45 5.31,-123.45 25.31,-123.45 25.31,-75.45 5.31,-75.45\"/>\n",
       "<text text-anchor=\"start\" x=\"10.31\" y=\"-95.75\" font-family=\"Serif\" font-size=\"14.00\">A</text>\n",
       "</g>\n",
       "<!-- n1&#45;&gt;n1 -->\n",
       "<!-- a -->\n",
       "<g id=\"e1\" class=\"edge\">\n",
       "<title>n1:e&#45;&gt;n1:w</title>\n",
       "<path fill=\"none\" stroke=\"black\" d=\"M25.31,-111.45C33.31,-125.45 33.31,-141.45 15.31,-141.45 -0.72,-141.45 -2.47,-128.76 2.98,-116.09\"/>\n",
       "<polygon fill=\"black\" stroke=\"black\" points=\"4.64,-116.71 5.31,-111.45 1.51,-115.14 4.64,-116.71\"/>\n",
       "<text text-anchor=\"middle\" x=\"15.31\" y=\"-145.25\" font-family=\"Serif\" font-size=\"14.00\">a</text>\n",
       "</g>\n",
       "<!-- n2 -->\n",
       "<!-- B -->\n",
       "<g id=\"n2\" class=\"node\">\n",
       "<title>n2</title>\n",
       "<polygon fill=\"none\" stroke=\"black\" points=\"71.81,-85.45 71.81,-181.45 92.81,-181.45 92.81,-85.45 71.81,-85.45\"/>\n",
       "<text text-anchor=\"start\" x=\"76.81\" y=\"-129.75\" font-family=\"Serif\" font-size=\"14.00\">B</text>\n",
       "</g>\n",
       "<!-- n1&#45;&gt;n2 -->\n",
       "<!-- b -->\n",
       "<g id=\"e2\" class=\"edge\">\n",
       "<title>n1:e&#45;&gt;n2:w</title>\n",
       "<path fill=\"none\" stroke=\"black\" d=\"M25.31,-87.45C56.28,-87.45 40.55,-138.86 66.05,-144.88\"/>\n",
       "<polygon fill=\"black\" stroke=\"black\" points=\"66.15,-146.65 71.31,-145.45 66.53,-143.17 66.15,-146.65\"/>\n",
       "<text text-anchor=\"middle\" x=\"48.31\" y=\"-136.25\" font-family=\"Serif\" font-size=\"14.00\">b</text>\n",
       "</g>\n",
       "<!-- n2&#45;&gt;n2 -->\n",
       "<!-- b -->\n",
       "<g id=\"e3\" class=\"edge\">\n",
       "<title>n2:e&#45;&gt;n2:w</title>\n",
       "<path fill=\"none\" stroke=\"black\" d=\"M92.81,-157.45C100.81,-179.45 100.81,-199.45 82.31,-199.45 65.54,-199.45 63.97,-189.6 69.78,-174.35\"/>\n",
       "<polygon fill=\"black\" stroke=\"black\" points=\"71.51,-174.74 71.81,-169.45 68.28,-173.4 71.51,-174.74\"/>\n",
       "<text text-anchor=\"middle\" x=\"81.81\" y=\"-203.25\" font-family=\"Serif\" font-size=\"14.00\">b</text>\n",
       "</g>\n",
       "<!-- n3 -->\n",
       "<!-- C -->\n",
       "<g id=\"n3\" class=\"node\">\n",
       "<title>n3</title>\n",
       "<polygon fill=\"none\" stroke=\"black\" points=\"138.81,-85.45 138.81,-133.45 159.81,-133.45 159.81,-85.45 138.81,-85.45\"/>\n",
       "<text text-anchor=\"start\" x=\"143.81\" y=\"-105.75\" font-family=\"Serif\" font-size=\"14.00\">C</text>\n",
       "</g>\n",
       "<!-- n2&#45;&gt;n3 -->\n",
       "<!-- a -->\n",
       "<g id=\"e4\" class=\"edge\">\n",
       "<title>n2:e&#45;&gt;n3:w</title>\n",
       "<path fill=\"none\" stroke=\"black\" d=\"M92.31,-109.45C100.74,-109.45 101.99,-104.8 110.31,-103.45 114.7,-102.74 115.92,-102.74 120.31,-103.45 126.55,-104.47 128.81,-107.33 133.11,-108.71\"/>\n",
       "<polygon fill=\"black\" stroke=\"black\" points=\"133.11,-110.47 138.31,-109.45 133.61,-107.01 133.11,-110.47\"/>\n",
       "<text text-anchor=\"middle\" x=\"115.31\" y=\"-107.25\" font-family=\"Serif\" font-size=\"14.00\">a</text>\n",
       "</g>\n",
       "<!-- n3&#45;&gt;n2 -->\n",
       "<!-- b -->\n",
       "<g id=\"e6\" class=\"edge\">\n",
       "<title>n3:e&#45;&gt;n2:w</title>\n",
       "<path fill=\"none\" stroke=\"black\" d=\"M160.81,-97.45C166.16,-97.45 163.75,-89.08 159.81,-85.45 152.78,-78.98 146.53,-80.57 138.31,-85.45 135.26,-87.26 132.59,-131.68 110.31,-118.45 95.94,-109.92 106.68,-93.98 92.31,-85.45 84.48,-80.8 78.34,-79.1 71.81,-85.45 67.33,-89.81 64.35,-109.33 67.08,-117.66\"/>\n",
       "<polygon fill=\"black\" stroke=\"black\" points=\"66.06,-119.12 70.81,-121.45 68.55,-116.66 66.06,-119.12\"/>\n",
       "<text text-anchor=\"middle\" x=\"115.31\" y=\"-124.25\" font-family=\"Serif\" font-size=\"14.00\">b</text>\n",
       "</g>\n",
       "<!-- n4 -->\n",
       "<!-- D -->\n",
       "<g id=\"n4\" class=\"node\">\n",
       "<title>n4</title>\n",
       "<polygon fill=\"none\" stroke=\"black\" points=\"204.31,-3.45 204.31,-51.45 226.31,-51.45 226.31,-3.45 204.31,-3.45\"/>\n",
       "<text text-anchor=\"start\" x=\"209.31\" y=\"-23.75\" font-family=\"Serif\" font-size=\"14.00\">D</text>\n",
       "</g>\n",
       "<!-- n3&#45;&gt;n4 -->\n",
       "<!-- a -->\n",
       "<g id=\"e5\" class=\"edge\">\n",
       "<title>n3:e&#45;&gt;n4:w</title>\n",
       "<path fill=\"none\" stroke=\"black\" d=\"M159.31,-121.45C203.82,-121.45 161.57,-34.65 199.3,-27.87\"/>\n",
       "<polygon fill=\"black\" stroke=\"black\" points=\"199.47,-29.61 204.31,-27.45 199.18,-26.13 199.47,-29.61\"/>\n",
       "<text text-anchor=\"middle\" x=\"181.81\" y=\"-115.25\" font-family=\"Serif\" font-size=\"14.00\">a</text>\n",
       "</g>\n",
       "<!-- n4&#45;&gt;n1 -->\n",
       "<!-- a -->\n",
       "<g id=\"e7\" class=\"edge\">\n",
       "<title>n4:e&#45;&gt;n1:w</title>\n",
       "<path fill=\"none\" stroke=\"black\" d=\"M227.31,-39.45C232.66,-39.45 230.05,-47.62 226.31,-51.45 157.33,-122.18 74.29,-4.72 5.31,-75.45 3.32,-77.49 1.66,-80.75 1.33,-83.36\"/>\n",
       "<polygon fill=\"black\" stroke=\"black\" points=\"-0.05,-84.44 4.31,-87.45 2.78,-82.38 -0.05,-84.44\"/>\n",
       "<text text-anchor=\"middle\" x=\"115.31\" y=\"-67.25\" font-family=\"Serif\" font-size=\"14.00\">a</text>\n",
       "</g>\n",
       "<!-- n4&#45;&gt;n2 -->\n",
       "<!-- b -->\n",
       "<g id=\"e8\" class=\"edge\">\n",
       "<title>n4:e&#45;&gt;n2:w</title>\n",
       "<path fill=\"none\" stroke=\"black\" d=\"M227.31,-15.45C232.66,-15.45 230.25,-7.08 226.31,-3.45 219.11,3.17 213.96,-1.86 204.31,-3.45 160.77,-10.66 146.19,-9.76 110.31,-35.45 63.34,-69.08 58.75,-90.1 65.85,-95.85\"/>\n",
       "<polygon fill=\"black\" stroke=\"black\" points=\"65.51,-97.58 70.81,-97.45 66.59,-94.25 65.51,-97.58\"/>\n",
       "<text text-anchor=\"middle\" x=\"148.81\" y=\"-22.25\" font-family=\"Serif\" font-size=\"14.00\">b</text>\n",
       "</g>\n",
       "</g>\n",
       "</svg>\n"
      ],
      "text/plain": [
       "Graph(\"G\", true, \"dot\", Statement[Node(\"n1\", OrderedCollections.OrderedDict{Symbol, Union{String, Catlab.Graphics.Graphviz.Html}}(:color => \"black\", :comment => \"A\", :fillcolor => \"white\", :id => \"n1\", :label => Catlab.Graphics.Graphviz.Html(\"<TABLE BORDER=\\\"0\\\" CELLPADDING=\\\"0\\\" CELLSPACING=\\\"0\\\">\\n<TR>\\n<TD><TABLE BORDER=\\\"0\\\" CELLPADDING=\\\"0\\\" CELLSPACING=\\\"0\\\"><TR><TD HEIGHT=\\\"24\\\" WIDTH=\\\"0\\\" PORT=\\\"in1\\\"></TD></TR><TR><TD HEIGHT=\\\"24\\\" WIDTH=\\\"0\\\" PORT=\\\"in2\\\"></TD></TR></TABLE></TD>\\n<TD BORDER=\\\"1\\\" CELLPADDING=\\\"4\\\">A</TD>\\n<TD><TABLE BORDER=\\\"0\\\" CELLPADDING=\\\"0\\\" CELLSPACING=\\\"0\\\"><TR><TD HEIGHT=\\\"24\\\" WIDTH=\\\"0\\\" PORT=\\\"out1\\\"></TD></TR><TR><TD HEIGHT=\\\"24\\\" WIDTH=\\\"0\\\" PORT=\\\"out2\\\"></TD></TR></TABLE></TD>\\n</TR>\\n</TABLE>\"), :style => \"solid\")), Node(\"n2\", OrderedCollections.OrderedDict{Symbol, Union{String, Catlab.Graphics.Graphviz.Html}}(:color => \"black\", :comment => \"B\", :fillcolor => \"white\", :id => \"n2\", :label => Catlab.Graphics.Graphviz.Html(\"<TABLE BORDER=\\\"0\\\" CELLPADDING=\\\"0\\\" CELLSPACING=\\\"0\\\">\\n<TR>\\n<TD><TABLE BORDER=\\\"0\\\" CELLPADDING=\\\"0\\\" CELLSPACING=\\\"0\\\"><TR><TD HEIGHT=\\\"24\\\" WIDTH=\\\"0\\\" PORT=\\\"in1\\\"></TD></TR><TR><TD HEIGHT=\\\"24\\\" WIDTH=\\\"0\\\" PORT=\\\"in2\\\"></TD></TR><TR><TD HEIGHT=\\\"24\\\" WIDTH=\\\"0\\\" PORT=\\\"in3\\\"></TD></TR><TR><TD HEIGHT=\\\"24\\\" WIDTH=\\\"0\\\" PORT=\\\"in4\\\"></TD></TR></TABLE></TD>\\n<TD BORDER=\\\"1\\\" CELLPADDING=\\\"4\\\">B</TD>\\n<TD><TABLE BORDER=\\\"0\\\" CELLPADDING=\\\"0\\\" CELLSPACING=\\\"0\\\"><TR><TD HEIGHT=\\\"24\\\" WIDTH=\\\"0\\\" PORT=\\\"out1\\\"></TD></TR><TR><TD HEIGHT=\\\"24\\\" WIDTH=\\\"0\\\" PORT=\\\"out2\\\"></TD></TR></TABLE></TD>\\n</TR>\\n</TABLE>\"), :style => \"solid\")), Node(\"n3\", OrderedCollections.OrderedDict{Symbol, Union{String, Catlab.Graphics.Graphviz.Html}}(:color => \"black\", :comment => \"C\", :fillcolor => \"white\", :id => \"n3\", :label => Catlab.Graphics.Graphviz.Html(\"<TABLE BORDER=\\\"0\\\" CELLPADDING=\\\"0\\\" CELLSPACING=\\\"0\\\">\\n<TR>\\n<TD><TABLE BORDER=\\\"0\\\" CELLPADDING=\\\"0\\\" CELLSPACING=\\\"0\\\"><TR><TD HEIGHT=\\\"24\\\" WIDTH=\\\"0\\\" PORT=\\\"in1\\\"></TD></TR></TABLE></TD>\\n<TD BORDER=\\\"1\\\" CELLPADDING=\\\"4\\\">C</TD>\\n<TD><TABLE BORDER=\\\"0\\\" CELLPADDING=\\\"0\\\" CELLSPACING=\\\"0\\\"><TR><TD HEIGHT=\\\"24\\\" WIDTH=\\\"0\\\" PORT=\\\"out1\\\"></TD></TR><TR><TD HEIGHT=\\\"24\\\" WIDTH=\\\"0\\\" PORT=\\\"out2\\\"></TD></TR></TABLE></TD>\\n</TR>\\n</TABLE>\"), :style => \"solid\")), Node(\"n4\", OrderedCollections.OrderedDict{Symbol, Union{String, Catlab.Graphics.Graphviz.Html}}(:color => \"black\", :comment => \"D\", :fillcolor => \"white\", :id => \"n4\", :label => Catlab.Graphics.Graphviz.Html(\"<TABLE BORDER=\\\"0\\\" CELLPADDING=\\\"0\\\" CELLSPACING=\\\"0\\\">\\n<TR>\\n<TD><TABLE BORDER=\\\"0\\\" CELLPADDING=\\\"0\\\" CELLSPACING=\\\"0\\\"><TR><TD HEIGHT=\\\"24\\\" WIDTH=\\\"0\\\" PORT=\\\"in1\\\"></TD></TR></TABLE></TD>\\n<TD BORDER=\\\"1\\\" CELLPADDING=\\\"4\\\">D</TD>\\n<TD><TABLE BORDER=\\\"0\\\" CELLPADDING=\\\"0\\\" CELLSPACING=\\\"0\\\"><TR><TD HEIGHT=\\\"24\\\" WIDTH=\\\"0\\\" PORT=\\\"out1\\\"></TD></TR><TR><TD HEIGHT=\\\"24\\\" WIDTH=\\\"0\\\" PORT=\\\"out2\\\"></TD></TR></TABLE></TD>\\n</TR>\\n</TABLE>\"), :style => \"solid\")), Edge(NodeID[NodeID(\"n1\", \"out1\", \"e\"), NodeID(\"n1\", \"in1\", \"w\")], OrderedCollections.OrderedDict{Symbol, Union{String, Catlab.Graphics.Graphviz.Html}}(:comment => \"a\", :id => \"e1\", :label => \"a\")), Edge(NodeID[NodeID(\"n1\", \"out2\", \"e\"), NodeID(\"n2\", \"in2\", \"w\")], OrderedCollections.OrderedDict{Symbol, Union{String, Catlab.Graphics.Graphviz.Html}}(:comment => \"b\", :id => \"e2\", :label => \"b\")), Edge(NodeID[NodeID(\"n2\", \"out1\", \"e\"), NodeID(\"n2\", \"in1\", \"w\")], OrderedCollections.OrderedDict{Symbol, Union{String, Catlab.Graphics.Graphviz.Html}}(:comment => \"b\", :id => \"e3\", :label => \"b\")), Edge(NodeID[NodeID(\"n2\", \"out2\", \"e\"), NodeID(\"n3\", \"in1\", \"w\")], OrderedCollections.OrderedDict{Symbol, Union{String, Catlab.Graphics.Graphviz.Html}}(:comment => \"a\", :id => \"e4\", :label => \"a\")), Edge(NodeID[NodeID(\"n3\", \"out1\", \"e\"), NodeID(\"n4\", \"in1\", \"w\")], OrderedCollections.OrderedDict{Symbol, Union{String, Catlab.Graphics.Graphviz.Html}}(:comment => \"a\", :id => \"e5\", :label => \"a\")), Edge(NodeID[NodeID(\"n3\", \"out2\", \"e\"), NodeID(\"n2\", \"in3\", \"w\")], OrderedCollections.OrderedDict{Symbol, Union{String, Catlab.Graphics.Graphviz.Html}}(:comment => \"b\", :id => \"e6\", :label => \"b\")), Edge(NodeID[NodeID(\"n4\", \"out1\", \"e\"), NodeID(\"n1\", \"in2\", \"w\")], OrderedCollections.OrderedDict{Symbol, Union{String, Catlab.Graphics.Graphviz.Html}}(:comment => \"a\", :id => \"e7\", :label => \"a\")), Edge(NodeID[NodeID(\"n4\", \"out2\", \"e\"), NodeID(\"n2\", \"in4\", \"w\")], OrderedCollections.OrderedDict{Symbol, Union{String, Catlab.Graphics.Graphviz.Html}}(:comment => \"b\", :id => \"e8\", :label => \"b\"))], OrderedCollections.OrderedDict{Symbol, Union{String, Catlab.Graphics.Graphviz.Html}}(:fontname => \"Serif\", :rankdir => \"LR\"), OrderedCollections.OrderedDict{Symbol, Union{String, Catlab.Graphics.Graphviz.Html}}(:fontname => \"Serif\", :shape => \"none\", :width => \"0\", :height => \"0\", :margin => \"0\"), OrderedCollections.OrderedDict{Symbol, Union{String, Catlab.Graphics.Graphviz.Html}}(:arrowsize => \"0.5\", :fontname => \"Serif\"))"
      ]
     },
     "execution_count": 17,
     "metadata": {},
     "output_type": "execute_result"
    }
   ],
   "source": [
    "# Construct diagram\n",
    "diagram = WiringDiagram([], [])\n",
    "                            # Value, Inputs, Outputs\n",
    "s1 = add_box!(diagram, Box(:A, [:a, :a], [:a, :b]))\n",
    "s2 = add_box!(diagram, Box(:B, [:b, :b, :b, :b], [:b, :a]))\n",
    "s3 = add_box!(diagram, Box(:C, [:a], [:a, :b]))\n",
    "s4 = add_box!(diagram, Box(:D, [:a], [:a, :b]))\n",
    "\n",
    "add_wires!( diagram, [\n",
    "            (s1, 1) => (s1, 1)\n",
    "            (s1, 2) => (s2, 2)\n",
    "            (s2, 1) => (s2, 1)\n",
    "            (s2, 2) => (s3, 1)\n",
    "            (s3, 1) => (s4, 1)\n",
    "            (s3, 2) => (s2, 3)\n",
    "            (s4, 1) => (s1, 2)\n",
    "            (s4, 2) => (s2, 4) ]) \n",
    "\n",
    "# Display\n",
    "show_diagram(diagram)"
   ]
  },
  {
   "cell_type": "code",
   "execution_count": 18,
   "id": "c053b7a8",
   "metadata": {},
   "outputs": [
    {
     "name": "stdout",
     "output_type": "stream",
     "text": [
      "x | s\n",
      "-----\n",
      "a | A\n",
      "b | B\n",
      "b | B\n",
      "a | C\n",
      "a | D\n",
      "a | A\n"
     ]
    }
   ],
   "source": [
    "# Construct machine\n",
    "mach = MooreMachine(diagram, :A);\n",
    "\n",
    "# Read diagram\n",
    "inputs = [:a, :b, :b, :a, :a, :a]\n",
    "sol = map( x -> eval_machine(mach, x), inputs )\n",
    "\n",
    "# Display\n",
    "printResult(inputs, sol)"
   ]
  }
 ],
 "metadata": {
  "@webio": {
   "lastCommId": null,
   "lastKernelId": null
  },
  "kernelspec": {
   "display_name": "Julia 1.7.1",
   "language": "julia",
   "name": "julia-1.7"
  },
  "language_info": {
   "file_extension": ".jl",
   "mimetype": "application/julia",
   "name": "julia",
   "version": "1.7.1"
  }
 },
 "nbformat": 4,
 "nbformat_minor": 5
}
